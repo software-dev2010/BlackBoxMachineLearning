{
  "nbformat": 4,
  "nbformat_minor": 0,
  "metadata": {
    "colab": {
      "name": "ProiectBlackBox.ipynb",
      "provenance": [],
      "mount_file_id": "1zqZsD_8-Kt2FJlmPznnK_vWm170Vt_Tz",
      "authorship_tag": "ABX9TyM4JXtt/gzL9t9tf0OcCNqh",
      "include_colab_link": true
    },
    "kernelspec": {
      "name": "python3",
      "display_name": "Python 3"
    },
    "language_info": {
      "name": "python"
    }
  },
  "cells": [
    {
      "cell_type": "markdown",
      "metadata": {
        "id": "view-in-github",
        "colab_type": "text"
      },
      "source": [
        "<a href=\"https://colab.research.google.com/github/software-dev2010/BlackBoxMachineLearning/blob/main/ProiectBlackBox.ipynb\" target=\"_parent\"><img src=\"https://colab.research.google.com/assets/colab-badge.svg\" alt=\"Open In Colab\"/></a>"
      ]
    },
    {
      "cell_type": "code",
      "execution_count": 503,
      "metadata": {
        "colab": {
          "base_uri": "https://localhost:8080/"
        },
        "id": "CP3Tv1iCly-V",
        "outputId": "0d69715e-c225-4f94-c96b-5879dfd0e503"
      },
      "outputs": [
        {
          "output_type": "stream",
          "name": "stdout",
          "text": [
            "TF version:  2.8.0\n",
            "HUB version:  0.12.0\n"
          ]
        }
      ],
      "source": [
        "import numpy as np\n",
        "import pandas as pd\n",
        "%matplotlib inline\n",
        "import matplotlib.pyplot as plt\n",
        "\n",
        "# Import TensorFlow\n",
        "import tensorflow as tf\n",
        "print(\"TF version: \", tf.__version__)\n",
        "\n",
        "# import TensorFlow Hub \n",
        "import tensorflow_hub as hub\n",
        "print(\"HUB version: \", hub.__version__)\n",
        "\n",
        "#!unzip \"drive/MyDrive/Facultate/ia-id-22\" -d \"drive/My Drive/Facultate\""
      ]
    },
    {
      "cell_type": "code",
      "source": [
        "train_samples = np.load(\"drive/MyDrive/Facultate/train_samples.npy\")\n",
        "np.set_printoptions(suppress=True)"
      ],
      "metadata": {
        "id": "bf9YBgQGn1vm"
      },
      "execution_count": 504,
      "outputs": []
    },
    {
      "cell_type": "code",
      "source": [
        ""
      ],
      "metadata": {
        "id": "RzgU8U1VV2ck"
      },
      "execution_count": 504,
      "outputs": []
    },
    {
      "cell_type": "code",
      "source": [
        "train_samples = train_samples.T\n",
        "x_train = np.reshape(train_samples, (1000, 28, 28))"
      ],
      "metadata": {
        "id": "pB3jWWkyngFp"
      },
      "execution_count": 505,
      "outputs": []
    },
    {
      "cell_type": "code",
      "source": [
        "train_samples.shape"
      ],
      "metadata": {
        "colab": {
          "base_uri": "https://localhost:8080/"
        },
        "id": "FDu6QPquV6OQ",
        "outputId": "16b8eae4-4dc8-4ac3-9e00-3b4bcb2fe279"
      },
      "execution_count": 506,
      "outputs": [
        {
          "output_type": "execute_result",
          "data": {
            "text/plain": [
              "(1000, 784)"
            ]
          },
          "metadata": {},
          "execution_count": 506
        }
      ]
    },
    {
      "cell_type": "code",
      "source": [
        "#x_train = train_samples"
      ],
      "metadata": {
        "id": "8xj8f3eoupKq"
      },
      "execution_count": 507,
      "outputs": []
    },
    {
      "cell_type": "code",
      "source": [
        "x_train"
      ],
      "metadata": {
        "id": "7ou_psvpwlvq",
        "colab": {
          "base_uri": "https://localhost:8080/"
        },
        "outputId": "dadcb935-d9b4-4e57-98f3-dd3290237d0d"
      },
      "execution_count": 508,
      "outputs": [
        {
          "output_type": "execute_result",
          "data": {
            "text/plain": [
              "array([[[0.12039034, 0.        , 0.        , ..., 0.        ,\n",
              "         0.25186906, 0.        ],\n",
              "        [0.00002647, 0.        , 0.00023887, ..., 0.        ,\n",
              "         0.        , 0.        ],\n",
              "        [0.        , 0.        , 0.        , ..., 0.        ,\n",
              "         0.6889491 , 0.        ],\n",
              "        ...,\n",
              "        [0.00018945, 0.92377214, 0.        , ..., 0.        ,\n",
              "         0.        , 0.18755319],\n",
              "        [0.        , 0.00000971, 0.00064975, ..., 0.        ,\n",
              "         0.        , 0.        ],\n",
              "        [0.        , 0.        , 0.13388185, ..., 0.39041834,\n",
              "         0.19844221, 0.07407835]],\n",
              "\n",
              "       [[0.32371807, 0.        , 0.17420925, ..., 0.        ,\n",
              "         0.72341737, 0.64603305],\n",
              "        [0.00033012, 0.        , 0.65124033, ..., 0.        ,\n",
              "         0.44704811, 0.        ],\n",
              "        [0.        , 0.        , 0.00000003, ..., 0.        ,\n",
              "         0.00000014, 0.        ],\n",
              "        ...,\n",
              "        [0.        , 0.00170334, 0.        , ..., 0.        ,\n",
              "         0.        , 0.69331541],\n",
              "        [0.00000002, 0.        , 0.6733384 , ..., 0.        ,\n",
              "         0.00357594, 0.        ],\n",
              "        [0.        , 0.        , 0.79977207, ..., 0.02838762,\n",
              "         0.6368005 , 0.80362829]],\n",
              "\n",
              "       [[0.00003412, 0.        , 0.43546548, ..., 0.        ,\n",
              "         0.        , 0.22219133],\n",
              "        [0.08575297, 0.        , 0.00031466, ..., 0.        ,\n",
              "         0.00004009, 0.2984971 ],\n",
              "        [0.        , 0.        , 0.        , ..., 0.        ,\n",
              "         0.00000738, 0.        ],\n",
              "        ...,\n",
              "        [0.        , 0.00004043, 0.        , ..., 0.        ,\n",
              "         0.        , 0.00005051],\n",
              "        [0.        , 0.        , 0.        , ..., 0.        ,\n",
              "         0.86376117, 0.        ],\n",
              "        [0.        , 0.        , 0.        , ..., 0.47922554,\n",
              "         0.00054628, 0.16388128]],\n",
              "\n",
              "       ...,\n",
              "\n",
              "       [[0.93611993, 0.        , 0.87331465, ..., 0.        ,\n",
              "         0.00425904, 0.99202611],\n",
              "        [0.00092185, 0.        , 0.23712859, ..., 0.        ,\n",
              "         0.29562264, 0.00002778],\n",
              "        [0.        , 0.        , 0.        , ..., 0.        ,\n",
              "         0.        , 0.        ],\n",
              "        ...,\n",
              "        [0.        , 0.01462507, 0.        , ..., 0.        ,\n",
              "         0.        , 0.99204405],\n",
              "        [0.00000504, 0.        , 0.00210471, ..., 0.        ,\n",
              "         0.47894251, 0.        ],\n",
              "        [0.        , 0.        , 0.55296301, ..., 0.34638465,\n",
              "         0.97359936, 0.60289615]],\n",
              "\n",
              "       [[0.35164163, 0.        , 0.54771126, ..., 0.        ,\n",
              "         0.02127218, 0.89433182],\n",
              "        [0.        , 0.        , 0.00009291, ..., 0.        ,\n",
              "         0.00000005, 0.00004957],\n",
              "        [0.        , 0.        , 0.        , ..., 0.        ,\n",
              "         0.6940096 , 0.        ],\n",
              "        ...,\n",
              "        [0.        , 0.        , 0.        , ..., 0.        ,\n",
              "         0.        , 0.00013054],\n",
              "        [0.        , 0.        , 0.00623839, ..., 0.        ,\n",
              "         0.14933951, 0.        ],\n",
              "        [0.        , 0.        , 0.3987171 , ..., 0.00001508,\n",
              "         0.00052537, 0.00030329]],\n",
              "\n",
              "       [[0.12688439, 0.        , 0.53463516, ..., 0.        ,\n",
              "         0.        , 0.00124224],\n",
              "        [0.00023016, 0.        , 0.28739134, ..., 0.        ,\n",
              "         0.00004436, 0.77520643],\n",
              "        [0.        , 0.        , 0.        , ..., 0.        ,\n",
              "         0.00071109, 0.        ],\n",
              "        ...,\n",
              "        [0.        , 0.00072223, 0.        , ..., 0.        ,\n",
              "         0.        , 0.21652178],\n",
              "        [0.        , 0.        , 0.        , ..., 0.        ,\n",
              "         0.88330352, 0.        ],\n",
              "        [0.        , 0.        , 0.00014298, ..., 0.91937682,\n",
              "         0.08079851, 0.77784287]]])"
            ]
          },
          "metadata": {},
          "execution_count": 508
        }
      ]
    },
    {
      "cell_type": "code",
      "source": [
        "type(x_train)"
      ],
      "metadata": {
        "colab": {
          "base_uri": "https://localhost:8080/"
        },
        "id": "nSSya5GopwT5",
        "outputId": "a820abe0-916c-4e0f-8d00-b2af335817ba"
      },
      "execution_count": 509,
      "outputs": [
        {
          "output_type": "execute_result",
          "data": {
            "text/plain": [
              "numpy.ndarray"
            ]
          },
          "metadata": {},
          "execution_count": 509
        }
      ]
    },
    {
      "cell_type": "code",
      "source": [
        "#x_train = x_train.astype('uint8')"
      ],
      "metadata": {
        "id": "blr-WiP3wq_A"
      },
      "execution_count": 510,
      "outputs": []
    },
    {
      "cell_type": "code",
      "source": [
        "x_train.dtype"
      ],
      "metadata": {
        "colab": {
          "base_uri": "https://localhost:8080/"
        },
        "id": "fSDVfuYJp02Y",
        "outputId": "9e20fc3d-a1a6-4005-b35a-4ebeacd6ce70"
      },
      "execution_count": 511,
      "outputs": [
        {
          "output_type": "execute_result",
          "data": {
            "text/plain": [
              "dtype('float64')"
            ]
          },
          "metadata": {},
          "execution_count": 511
        }
      ]
    },
    {
      "cell_type": "code",
      "source": [
        "x_train.size"
      ],
      "metadata": {
        "colab": {
          "base_uri": "https://localhost:8080/"
        },
        "id": "GTgTGWQV4YQ5",
        "outputId": "63edd6c5-6db6-4810-8f57-c9b956cf3d79"
      },
      "execution_count": 512,
      "outputs": [
        {
          "output_type": "execute_result",
          "data": {
            "text/plain": [
              "784000"
            ]
          },
          "metadata": {},
          "execution_count": 512
        }
      ]
    },
    {
      "cell_type": "code",
      "source": [
        "x_train.shape"
      ],
      "metadata": {
        "colab": {
          "base_uri": "https://localhost:8080/"
        },
        "id": "_jsyny5G4cCh",
        "outputId": "347513ab-6cd0-405c-a005-e5935b58994a"
      },
      "execution_count": 513,
      "outputs": [
        {
          "output_type": "execute_result",
          "data": {
            "text/plain": [
              "(1000, 28, 28)"
            ]
          },
          "metadata": {},
          "execution_count": 513
        }
      ]
    },
    {
      "cell_type": "code",
      "source": [
        "x_train[0]"
      ],
      "metadata": {
        "id": "LNLWLnYyrE9n",
        "colab": {
          "base_uri": "https://localhost:8080/"
        },
        "outputId": "2a139b06-4894-4573-bd58-6ba25de3d09f"
      },
      "execution_count": 514,
      "outputs": [
        {
          "output_type": "execute_result",
          "data": {
            "text/plain": [
              "array([[0.12039034, 0.        , 0.        , 0.67684946, 0.762416  ,\n",
              "        0.86248539, 0.        , 0.        , 0.        , 0.00000214,\n",
              "        0.        , 0.        , 0.        , 0.00030336, 0.00005833,\n",
              "        0.        , 0.        , 0.        , 0.00001704, 0.        ,\n",
              "        0.02893439, 0.43329571, 0.        , 0.97344309, 0.00065164,\n",
              "        0.        , 0.25186906, 0.        ],\n",
              "       [0.00002647, 0.        , 0.00023887, 0.05107286, 0.1197222 ,\n",
              "        0.26131522, 0.        , 0.05044949, 0.02961606, 0.00005426,\n",
              "        0.        , 0.00178306, 0.        , 0.        , 0.        ,\n",
              "        0.        , 0.18713329, 0.        , 0.13431652, 0.00001007,\n",
              "        0.00016623, 0.        , 0.00007904, 0.        , 0.        ,\n",
              "        0.        , 0.        , 0.        ],\n",
              "       [0.        , 0.        , 0.        , 0.        , 0.00000011,\n",
              "        0.0052616 , 0.20294112, 0.        , 0.14663555, 0.12491417,\n",
              "        0.        , 0.        , 0.        , 0.46085609, 0.        ,\n",
              "        0.00023056, 0.95253799, 0.        , 0.14574752, 0.        ,\n",
              "        0.98000859, 0.        , 0.        , 0.        , 0.        ,\n",
              "        0.        , 0.6889491 , 0.        ],\n",
              "       [0.        , 0.00009576, 0.        , 0.        , 0.        ,\n",
              "        0.        , 0.        , 0.        , 0.66155705, 0.        ,\n",
              "        0.41701133, 0.79121314, 0.00031796, 0.0303544 , 0.        ,\n",
              "        0.94958939, 0.        , 0.        , 0.        , 0.00000463,\n",
              "        0.80707853, 0.        , 0.17663646, 0.        , 0.        ,\n",
              "        0.        , 0.00002295, 0.00530278],\n",
              "       [0.        , 0.57142681, 0.54323406, 0.96741941, 0.99587159,\n",
              "        0.        , 0.63148819, 0.        , 0.84727155, 0.        ,\n",
              "        0.        , 0.00033915, 0.0003917 , 0.        , 0.15805558,\n",
              "        0.00075172, 0.00000003, 0.00088781, 0.        , 0.        ,\n",
              "        0.        , 0.        , 0.        , 0.        , 0.        ,\n",
              "        0.        , 0.01402307, 0.24785626],\n",
              "       [0.00088769, 0.        , 0.97514917, 0.        , 0.        ,\n",
              "        0.        , 0.        , 0.00003765, 0.        , 0.        ,\n",
              "        0.        , 0.        , 0.00000038, 0.0009357 , 0.0093918 ,\n",
              "        0.00000013, 0.        , 0.00107215, 0.14988479, 0.        ,\n",
              "        0.        , 0.62682336, 0.10173434, 0.        , 0.00000288,\n",
              "        0.        , 0.        , 0.        ],\n",
              "       [0.        , 0.        , 0.        , 0.15764565, 0.27975673,\n",
              "        0.        , 0.93697407, 0.98322382, 0.        , 0.00040862,\n",
              "        0.9778336 , 0.        , 0.        , 0.0001431 , 0.00036733,\n",
              "        0.        , 0.        , 0.        , 0.        , 0.        ,\n",
              "        0.36676736, 0.47203078, 0.00000933, 0.        , 0.        ,\n",
              "        0.        , 0.00029919, 0.        ],\n",
              "       [0.04502005, 0.11755955, 0.        , 0.        , 0.        ,\n",
              "        0.00011049, 0.00000009, 0.00000989, 0.08649755, 0.47010647,\n",
              "        0.        , 0.        , 0.        , 0.        , 0.00000002,\n",
              "        0.28772945, 0.        , 0.69925193, 0.        , 0.        ,\n",
              "        0.        , 0.97730616, 0.        , 0.        , 0.5051799 ,\n",
              "        0.09838879, 0.00086114, 0.        ],\n",
              "       [0.00000004, 0.        , 0.        , 0.89611098, 0.48937003,\n",
              "        0.        , 0.        , 0.44703931, 0.        , 0.        ,\n",
              "        0.56015901, 0.78071599, 0.        , 0.        , 0.        ,\n",
              "        0.05334368, 0.00000288, 0.12037133, 0.02689388, 0.88412654,\n",
              "        0.00007984, 0.45611465, 0.        , 0.        , 0.46079182,\n",
              "        0.0000263 , 0.0001658 , 0.79942885],\n",
              "       [0.        , 0.        , 0.20880885, 0.        , 0.00000232,\n",
              "        0.79239794, 0.19824195, 0.        , 0.        , 0.        ,\n",
              "        0.40133064, 0.00000044, 0.        , 0.95750441, 0.58140209,\n",
              "        0.00052229, 0.89282522, 0.01406584, 0.1232739 , 0.00000477,\n",
              "        0.        , 0.45731408, 0.        , 0.98787514, 0.        ,\n",
              "        0.0000001 , 0.        , 0.        ],\n",
              "       [0.12386087, 0.62999526, 0.65011278, 0.00000489, 0.00011659,\n",
              "        0.46571939, 0.        , 0.99582086, 0.        , 0.00023798,\n",
              "        0.65098991, 0.        , 0.00000017, 0.00082313, 0.09885761,\n",
              "        0.        , 0.        , 0.00005065, 0.        , 0.28088559,\n",
              "        0.18526736, 0.        , 0.05775123, 0.39035608, 0.        ,\n",
              "        0.        , 0.00000003, 0.        ],\n",
              "       [0.        , 0.00007493, 0.61745494, 0.        , 0.00033774,\n",
              "        0.7244572 , 0.81289997, 0.00000007, 0.        , 0.        ,\n",
              "        0.96256206, 0.59767557, 0.        , 0.        , 0.72165745,\n",
              "        0.49628379, 0.00005825, 0.00000027, 0.        , 0.00036024,\n",
              "        0.        , 0.        , 0.4609235 , 0.        , 0.        ,\n",
              "        0.72500503, 0.        , 0.4796955 ],\n",
              "       [0.        , 0.00550628, 0.        , 0.        , 0.        ,\n",
              "        0.        , 0.15373684, 0.        , 0.30339918, 0.83039089,\n",
              "        0.61744938, 0.28804105, 0.        , 0.77162698, 0.95767981,\n",
              "        0.006672  , 0.        , 0.0198042 , 0.        , 0.16454917,\n",
              "        0.8873638 , 0.        , 0.67055774, 0.00000001, 0.        ,\n",
              "        0.780569  , 0.        , 0.        ],\n",
              "       [0.        , 0.        , 0.        , 0.        , 0.        ,\n",
              "        0.3980181 , 0.        , 0.        , 0.        , 0.        ,\n",
              "        0.58123999, 0.        , 0.        , 0.00029819, 0.        ,\n",
              "        0.00010242, 0.        , 0.        , 0.        , 0.        ,\n",
              "        0.        , 0.        , 0.        , 0.94390485, 0.02275265,\n",
              "        0.05797954, 0.        , 0.        ],\n",
              "       [0.0003626 , 0.        , 0.54964757, 0.        , 0.81611065,\n",
              "        0.        , 0.00000001, 0.00088781, 0.        , 0.11979505,\n",
              "        0.        , 0.        , 0.00000007, 0.0001492 , 0.00023056,\n",
              "        0.        , 0.        , 0.        , 0.        , 0.04380173,\n",
              "        0.00046512, 0.        , 0.        , 0.45839185, 0.79325114,\n",
              "        0.        , 0.02443189, 0.        ],\n",
              "       [0.92422053, 0.        , 0.        , 0.90888765, 0.00521838,\n",
              "        0.        , 0.        , 0.        , 0.33441384, 0.9428728 ,\n",
              "        0.00000021, 0.75020625, 0.00000002, 0.        , 0.06633106,\n",
              "        0.        , 0.91061853, 0.01215235, 0.        , 0.        ,\n",
              "        0.        , 0.37713036, 0.87404021, 0.        , 0.92784387,\n",
              "        0.00025784, 0.61160965, 0.        ],\n",
              "       [0.        , 0.00060749, 0.00000019, 0.        , 0.35403516,\n",
              "        0.074223  , 0.        , 0.0012044 , 0.        , 0.        ,\n",
              "        0.        , 0.00000021, 0.        , 0.00035442, 0.        ,\n",
              "        0.76211668, 0.79735404, 0.        , 0.        , 0.98720669,\n",
              "        0.00013974, 0.        , 0.00008549, 0.        , 0.15420507,\n",
              "        0.        , 0.98003031, 0.12042192],\n",
              "       [0.00008529, 0.        , 0.13180459, 0.        , 0.00000005,\n",
              "        0.0002157 , 0.        , 0.        , 0.        , 0.00000008,\n",
              "        0.        , 0.00030329, 0.        , 0.03375252, 0.        ,\n",
              "        0.        , 0.27461915, 0.        , 0.00070369, 0.01833717,\n",
              "        0.        , 0.0000099 , 0.        , 0.        , 0.        ,\n",
              "        0.        , 0.02206136, 0.        ],\n",
              "       [0.        , 0.98379943, 0.        , 0.        , 0.70604633,\n",
              "        0.        , 0.        , 0.17688673, 0.00000011, 0.        ,\n",
              "        0.        , 0.        , 0.        , 0.        , 0.        ,\n",
              "        0.54604372, 0.        , 0.        , 0.53390868, 0.00000002,\n",
              "        0.        , 0.        , 0.00040521, 0.12033698, 0.00006912,\n",
              "        0.        , 0.        , 0.        ],\n",
              "       [0.        , 0.        , 0.        , 0.00019686, 0.35952076,\n",
              "        0.00001421, 0.00253546, 0.85686549, 0.        , 0.42734867,\n",
              "        0.84851048, 0.50636719, 0.        , 0.00012645, 0.0000099 ,\n",
              "        0.        , 0.        , 0.        , 0.        , 0.        ,\n",
              "        0.00000002, 0.26574955, 0.        , 0.        , 0.89227538,\n",
              "        0.17589939, 0.        , 0.        ],\n",
              "       [0.        , 0.6173946 , 0.03632102, 0.02587552, 0.62612002,\n",
              "        0.64524325, 0.        , 0.48521237, 0.2223834 , 0.        ,\n",
              "        0.        , 0.75530967, 0.        , 0.25858885, 0.72559252,\n",
              "        0.        , 0.        , 0.        , 0.12175201, 0.        ,\n",
              "        0.0000482 , 0.0000001 , 0.81644693, 0.88735683, 0.        ,\n",
              "        0.89621263, 0.        , 0.        ],\n",
              "       [0.46085609, 0.        , 0.06504399, 0.00000032, 0.60607651,\n",
              "        0.        , 0.00000002, 0.        , 0.6660863 , 0.        ,\n",
              "        0.        , 0.62754225, 0.40134528, 0.00004139, 0.        ,\n",
              "        0.        , 0.06115975, 0.00011086, 0.28029502, 0.99456758,\n",
              "        0.        , 0.        , 0.        , 0.        , 0.        ,\n",
              "        0.        , 0.92316204, 0.00027959],\n",
              "       [0.00000676, 0.74963188, 0.31602365, 0.00037391, 0.        ,\n",
              "        0.        , 0.        , 0.00323203, 0.00090224, 0.00012004,\n",
              "        0.00001141, 0.00188935, 0.        , 0.11256759, 0.62194865,\n",
              "        0.        , 0.        , 0.        , 0.00023046, 0.30190838,\n",
              "        0.        , 0.        , 0.        , 0.        , 0.        ,\n",
              "        0.        , 0.00000001, 0.8231142 ],\n",
              "       [0.        , 0.49598865, 0.38717367, 0.4603827 , 0.        ,\n",
              "        0.        , 0.        , 0.        , 0.22712479, 0.83003864,\n",
              "        0.97427707, 0.        , 0.9302629 , 0.00031263, 0.        ,\n",
              "        0.        , 0.00006421, 0.30324685, 0.81623451, 0.00018822,\n",
              "        0.        , 0.9154422 , 0.00031581, 0.18453461, 0.        ,\n",
              "        0.        , 0.42819176, 0.        ],\n",
              "       [0.00003497, 0.03110574, 0.00058344, 0.08669326, 0.00740177,\n",
              "        0.890905  , 0.        , 0.5389089 , 0.95766357, 0.        ,\n",
              "        0.92331678, 0.        , 0.01551803, 0.        , 0.        ,\n",
              "        0.        , 0.1482288 , 0.5181971 , 0.00072618, 0.        ,\n",
              "        0.        , 0.        , 0.00002667, 0.07819454, 0.89661842,\n",
              "        0.00373265, 0.        , 0.        ],\n",
              "       [0.00018945, 0.92377214, 0.        , 0.07327343, 0.0005719 ,\n",
              "        0.10260189, 0.        , 0.        , 0.36547755, 0.        ,\n",
              "        0.        , 0.00052829, 0.        , 0.        , 0.000014  ,\n",
              "        0.65651574, 0.        , 0.98696409, 0.00023062, 0.04410828,\n",
              "        0.        , 0.        , 0.        , 0.        , 0.        ,\n",
              "        0.        , 0.        , 0.18755319],\n",
              "       [0.        , 0.00000971, 0.00064975, 0.        , 0.5237958 ,\n",
              "        0.        , 0.        , 0.        , 0.        , 0.95731158,\n",
              "        0.93007577, 0.        , 0.        , 0.        , 0.88347083,\n",
              "        0.34467891, 0.74690023, 0.00003498, 0.        , 0.        ,\n",
              "        0.        , 0.0007565 , 0.00005943, 0.        , 0.        ,\n",
              "        0.        , 0.        , 0.        ],\n",
              "       [0.        , 0.        , 0.13388185, 0.44442109, 0.        ,\n",
              "        0.36869507, 0.        , 0.        , 0.        , 0.59781996,\n",
              "        0.21084273, 0.        , 0.        , 0.33339972, 0.        ,\n",
              "        0.99289276, 0.67384913, 0.20733107, 0.00000005, 0.00028021,\n",
              "        0.00062541, 0.00060822, 0.        , 0.        , 0.96083748,\n",
              "        0.39041834, 0.19844221, 0.07407835]])"
            ]
          },
          "metadata": {},
          "execution_count": 514
        }
      ]
    },
    {
      "cell_type": "code",
      "source": [
        "import matplotlib.pyplot as plt\n",
        "plt.figure(dpi=1200)\n",
        "plt.imshow(x_train[6],cmap=plt.cm.binary)\n",
        "plt.show()"
      ],
      "metadata": {
        "colab": {
          "base_uri": "https://localhost:8080/",
          "height": 1000
        },
        "id": "M9rN-JUFoRj7",
        "outputId": "06f32f37-b960-454c-d736-267271a91c09"
      },
      "execution_count": 515,
      "outputs": [
        {
          "output_type": "display_data",
          "data": {
            "text/plain": [
              "<Figure size 7200x4800 with 1 Axes>"
            ],
            "image/png": "[encoded data removed]"
          },
          "metadata": {
            "needs_background": "light"
          }
        }
      ]
    },
    {
      "cell_type": "code",
      "source": [
        "\n",
        "x_train.size"
      ],
      "metadata": {
        "colab": {
          "base_uri": "https://localhost:8080/"
        },
        "id": "BXR6Egi8t5TH",
        "outputId": "8d5d1c89-6040-43e7-ce54-b046df886725"
      },
      "execution_count": 516,
      "outputs": [
        {
          "output_type": "execute_result",
          "data": {
            "text/plain": [
              "784000"
            ]
          },
          "metadata": {},
          "execution_count": 516
        }
      ]
    },
    {
      "cell_type": "code",
      "source": [
        "\n",
        "x_train.dtype"
      ],
      "metadata": {
        "colab": {
          "base_uri": "https://localhost:8080/"
        },
        "id": "s6xtw_8Et_27",
        "outputId": "54cf444f-411b-4e96-9aa6-0103a85dae2a"
      },
      "execution_count": 517,
      "outputs": [
        {
          "output_type": "execute_result",
          "data": {
            "text/plain": [
              "dtype('float64')"
            ]
          },
          "metadata": {},
          "execution_count": 517
        }
      ]
    },
    {
      "cell_type": "code",
      "source": [
        "test_samples = np.load(\"drive/MyDrive/Facultate/test_samples.npy\")\n",
        "np.set_printoptions(suppress=True)"
      ],
      "metadata": {
        "id": "kl54z3cFuEOP"
      },
      "execution_count": 518,
      "outputs": []
    },
    {
      "cell_type": "code",
      "source": [
        "test_samples"
      ],
      "metadata": {
        "colab": {
          "base_uri": "https://localhost:8080/"
        },
        "id": "YfljeRzVyQwN",
        "outputId": "232c788a-e8fd-40c0-d96c-13900a2d4d7a"
      },
      "execution_count": 519,
      "outputs": [
        {
          "output_type": "execute_result",
          "data": {
            "text/plain": [
              "array([[0.00002352, 0.81171077, 0.99141869, ..., 0.96318398, 0.91632066,\n",
              "        0.03107871],\n",
              "       [0.        , 0.        , 0.        , ..., 0.        , 0.        ,\n",
              "        0.        ],\n",
              "       [0.50581123, 0.        , 0.00006633, ..., 0.0000471 , 0.53911149,\n",
              "        0.        ],\n",
              "       ...,\n",
              "       [0.22671873, 0.        , 0.        , ..., 0.        , 0.4831048 ,\n",
              "        0.        ],\n",
              "       [0.09692939, 0.1140587 , 0.66867977, ..., 0.29670893, 0.24744506,\n",
              "        0.44129307],\n",
              "       [0.84257603, 0.00005355, 0.05365002, ..., 0.00630429, 0.        ,\n",
              "        0.49411784]])"
            ]
          },
          "metadata": {},
          "execution_count": 519
        }
      ]
    },
    {
      "cell_type": "code",
      "source": [
        "train_labels = np.load(\"drive/MyDrive/Facultate/train_labels.npy\")\n",
        "np.set_printoptions(suppress=True)"
      ],
      "metadata": {
        "id": "bjPb3VMEySWA"
      },
      "execution_count": 520,
      "outputs": []
    },
    {
      "cell_type": "code",
      "source": [
        "train_labels"
      ],
      "metadata": {
        "colab": {
          "base_uri": "https://localhost:8080/"
        },
        "id": "bfRxFhCyyc3o",
        "outputId": "814ca67e-2feb-457b-c047-fa43031d422e"
      },
      "execution_count": 521,
      "outputs": [
        {
          "output_type": "execute_result",
          "data": {
            "text/plain": [
              "array([ 8,  4,  5,  7,  2,  9,  2,  1, 10,  9,  1,  4,  2,  3,  8,  1,  3,\n",
              "       10,  7,  1,  2,  7,  8,  2, 10,  8,  7,  6,  6,  9,  9,  4,  5,  5,\n",
              "        9,  8,  4,  7,  5,  7,  7,  4,  9,  9, 10, 10,  5,  5,  1,  8,  9,\n",
              "        2,  1,  1,  2,  9,  6,  8,  2,  8,  6,  6, 10, 10,  5,  3,  6,  4,\n",
              "        8,  5,  7,  7,  1,  2,  1,  2,  3,  5,  9,  6,  4,  6,  1,  1,  7,\n",
              "        5,  4,  9,  4,  8,  2,  5,  4, 10,  3,  3,  1,  4,  7,  7,  8,  5,\n",
              "        4,  3,  3,  5, 10,  2,  1,  6,  3,  5,  9,  3,  2,  1,  9,  5,  5,\n",
              "        9,  1,  7,  5,  2,  5, 10,  7,  4,  2,  3, 10,  1,  2,  1,  5,  3,\n",
              "       10, 10,  5,  4,  9,  7, 10,  4,  1,  7,  8,  1,  4,  2,  5,  3,  4,\n",
              "        4,  1,  5,  3,  6,  6,  7,  4,  8,  3,  9,  6, 10,  3,  1,  2,  2,\n",
              "        9,  3, 10,  4,  2,  5,  2,  6,  8,  7,  5,  8,  8,  9,  4, 10,  4,\n",
              "        1,  6,  2,  4,  3,  1,  4,  1,  5,  1,  8,  5,  9,  9, 10,  1,  1,\n",
              "        2,  9,  8,  4, 10, 10,  6,  6, 10,  7,  8,  9,  3,  5,  7, 10,  9,\n",
              "        2,  7,  8, 10,  2,  7,  3,  1, 10,  7,  7,  3, 10,  2,  2,  3,  2,\n",
              "        4,  2,  6,  3,  8,  9,  1,  2,  1,  3,  9,  1,  3,  8,  4,  8,  6,\n",
              "        6,  2,  9,  3,  3,  7, 10,  2,  9,  8,  5,  1,  7,  1,  8,  4,  2,\n",
              "        1,  7,  7,  1, 10,  4,  5,  7,  8,  9, 10,  8,  4,  1,  1,  5,  1,\n",
              "        3,  7,  8,  6,  5,  7,  5,  9,  3,  1,  9,  8,  2,  8,  6,  2,  2,\n",
              "        3,  3,  8,  6,  7,  7,  8,  5,  3,  4, 10,  1,  3,  1, 10,  1,  5,\n",
              "        4,  5,  8,  8,  1,  4,  7,  1,  5,  4,  9,  7,  9,  2,  4,  9, 10,\n",
              "        1, 10,  1,  9,  1,  3,  9,  8,  9,  8, 10,  2,  8,  1,  4,  2,  5,\n",
              "        3,  4,  4,  9,  5, 10,  6,  7,  7,  5,  8,  1,  9,  4, 10,  9,  1,\n",
              "        7,  2,  9,  3,  6,  4,  3,  5,  6,  6,  7,  7, 10,  8,  4,  9, 10,\n",
              "       10,  4,  1,  9,  2,  4,  3,  1,  4,  3,  5, 10,  6, 10,  7,  5,  8,\n",
              "        4,  9,  5, 10,  4,  7,  6,  3,  8,  6,  9,  7,  3,  3,  8,  6,  6,\n",
              "        2, 10,  8,  2,  2,  9,  9,  4,  4,  4,  9,  3,  8,  3,  2,  6,  8,\n",
              "        4,  2,  5,  5,  8,  8,  8,  3,  5,  7,  6,  6, 10,  4,  6, 10,  4,\n",
              "       10,  9,  1,  1,  9,  1,  8,  7,  4,  1,  1,  1,  4,  8,  8,  9,  1,\n",
              "        9,  2, 10,  2,  3,  3,  5,  2,  2,  7,  7,  1,  1,  6,  5,  4, 10,\n",
              "        4,  2,  7,  8,  4,  1,  6,  2, 10,  1, 10,  8,  1,  6,  2,  3,  3,\n",
              "        4,  4,  1,  5,  1,  6,  2,  7, 10,  8,  2,  9, 10, 10,  7,  1,  6,\n",
              "        2,  3,  3,  2,  4, 10,  5,  9,  8,  9,  9, 10, 10,  8,  1,  4,  2,\n",
              "       10,  3,  8,  4,  9,  5,  6,  6,  2,  7,  7,  8,  7,  9, 10, 10,  1,\n",
              "        7,  4,  1,  8,  8,  7,  4,  8,  8,  2,  2, 10,  4,  9,  8,  7, 10,\n",
              "        4,  8,  5,  5,  2,  1,  8,  1,  7,  7,  4, 10,  5,  6, 10,  7,  9,\n",
              "       10,  8,  9,  6,  6,  7,  2,  3,  6,  1,  4,  6, 10,  1,  9,  2,  4,\n",
              "        1,  5, 10,  1,  4,  6,  3,  7,  6,  4,  1,  5,  3,  9,  8,  1,  9,\n",
              "        7,  2,  5,  7,  9,  7,  2,  5,  4,  3,  5,  4,  1,  4,  2,  2, 10,\n",
              "        1,  3,  2,  4,  8,  8,  8,  6,  7,  2,  3,  8, 10,  3,  4,  9,  1,\n",
              "        8, 10,  1,  6,  2,  6, 10,  9,  7, 10,  5,  1,  2,  8,  3,  6,  4,\n",
              "        9,  2,  7,  4,  7,  6,  7,  4,  6,  5,  1,  2,  1,  7,  1,  9,  9,\n",
              "        1,  1,  9,  3, 10,  4,  5, 10, 10,  3,  3,  2,  7,  4,  1,  6,  2,\n",
              "        2,  3,  8,  4, 10,  6,  5,  7,  3,  8,  3,  9, 10, 10,  4,  1,  1,\n",
              "        2,  2,  3,  5,  5,  4,  6,  4,  7, 10,  8,  6,  9,  3, 10, 10,  1,\n",
              "        4,  2,  7,  3,  6,  4,  8,  5,  2,  6,  3,  7,  2,  8,  3,  9,  5,\n",
              "       10,  7,  1,  8,  8,  4,  6,  7,  1,  7,  9,  6,  5,  8,  2,  7,  9,\n",
              "        7,  9,  8,  2,  8,  4,  4,  2,  3,  9,  5,  4, 10,  8,  5, 10,  4,\n",
              "        4,  9,  1,  7, 10,  7,  5, 10,  5,  1,  1,  7,  8,  4,  5,  2,  3,\n",
              "        3, 10,  8,  9,  4,  8,  5,  3,  2,  8,  7,  9,  6, 10,  1,  4,  7,\n",
              "        2,  2,  5, 10,  7,  4,  6,  2,  3,  2,  3,  1,  3,  7,  6,  7,  7,\n",
              "        2,  8,  4,  9,  5,  8,  6,  6,  4,  2, 10,  7,  2,  5,  2, 10,  6,\n",
              "        3, 10, 10,  4,  4,  6,  6, 10,  4,  2,  7, 10,  7,  5,  1,  2,  1,\n",
              "        1,  3,  1,  6,  1,  7,  3,  5, 10, 10,  9,  3,  9,  8, 10,  5,  3,\n",
              "       10,  3,  2,  6,  1,  8,  3,  3,  3,  7,  4,  8,  7,  3,  2,  9,  9,\n",
              "       10,  4,  7,  1,  4,  4, 10,  6,  4,  1,  3,  1,  2,  7,  1,  2,  6,\n",
              "        7,  5, 10,  1,  6, 10,  4,  4, 10,  5,  5,  8,  6,  7,  9,  2,  7,\n",
              "        3,  8,  5,  2,  7,  2,  4,  8,  5,  1,  7,  2, 10,  3,  2,  4,  8,\n",
              "        5,  4,  6,  9,  7,  4,  8,  8,  9,  1, 10,  4,  1,  5,  2,  6,  3,\n",
              "        8,  4,  3,  5,  7,  6, 10,  7,  2,  8,  7,  9,  7, 10],\n",
              "      dtype=uint8)"
            ]
          },
          "metadata": {},
          "execution_count": 521
        }
      ]
    },
    {
      "cell_type": "code",
      "source": [
        "\n",
        "train_labels.shape\n"
      ],
      "metadata": {
        "id": "Es5TT12SycBm",
        "colab": {
          "base_uri": "https://localhost:8080/"
        },
        "outputId": "ee796ed0-5c11-46c3-bfd9-751543a8b18b"
      },
      "execution_count": 522,
      "outputs": [
        {
          "output_type": "execute_result",
          "data": {
            "text/plain": [
              "(1000,)"
            ]
          },
          "metadata": {},
          "execution_count": 522
        }
      ]
    },
    {
      "cell_type": "code",
      "source": [
        "y_train = train_labels"
      ],
      "metadata": {
        "id": "1lVenoGb5xpw"
      },
      "execution_count": 523,
      "outputs": []
    },
    {
      "cell_type": "code",
      "source": [
        "y_train[0]"
      ],
      "metadata": {
        "colab": {
          "base_uri": "https://localhost:8080/"
        },
        "id": "ho8i-k-76OAN",
        "outputId": "2881246b-ef1e-48d6-f085-4a5babe05fd0"
      },
      "execution_count": 524,
      "outputs": [
        {
          "output_type": "execute_result",
          "data": {
            "text/plain": [
              "8"
            ]
          },
          "metadata": {},
          "execution_count": 524
        }
      ]
    },
    {
      "cell_type": "code",
      "source": [
        "test_samples.shape"
      ],
      "metadata": {
        "colab": {
          "base_uri": "https://localhost:8080/"
        },
        "id": "D3bZQdsi6Rmm",
        "outputId": "3bd557ed-5026-43f3-ad2d-495eb829f0f7"
      },
      "execution_count": 525,
      "outputs": [
        {
          "output_type": "execute_result",
          "data": {
            "text/plain": [
              "(784, 5000)"
            ]
          },
          "metadata": {},
          "execution_count": 525
        }
      ]
    },
    {
      "cell_type": "code",
      "source": [
        "test_samples = test_samples.T\n",
        "x_test = np.reshape(test_samples, (5000, 28, 28))\n",
        "#x_test = test_samples"
      ],
      "metadata": {
        "id": "VeshDuhY6aMt"
      },
      "execution_count": 526,
      "outputs": []
    },
    {
      "cell_type": "code",
      "source": [
        "x_test"
      ],
      "metadata": {
        "colab": {
          "base_uri": "https://localhost:8080/"
        },
        "id": "1gJT5W336qhT",
        "outputId": "32c1a6ef-2371-4f1e-a5a0-e4f5bee297a3"
      },
      "execution_count": 527,
      "outputs": [
        {
          "output_type": "execute_result",
          "data": {
            "text/plain": [
              "array([[[0.00002352, 0.        , 0.50581123, ..., 0.        ,\n",
              "         0.        , 0.06640521],\n",
              "        [0.00000002, 0.        , 0.79021775, ..., 0.        ,\n",
              "         0.00000003, 0.58130774],\n",
              "        [0.        , 0.        , 0.        , ..., 0.        ,\n",
              "         0.02320033, 0.        ],\n",
              "        ...,\n",
              "        [0.        , 0.        , 0.        , ..., 0.        ,\n",
              "         0.        , 0.98351532],\n",
              "        [0.        , 0.        , 0.        , ..., 0.        ,\n",
              "         0.88396268, 0.        ],\n",
              "        [0.        , 0.        , 0.64499773, ..., 0.22671873,\n",
              "         0.09692939, 0.84257603]],\n",
              "\n",
              "       [[0.81171077, 0.        , 0.        , ..., 0.        ,\n",
              "         0.        , 0.04757896],\n",
              "        [0.        , 0.        , 0.        , ..., 0.        ,\n",
              "         0.        , 0.        ],\n",
              "        [0.        , 0.        , 0.        , ..., 0.        ,\n",
              "         0.        , 0.        ],\n",
              "        ...,\n",
              "        [0.        , 0.        , 0.        , ..., 0.        ,\n",
              "         0.        , 0.08582774],\n",
              "        [0.        , 0.        , 0.        , ..., 0.        ,\n",
              "         0.        , 0.        ],\n",
              "        [0.        , 0.        , 0.00006582, ..., 0.        ,\n",
              "         0.1140587 , 0.00005355]],\n",
              "\n",
              "       [[0.99141869, 0.        , 0.00006633, ..., 0.        ,\n",
              "         0.        , 0.45156152],\n",
              "        [0.0004926 , 0.        , 0.00010275, ..., 0.        ,\n",
              "         0.00005279, 0.        ],\n",
              "        [0.        , 0.        , 0.        , ..., 0.        ,\n",
              "         0.        , 0.        ],\n",
              "        ...,\n",
              "        [0.        , 0.        , 0.        , ..., 0.        ,\n",
              "         0.        , 0.2737398 ],\n",
              "        [0.        , 0.        , 0.        , ..., 0.        ,\n",
              "         0.        , 0.        ],\n",
              "        [0.        , 0.        , 0.02054801, ..., 0.        ,\n",
              "         0.66867977, 0.05365002]],\n",
              "\n",
              "       ...,\n",
              "\n",
              "       [[0.96318398, 0.        , 0.0000471 , ..., 0.        ,\n",
              "         0.        , 0.25742639],\n",
              "        [0.00018591, 0.        , 0.00001125, ..., 0.        ,\n",
              "         0.00000011, 0.        ],\n",
              "        [0.        , 0.        , 0.        , ..., 0.        ,\n",
              "         0.        , 0.        ],\n",
              "        ...,\n",
              "        [0.        , 0.        , 0.        , ..., 0.        ,\n",
              "         0.        , 0.06007477],\n",
              "        [0.        , 0.        , 0.        , ..., 0.        ,\n",
              "         0.        , 0.        ],\n",
              "        [0.        , 0.        , 0.00000001, ..., 0.        ,\n",
              "         0.29670893, 0.00630429]],\n",
              "\n",
              "       [[0.91632066, 0.        , 0.53911149, ..., 0.        ,\n",
              "         0.00019094, 0.00054684],\n",
              "        [0.00041595, 0.        , 0.        , ..., 0.        ,\n",
              "         0.        , 0.10448149],\n",
              "        [0.        , 0.        , 0.        , ..., 0.        ,\n",
              "         0.0001919 , 0.        ],\n",
              "        ...,\n",
              "        [0.        , 0.00015541, 0.        , ..., 0.        ,\n",
              "         0.        , 0.67448483],\n",
              "        [0.        , 0.        , 0.00001672, ..., 0.        ,\n",
              "         0.83421862, 0.        ],\n",
              "        [0.        , 0.        , 0.000338  , ..., 0.4831048 ,\n",
              "         0.24744506, 0.        ]],\n",
              "\n",
              "       [[0.03107871, 0.        , 0.        , ..., 0.00000004,\n",
              "         0.26654811, 0.00000002],\n",
              "        [0.        , 0.        , 0.49403156, ..., 0.        ,\n",
              "         0.80543689, 0.        ],\n",
              "        [0.        , 0.        , 0.00001452, ..., 0.        ,\n",
              "         0.00000003, 0.        ],\n",
              "        ...,\n",
              "        [0.        , 0.        , 0.        , ..., 0.        ,\n",
              "         0.        , 0.95481948],\n",
              "        [0.14248439, 0.        , 0.67300521, ..., 0.        ,\n",
              "         0.        , 0.        ],\n",
              "        [0.        , 0.        , 0.58703633, ..., 0.        ,\n",
              "         0.44129307, 0.49411784]]])"
            ]
          },
          "metadata": {},
          "execution_count": 527
        }
      ]
    },
    {
      "cell_type": "code",
      "source": [
        "import matplotlib.pyplot as plt\n",
        "\n",
        "plt.imshow(x_test[500\n",
        "                ],cmap=plt.cm.binary)\n",
        "plt.show()"
      ],
      "metadata": {
        "colab": {
          "base_uri": "https://localhost:8080/",
          "height": 265
        },
        "id": "whyRDitn6tkK",
        "outputId": "65866975-3382-4d51-a6a6-acc9e456cf7d"
      },
      "execution_count": 528,
      "outputs": [
        {
          "output_type": "display_data",
          "data": {
            "text/plain": [
              "<Figure size 432x288 with 1 Axes>"
            ],
            "image/png": "[encoded data removed]"
          },
          "metadata": {
            "needs_background": "light"
          }
        }
      ]
    },
    {
      "cell_type": "code",
      "source": [
        "x_train.shape\n",
        "y_train.shape"
      ],
      "metadata": {
        "colab": {
          "base_uri": "https://localhost:8080/"
        },
        "id": "emXgcGnF0gGi",
        "outputId": "8d98b778-a6eb-49e9-ffb7-a92198600356"
      },
      "execution_count": 529,
      "outputs": [
        {
          "output_type": "execute_result",
          "data": {
            "text/plain": [
              "(1000,)"
            ]
          },
          "metadata": {},
          "execution_count": 529
        }
      ]
    },
    {
      "cell_type": "code",
      "source": [
        "from keras.models import Sequential\n",
        "from keras.layers import Dense, Activation, Dropout\n",
        "from tensorflow.keras.utils import to_categorical"
      ],
      "metadata": {
        "id": "PNokYil-1KPi"
      },
      "execution_count": 530,
      "outputs": []
    },
    {
      "cell_type": "code",
      "source": [
        "# compute the number of labels\n",
        "num_labels = len(np.unique(y_train))\n",
        "num_labels"
      ],
      "metadata": {
        "colab": {
          "base_uri": "https://localhost:8080/"
        },
        "id": "G6W7IcCo1LXh",
        "outputId": "e8929df2-e43e-4fcd-bea2-f8db3887f29d"
      },
      "execution_count": 531,
      "outputs": [
        {
          "output_type": "execute_result",
          "data": {
            "text/plain": [
              "10"
            ]
          },
          "metadata": {},
          "execution_count": 531
        }
      ]
    },
    {
      "cell_type": "code",
      "source": [
        "# count the number of unique train labels\n",
        "unique, counts = np.unique(y_train, return_counts=True)\n",
        "print(\"Train labels: \", dict(zip(unique, counts)))\n"
      ],
      "metadata": {
        "colab": {
          "base_uri": "https://localhost:8080/"
        },
        "id": "FTCA-Qun1LhE",
        "outputId": "be269071-7465-40e8-f7b4-a03eb392d1df"
      },
      "execution_count": 532,
      "outputs": [
        {
          "output_type": "stream",
          "name": "stdout",
          "text": [
            "Train labels:  {1: 113, 2: 108, 3: 93, 4: 115, 5: 88, 6: 80, 7: 107, 8: 101, 9: 89, 10: 106}\n"
          ]
        }
      ]
    },
    {
      "cell_type": "code",
      "source": [
        "y_train"
      ],
      "metadata": {
        "colab": {
          "base_uri": "https://localhost:8080/"
        },
        "id": "JD04b-Ml5RHT",
        "outputId": "75f3d912-6201-43e1-f875-6e80a9b3b4d9"
      },
      "execution_count": 533,
      "outputs": [
        {
          "output_type": "execute_result",
          "data": {
            "text/plain": [
              "array([ 8,  4,  5,  7,  2,  9,  2,  1, 10,  9,  1,  4,  2,  3,  8,  1,  3,\n",
              "       10,  7,  1,  2,  7,  8,  2, 10,  8,  7,  6,  6,  9,  9,  4,  5,  5,\n",
              "        9,  8,  4,  7,  5,  7,  7,  4,  9,  9, 10, 10,  5,  5,  1,  8,  9,\n",
              "        2,  1,  1,  2,  9,  6,  8,  2,  8,  6,  6, 10, 10,  5,  3,  6,  4,\n",
              "        8,  5,  7,  7,  1,  2,  1,  2,  3,  5,  9,  6,  4,  6,  1,  1,  7,\n",
              "        5,  4,  9,  4,  8,  2,  5,  4, 10,  3,  3,  1,  4,  7,  7,  8,  5,\n",
              "        4,  3,  3,  5, 10,  2,  1,  6,  3,  5,  9,  3,  2,  1,  9,  5,  5,\n",
              "        9,  1,  7,  5,  2,  5, 10,  7,  4,  2,  3, 10,  1,  2,  1,  5,  3,\n",
              "       10, 10,  5,  4,  9,  7, 10,  4,  1,  7,  8,  1,  4,  2,  5,  3,  4,\n",
              "        4,  1,  5,  3,  6,  6,  7,  4,  8,  3,  9,  6, 10,  3,  1,  2,  2,\n",
              "        9,  3, 10,  4,  2,  5,  2,  6,  8,  7,  5,  8,  8,  9,  4, 10,  4,\n",
              "        1,  6,  2,  4,  3,  1,  4,  1,  5,  1,  8,  5,  9,  9, 10,  1,  1,\n",
              "        2,  9,  8,  4, 10, 10,  6,  6, 10,  7,  8,  9,  3,  5,  7, 10,  9,\n",
              "        2,  7,  8, 10,  2,  7,  3,  1, 10,  7,  7,  3, 10,  2,  2,  3,  2,\n",
              "        4,  2,  6,  3,  8,  9,  1,  2,  1,  3,  9,  1,  3,  8,  4,  8,  6,\n",
              "        6,  2,  9,  3,  3,  7, 10,  2,  9,  8,  5,  1,  7,  1,  8,  4,  2,\n",
              "        1,  7,  7,  1, 10,  4,  5,  7,  8,  9, 10,  8,  4,  1,  1,  5,  1,\n",
              "        3,  7,  8,  6,  5,  7,  5,  9,  3,  1,  9,  8,  2,  8,  6,  2,  2,\n",
              "        3,  3,  8,  6,  7,  7,  8,  5,  3,  4, 10,  1,  3,  1, 10,  1,  5,\n",
              "        4,  5,  8,  8,  1,  4,  7,  1,  5,  4,  9,  7,  9,  2,  4,  9, 10,\n",
              "        1, 10,  1,  9,  1,  3,  9,  8,  9,  8, 10,  2,  8,  1,  4,  2,  5,\n",
              "        3,  4,  4,  9,  5, 10,  6,  7,  7,  5,  8,  1,  9,  4, 10,  9,  1,\n",
              "        7,  2,  9,  3,  6,  4,  3,  5,  6,  6,  7,  7, 10,  8,  4,  9, 10,\n",
              "       10,  4,  1,  9,  2,  4,  3,  1,  4,  3,  5, 10,  6, 10,  7,  5,  8,\n",
              "        4,  9,  5, 10,  4,  7,  6,  3,  8,  6,  9,  7,  3,  3,  8,  6,  6,\n",
              "        2, 10,  8,  2,  2,  9,  9,  4,  4,  4,  9,  3,  8,  3,  2,  6,  8,\n",
              "        4,  2,  5,  5,  8,  8,  8,  3,  5,  7,  6,  6, 10,  4,  6, 10,  4,\n",
              "       10,  9,  1,  1,  9,  1,  8,  7,  4,  1,  1,  1,  4,  8,  8,  9,  1,\n",
              "        9,  2, 10,  2,  3,  3,  5,  2,  2,  7,  7,  1,  1,  6,  5,  4, 10,\n",
              "        4,  2,  7,  8,  4,  1,  6,  2, 10,  1, 10,  8,  1,  6,  2,  3,  3,\n",
              "        4,  4,  1,  5,  1,  6,  2,  7, 10,  8,  2,  9, 10, 10,  7,  1,  6,\n",
              "        2,  3,  3,  2,  4, 10,  5,  9,  8,  9,  9, 10, 10,  8,  1,  4,  2,\n",
              "       10,  3,  8,  4,  9,  5,  6,  6,  2,  7,  7,  8,  7,  9, 10, 10,  1,\n",
              "        7,  4,  1,  8,  8,  7,  4,  8,  8,  2,  2, 10,  4,  9,  8,  7, 10,\n",
              "        4,  8,  5,  5,  2,  1,  8,  1,  7,  7,  4, 10,  5,  6, 10,  7,  9,\n",
              "       10,  8,  9,  6,  6,  7,  2,  3,  6,  1,  4,  6, 10,  1,  9,  2,  4,\n",
              "        1,  5, 10,  1,  4,  6,  3,  7,  6,  4,  1,  5,  3,  9,  8,  1,  9,\n",
              "        7,  2,  5,  7,  9,  7,  2,  5,  4,  3,  5,  4,  1,  4,  2,  2, 10,\n",
              "        1,  3,  2,  4,  8,  8,  8,  6,  7,  2,  3,  8, 10,  3,  4,  9,  1,\n",
              "        8, 10,  1,  6,  2,  6, 10,  9,  7, 10,  5,  1,  2,  8,  3,  6,  4,\n",
              "        9,  2,  7,  4,  7,  6,  7,  4,  6,  5,  1,  2,  1,  7,  1,  9,  9,\n",
              "        1,  1,  9,  3, 10,  4,  5, 10, 10,  3,  3,  2,  7,  4,  1,  6,  2,\n",
              "        2,  3,  8,  4, 10,  6,  5,  7,  3,  8,  3,  9, 10, 10,  4,  1,  1,\n",
              "        2,  2,  3,  5,  5,  4,  6,  4,  7, 10,  8,  6,  9,  3, 10, 10,  1,\n",
              "        4,  2,  7,  3,  6,  4,  8,  5,  2,  6,  3,  7,  2,  8,  3,  9,  5,\n",
              "       10,  7,  1,  8,  8,  4,  6,  7,  1,  7,  9,  6,  5,  8,  2,  7,  9,\n",
              "        7,  9,  8,  2,  8,  4,  4,  2,  3,  9,  5,  4, 10,  8,  5, 10,  4,\n",
              "        4,  9,  1,  7, 10,  7,  5, 10,  5,  1,  1,  7,  8,  4,  5,  2,  3,\n",
              "        3, 10,  8,  9,  4,  8,  5,  3,  2,  8,  7,  9,  6, 10,  1,  4,  7,\n",
              "        2,  2,  5, 10,  7,  4,  6,  2,  3,  2,  3,  1,  3,  7,  6,  7,  7,\n",
              "        2,  8,  4,  9,  5,  8,  6,  6,  4,  2, 10,  7,  2,  5,  2, 10,  6,\n",
              "        3, 10, 10,  4,  4,  6,  6, 10,  4,  2,  7, 10,  7,  5,  1,  2,  1,\n",
              "        1,  3,  1,  6,  1,  7,  3,  5, 10, 10,  9,  3,  9,  8, 10,  5,  3,\n",
              "       10,  3,  2,  6,  1,  8,  3,  3,  3,  7,  4,  8,  7,  3,  2,  9,  9,\n",
              "       10,  4,  7,  1,  4,  4, 10,  6,  4,  1,  3,  1,  2,  7,  1,  2,  6,\n",
              "        7,  5, 10,  1,  6, 10,  4,  4, 10,  5,  5,  8,  6,  7,  9,  2,  7,\n",
              "        3,  8,  5,  2,  7,  2,  4,  8,  5,  1,  7,  2, 10,  3,  2,  4,  8,\n",
              "        5,  4,  6,  9,  7,  4,  8,  8,  9,  1, 10,  4,  1,  5,  2,  6,  3,\n",
              "        8,  4,  3,  5,  7,  6, 10,  7,  2,  8,  7,  9,  7, 10],\n",
              "      dtype=uint8)"
            ]
          },
          "metadata": {},
          "execution_count": 533
        }
      ]
    },
    {
      "cell_type": "code",
      "source": [
        "# convert to one-hot vector\n",
        "#y_train = to_categorical(y_trainiyyyytifti)"
      ],
      "metadata": {
        "id": "cvxbigTP1Lli"
      },
      "execution_count": 534,
      "outputs": []
    },
    {
      "cell_type": "code",
      "source": [
        "# Find the unique label values\n",
        "unique_labels = np.unique(y_train)\n",
        "len(unique_labels)"
      ],
      "metadata": {
        "colab": {
          "base_uri": "https://localhost:8080/"
        },
        "id": "gjsczJ26Btz1",
        "outputId": "ff16c21b-592e-45d8-8b8b-ecb75a938f8e"
      },
      "execution_count": 535,
      "outputs": [
        {
          "output_type": "execute_result",
          "data": {
            "text/plain": [
              "10"
            ]
          },
          "metadata": {},
          "execution_count": 535
        }
      ]
    },
    {
      "cell_type": "code",
      "source": [
        "unique_labels"
      ],
      "metadata": {
        "colab": {
          "base_uri": "https://localhost:8080/"
        },
        "id": "OK_GL4YTgJDX",
        "outputId": "0301f08b-57f3-4120-e5eb-73cd84538879"
      },
      "execution_count": 568,
      "outputs": [
        {
          "output_type": "execute_result",
          "data": {
            "text/plain": [
              "array([ 1,  2,  3,  4,  5,  6,  7,  8,  9, 10], dtype=uint8)"
            ]
          },
          "metadata": {},
          "execution_count": 568
        }
      ]
    },
    {
      "cell_type": "code",
      "source": [
        ""
      ],
      "metadata": {
        "id": "DBqQhr2MgdGP"
      },
      "execution_count": null,
      "outputs": []
    },
    {
      "cell_type": "code",
      "source": [
        "boolean_labels = [label  == unique_labels for label in y_train]\n",
        "boolean_labels[:2]"
      ],
      "metadata": {
        "colab": {
          "base_uri": "https://localhost:8080/"
        },
        "id": "2-FQ_zJHBt39",
        "outputId": "eae5bdc5-1dc9-440a-fee1-4a5e123a2278"
      },
      "execution_count": 536,
      "outputs": [
        {
          "output_type": "execute_result",
          "data": {
            "text/plain": [
              "[array([False, False, False, False, False, False, False,  True, False,\n",
              "        False]),\n",
              " array([False, False, False,  True, False, False, False, False, False,\n",
              "        False])]"
            ]
          },
          "metadata": {},
          "execution_count": 536
        }
      ]
    },
    {
      "cell_type": "code",
      "source": [
        "len(boolean_labels)"
      ],
      "metadata": {
        "colab": {
          "base_uri": "https://localhost:8080/"
        },
        "id": "pg2FQVafBt7U",
        "outputId": "48374695-fd65-45a2-9c66-392eb02f96fb"
      },
      "execution_count": 537,
      "outputs": [
        {
          "output_type": "execute_result",
          "data": {
            "text/plain": [
              "1000"
            ]
          },
          "metadata": {},
          "execution_count": 537
        }
      ]
    },
    {
      "cell_type": "code",
      "source": [
        "# Example: Turning a boolean array into integers\n",
        "print(y_train[0]) # original label\n",
        "\n",
        "print(boolean_labels[0].argmax()) # index where label occurs in boolean array\n",
        "print(boolean_labels[0].astype(int)) # there will be a 1 where the sample label occurs"
      ],
      "metadata": {
        "colab": {
          "base_uri": "https://localhost:8080/"
        },
        "id": "PcJ55-xugqT0",
        "outputId": "2f8be691-fb3d-4b37-c419-6371fb0e54b0"
      },
      "execution_count": 570,
      "outputs": [
        {
          "output_type": "stream",
          "name": "stdout",
          "text": [
            "[0. 0. 0. 0. 0. 0. 0. 1. 0. 0.]\n",
            "7\n",
            "[0 0 0 0 0 0 0 1 0 0]\n"
          ]
        }
      ]
    },
    {
      "cell_type": "code",
      "source": [
        "boolean_labels"
      ],
      "metadata": {
        "id": "hTFXVAMQFZyH"
      },
      "execution_count": null,
      "outputs": []
    },
    {
      "cell_type": "code",
      "source": [
        "y_train[0]"
      ],
      "metadata": {
        "colab": {
          "base_uri": "https://localhost:8080/"
        },
        "id": "DiAsGARmg5c5",
        "outputId": "66cd3e6f-e635-4799-a4ba-cce1c62947b1"
      },
      "execution_count": 572,
      "outputs": [
        {
          "output_type": "execute_result",
          "data": {
            "text/plain": [
              "array([0., 0., 0., 0., 0., 0., 0., 1., 0., 0.])"
            ]
          },
          "metadata": {},
          "execution_count": 572
        }
      ]
    },
    {
      "cell_type": "code",
      "source": [
        "y_train = [bool_label.astype(float) for bool_label in boolean_labels]\n"
      ],
      "metadata": {
        "id": "HxSjnglNBt-H"
      },
      "execution_count": 539,
      "outputs": []
    },
    {
      "cell_type": "code",
      "source": [
        "y_train[0]"
      ],
      "metadata": {
        "colab": {
          "base_uri": "https://localhost:8080/"
        },
        "id": "tEeF1STRCafx",
        "outputId": "2ed50ebb-5187-40d1-cade-583a62264488"
      },
      "execution_count": 540,
      "outputs": [
        {
          "output_type": "execute_result",
          "data": {
            "text/plain": [
              "array([0., 0., 0., 0., 0., 0., 0., 1., 0., 0.])"
            ]
          },
          "metadata": {},
          "execution_count": 540
        }
      ]
    },
    {
      "cell_type": "code",
      "source": [
        "y_train = np.array(y_train)"
      ],
      "metadata": {
        "id": "V2_PhzKxCaiV"
      },
      "execution_count": 541,
      "outputs": []
    },
    {
      "cell_type": "code",
      "source": [
        "\n",
        "y_train.shape"
      ],
      "metadata": {
        "colab": {
          "base_uri": "https://localhost:8080/"
        },
        "id": "xxxI0VNG1LoX",
        "outputId": "bab2d61c-0bde-4796-b179-dcf9be21b939"
      },
      "execution_count": 542,
      "outputs": [
        {
          "output_type": "execute_result",
          "data": {
            "text/plain": [
              "(1000, 10)"
            ]
          },
          "metadata": {},
          "execution_count": 542
        }
      ]
    },
    {
      "cell_type": "code",
      "source": [
        "# image dimensions (assumed square)\n",
        "image_size = x_train.shape[1]\n",
        "input_size = image_size * image_size\n",
        "input_size"
      ],
      "metadata": {
        "colab": {
          "base_uri": "https://localhost:8080/"
        },
        "id": "rzJWlV581Lq8",
        "outputId": "5d4a1711-692f-45d1-dbac-c45d51662725"
      },
      "execution_count": 543,
      "outputs": [
        {
          "output_type": "execute_result",
          "data": {
            "text/plain": [
              "784"
            ]
          },
          "metadata": {},
          "execution_count": 543
        }
      ]
    },
    {
      "cell_type": "code",
      "source": [
        "# resize and normalize\n",
        "x_train = np.reshape(x_train, [-1, input_size])\n",
        "x_train = x_train.astype('float32') / 255\n",
        "x_test = np.reshape(x_test, [-1, input_size])\n",
        "x_test = x_test.astype('float32') / 255"
      ],
      "metadata": {
        "id": "2YDDSuvA1Ltr"
      },
      "execution_count": 544,
      "outputs": []
    },
    {
      "cell_type": "code",
      "source": [
        "x_train.shape"
      ],
      "metadata": {
        "colab": {
          "base_uri": "https://localhost:8080/"
        },
        "id": "G1FHRsAyU6rA",
        "outputId": "85f429de-3be6-41f4-8ade-e467aaf71b6e"
      },
      "execution_count": 545,
      "outputs": [
        {
          "output_type": "execute_result",
          "data": {
            "text/plain": [
              "(1000, 784)"
            ]
          },
          "metadata": {},
          "execution_count": 545
        }
      ]
    },
    {
      "cell_type": "code",
      "source": [
        "x_train"
      ],
      "metadata": {
        "colab": {
          "base_uri": "https://localhost:8080/"
        },
        "id": "5XILB5FZVIzO",
        "outputId": "8384285c-7e69-4a7e-a06b-d08dc24f0105"
      },
      "execution_count": 546,
      "outputs": [
        {
          "output_type": "execute_result",
          "data": {
            "text/plain": [
              "array([[0.00047212, 0.        , 0.        , ..., 0.00153105, 0.0007782 ,\n",
              "        0.0002905 ],\n",
              "       [0.00126948, 0.        , 0.00068317, ..., 0.00011132, 0.00249726,\n",
              "        0.00315148],\n",
              "       [0.00000013, 0.        , 0.00170771, ..., 0.00187932, 0.00000214,\n",
              "        0.00064267],\n",
              "       ...,\n",
              "       [0.00367106, 0.        , 0.00342476, ..., 0.00135837, 0.00381804,\n",
              "        0.0023643 ],\n",
              "       [0.00137899, 0.        , 0.00214789, ..., 0.00000006, 0.00000206,\n",
              "        0.00000119],\n",
              "       [0.00049759, 0.        , 0.00209661, ..., 0.0036054 , 0.00031686,\n",
              "        0.00305036]], dtype=float32)"
            ]
          },
          "metadata": {},
          "execution_count": 546
        }
      ]
    },
    {
      "cell_type": "code",
      "source": [
        "x_test[0]"
      ],
      "metadata": {
        "colab": {
          "base_uri": "https://localhost:8080/"
        },
        "id": "saUwzJa-VI1-",
        "outputId": "efbb17d3-b9c5-4592-cc8e-19e36ddf22de"
      },
      "execution_count": 547,
      "outputs": [
        {
          "output_type": "execute_result",
          "data": {
            "text/plain": [
              "array([0.00000009, 0.        , 0.00198357, 0.00215605, 0.        ,\n",
              "       0.00291472, 0.        , 0.        , 0.        , 0.00028963,\n",
              "       0.        , 0.        , 0.        , 0.        , 0.        ,\n",
              "       0.00043649, 0.        , 0.        , 0.00281148, 0.        ,\n",
              "       0.00001771, 0.00000021, 0.        , 0.00000126, 0.00008577,\n",
              "       0.        , 0.        , 0.00026041, 0.        , 0.        ,\n",
              "       0.00309889, 0.00165007, 0.00193033, 0.00001212, 0.00000008,\n",
              "       0.00157336, 0.        , 0.00021984, 0.        , 0.        ,\n",
              "       0.        , 0.        , 0.        , 0.        , 0.00003564,\n",
              "       0.        , 0.        , 0.        , 0.00011307, 0.        ,\n",
              "       0.        , 0.        , 0.        , 0.        , 0.        ,\n",
              "       0.00227964, 0.        , 0.        , 0.        , 0.        ,\n",
              "       0.        , 0.        , 0.        , 0.        , 0.        ,\n",
              "       0.00000318, 0.        , 0.        , 0.        , 0.00037814,\n",
              "       0.        , 0.00028306, 0.00273654, 0.        , 0.00383976,\n",
              "       0.        , 0.        , 0.        , 0.        , 0.        ,\n",
              "       0.        , 0.        , 0.00009098, 0.        , 0.        ,\n",
              "       0.00341489, 0.        , 0.        , 0.        , 0.        ,\n",
              "       0.        , 0.        , 0.00212113, 0.        , 0.00000279,\n",
              "       0.00000326, 0.00000204, 0.        , 0.        , 0.00000347,\n",
              "       0.        , 0.        , 0.        , 0.        , 0.00235973,\n",
              "       0.        , 0.        , 0.        , 0.        , 0.00172082,\n",
              "       0.        , 0.        , 0.        , 0.00346189, 0.00000189,\n",
              "       0.00292093, 0.00330075, 0.0004683 , 0.00050676, 0.        ,\n",
              "       0.00361716, 0.0000006 , 0.        , 0.        , 0.        ,\n",
              "       0.        , 0.        , 0.00338209, 0.        , 0.00000078,\n",
              "       0.00000075, 0.        , 0.        , 0.00000062, 0.        ,\n",
              "       0.        , 0.        , 0.        , 0.0009065 , 0.00000204,\n",
              "       0.00000008, 0.        , 0.00000009, 0.        , 0.        ,\n",
              "       0.        , 0.00101587, 0.00035649, 0.        , 0.        ,\n",
              "       0.        , 0.        , 0.0000031 , 0.00043008, 0.00357441,\n",
              "       0.00000054, 0.        , 0.0014555 , 0.        , 0.        ,\n",
              "       0.        , 0.00033032, 0.00105969, 0.00000005, 0.        ,\n",
              "       0.00022689, 0.        , 0.        , 0.        , 0.00001512,\n",
              "       0.        , 0.        , 0.        , 0.        , 0.00352931,\n",
              "       0.00210999, 0.        , 0.        , 0.00386492, 0.        ,\n",
              "       0.        , 0.        , 0.        , 0.        , 0.        ,\n",
              "       0.        , 0.        , 0.        , 0.0000009 , 0.        ,\n",
              "       0.00000064, 0.        , 0.        , 0.        , 0.0011435 ,\n",
              "       0.        , 0.00329225, 0.00057706, 0.        , 0.        ,\n",
              "       0.        , 0.        , 0.        , 0.        , 0.0000012 ,\n",
              "       0.00340456, 0.        , 0.        , 0.        , 0.        ,\n",
              "       0.        , 0.00000003, 0.        , 0.00169218, 0.        ,\n",
              "       0.        , 0.        , 0.00317997, 0.        , 0.        ,\n",
              "       0.00304549, 0.00000003, 0.00187365, 0.        , 0.        ,\n",
              "       0.        , 0.        , 0.        , 0.00000303, 0.        ,\n",
              "       0.        , 0.00354797, 0.00000044, 0.        , 0.        ,\n",
              "       0.00024643, 0.        , 0.        , 0.        , 0.        ,\n",
              "       0.        , 0.00202087, 0.        , 0.00038233, 0.00089289,\n",
              "       0.00337758, 0.        , 0.        , 0.00004135, 0.00041558,\n",
              "       0.        , 0.00188312, 0.        , 0.        , 0.00000433,\n",
              "       0.        , 0.00176185, 0.00000022, 0.0000872 , 0.        ,\n",
              "       0.        , 0.        , 0.00291752, 0.        , 0.        ,\n",
              "       0.00295694, 0.00300267, 0.        , 0.00000014, 0.00000077,\n",
              "       0.00002457, 0.00140906, 0.        , 0.        , 0.        ,\n",
              "       0.00061733, 0.        , 0.00000082, 0.        , 0.        ,\n",
              "       0.        , 0.00296865, 0.00000326, 0.        , 0.00033206,\n",
              "       0.00011656, 0.        , 0.00376997, 0.        , 0.        ,\n",
              "       0.        , 0.        , 0.00201811, 0.        , 0.        ,\n",
              "       0.        , 0.00000324, 0.        , 0.        , 0.00051206,\n",
              "       0.00122478, 0.        , 0.        , 0.00259857, 0.        ,\n",
              "       0.        , 0.00356064, 0.        , 0.        , 0.00000016,\n",
              "       0.00005016, 0.        , 0.0021275 , 0.00098493, 0.00000002,\n",
              "       0.00007651, 0.        , 0.00066712, 0.00311285, 0.        ,\n",
              "       0.        , 0.0000002 , 0.        , 0.00169188, 0.        ,\n",
              "       0.00156393, 0.00011214, 0.00306428, 0.        , 0.        ,\n",
              "       0.00226604, 0.        , 0.        , 0.        , 0.        ,\n",
              "       0.00148109, 0.        , 0.        , 0.        , 0.        ,\n",
              "       0.        , 0.00069087, 0.00000001, 0.        , 0.00169204,\n",
              "       0.00170819, 0.00106722, 0.        , 0.        , 0.00315833,\n",
              "       0.00154419, 0.        , 0.        , 0.00177691, 0.        ,\n",
              "       0.00060437, 0.0014082 , 0.        , 0.        , 0.        ,\n",
              "       0.        , 0.        , 0.        , 0.        , 0.        ,\n",
              "       0.        , 0.        , 0.00000056, 0.        , 0.00000241,\n",
              "       0.        , 0.        , 0.        , 0.        , 0.00217824,\n",
              "       0.        , 0.        , 0.00028273, 0.        , 0.        ,\n",
              "       0.        , 0.        , 0.        , 0.        , 0.        ,\n",
              "       0.        , 0.        , 0.00221438, 0.00250429, 0.        ,\n",
              "       0.        , 0.        , 0.00000007, 0.        , 0.        ,\n",
              "       0.        , 0.        , 0.        , 0.0030719 , 0.00002942,\n",
              "       0.        , 0.00000022, 0.        , 0.        , 0.00000036,\n",
              "       0.        , 0.        , 0.00010342, 0.        , 0.        ,\n",
              "       0.00000068, 0.00000018, 0.00000004, 0.        , 0.00000044,\n",
              "       0.00000003, 0.00328287, 0.        , 0.00000127, 0.        ,\n",
              "       0.00001016, 0.0000002 , 0.        , 0.00182685, 0.        ,\n",
              "       0.        , 0.        , 0.        , 0.        , 0.00128166,\n",
              "       0.        , 0.00269713, 0.        , 0.        , 0.00349129,\n",
              "       0.00000003, 0.        , 0.        , 0.        , 0.        ,\n",
              "       0.        , 0.00354533, 0.00183887, 0.        , 0.00141673,\n",
              "       0.        , 0.        , 0.        , 0.        , 0.00029454,\n",
              "       0.00229185, 0.        , 0.00001052, 0.        , 0.        ,\n",
              "       0.00110018, 0.        , 0.00168343, 0.        , 0.        ,\n",
              "       0.        , 0.00106364, 0.        , 0.        , 0.00046745,\n",
              "       0.        , 0.        , 0.00021861, 0.        , 0.        ,\n",
              "       0.00000019, 0.        , 0.0016919 , 0.        , 0.00054329,\n",
              "       0.00006252, 0.00357858, 0.        , 0.00191113, 0.        ,\n",
              "       0.0000008 , 0.        , 0.        , 0.        , 0.        ,\n",
              "       0.00023853, 0.        , 0.        , 0.        , 0.        ,\n",
              "       0.        , 0.00000133, 0.00219352, 0.        , 0.00267265,\n",
              "       0.00083251, 0.        , 0.        , 0.        , 0.        ,\n",
              "       0.        , 0.        , 0.        , 0.00033835, 0.        ,\n",
              "       0.        , 0.        , 0.        , 0.00001504, 0.        ,\n",
              "       0.        , 0.00334417, 0.        , 0.        , 0.        ,\n",
              "       0.        , 0.        , 0.        , 0.        , 0.00251326,\n",
              "       0.        , 0.00000221, 0.        , 0.        , 0.        ,\n",
              "       0.        , 0.00207059, 0.0000008 , 0.00000006, 0.        ,\n",
              "       0.        , 0.        , 0.        , 0.        , 0.        ,\n",
              "       0.        , 0.00000085, 0.00000021, 0.        , 0.00331122,\n",
              "       0.00000014, 0.0000001 , 0.        , 0.        , 0.0003923 ,\n",
              "       0.00210439, 0.        , 0.        , 0.        , 0.        ,\n",
              "       0.        , 0.        , 0.        , 0.        , 0.        ,\n",
              "       0.        , 0.00000055, 0.00363029, 0.        , 0.        ,\n",
              "       0.        , 0.00035957, 0.0000335 , 0.00121394, 0.00044272,\n",
              "       0.00000128, 0.        , 0.0035801 , 0.00165433, 0.        ,\n",
              "       0.        , 0.00081294, 0.        , 0.00000158, 0.        ,\n",
              "       0.00000003, 0.        , 0.        , 0.00283908, 0.        ,\n",
              "       0.00000287, 0.        , 0.        , 0.0002881 , 0.00004172,\n",
              "       0.00232429, 0.        , 0.        , 0.00123811, 0.        ,\n",
              "       0.00000145, 0.        , 0.00348965, 0.        , 0.00000021,\n",
              "       0.        , 0.0025545 , 0.00000332, 0.        , 0.00000017,\n",
              "       0.        , 0.        , 0.        , 0.        , 0.00000064,\n",
              "       0.        , 0.        , 0.00355657, 0.        , 0.        ,\n",
              "       0.        , 0.        , 0.        , 0.        , 0.00011561,\n",
              "       0.00361766, 0.00000056, 0.00000041, 0.        , 0.00227276,\n",
              "       0.00056161, 0.        , 0.00000065, 0.00036624, 0.        ,\n",
              "       0.        , 0.        , 0.00000001, 0.        , 0.        ,\n",
              "       0.00197766, 0.        , 0.        , 0.00000084, 0.0000003 ,\n",
              "       0.00075622, 0.        , 0.        , 0.        , 0.        ,\n",
              "       0.00015876, 0.        , 0.        , 0.00315123, 0.        ,\n",
              "       0.0031259 , 0.00000073, 0.00143765, 0.00034831, 0.        ,\n",
              "       0.        , 0.        , 0.        , 0.00231555, 0.0000755 ,\n",
              "       0.        , 0.00005002, 0.00362501, 0.        , 0.        ,\n",
              "       0.        , 0.00117234, 0.00259566, 0.00000042, 0.        ,\n",
              "       0.00011315, 0.0001015 , 0.00291755, 0.        , 0.        ,\n",
              "       0.        , 0.        , 0.00000216, 0.000099  , 0.        ,\n",
              "       0.        , 0.        , 0.        , 0.        , 0.        ,\n",
              "       0.00039074, 0.        , 0.00000326, 0.        , 0.        ,\n",
              "       0.00000196, 0.        , 0.        , 0.        , 0.00097221,\n",
              "       0.00216704, 0.        , 0.        , 0.00000334, 0.0000019 ,\n",
              "       0.        , 0.00000003, 0.00000212, 0.        , 0.        ,\n",
              "       0.        , 0.        , 0.        , 0.        , 0.00105895,\n",
              "       0.        , 0.00000108, 0.        , 0.00336282, 0.        ,\n",
              "       0.        , 0.00094997, 0.        , 0.        , 0.        ,\n",
              "       0.00124604, 0.        , 0.00128897, 0.00000206, 0.        ,\n",
              "       0.        , 0.        , 0.        , 0.        , 0.        ,\n",
              "       0.        , 0.        , 0.00385692, 0.        , 0.        ,\n",
              "       0.        , 0.        , 0.        , 0.        , 0.        ,\n",
              "       0.        , 0.        , 0.00345405, 0.00169851, 0.        ,\n",
              "       0.        , 0.        , 0.00287993, 0.        , 0.00306999,\n",
              "       0.00018883, 0.00114742, 0.        , 0.        , 0.00190824,\n",
              "       0.00000075, 0.        , 0.00361927, 0.        , 0.00346652,\n",
              "       0.        , 0.        , 0.        , 0.0025294 , 0.        ,\n",
              "       0.        , 0.00328736, 0.        , 0.        , 0.        ,\n",
              "       0.00044028, 0.00349989, 0.        , 0.        , 0.00144904,\n",
              "       0.        , 0.0014821 , 0.00313445, 0.        , 0.        ,\n",
              "       0.        , 0.00150124, 0.        , 0.        , 0.        ,\n",
              "       0.        , 0.00088909, 0.00038012, 0.00330422], dtype=float32)"
            ]
          },
          "metadata": {},
          "execution_count": 547
        }
      ]
    },
    {
      "cell_type": "code",
      "source": [
        ""
      ],
      "metadata": {
        "id": "1oDI7DesVI4i"
      },
      "execution_count": 547,
      "outputs": []
    },
    {
      "cell_type": "code",
      "source": [
        ""
      ],
      "metadata": {
        "id": "vpTlH_HZVI8B"
      },
      "execution_count": 547,
      "outputs": []
    },
    {
      "cell_type": "code",
      "source": [
        "# network parameters\n",
        "batch_size = 128\n",
        "hidden_units = 256\n",
        "dropout = 0.45"
      ],
      "metadata": {
        "id": "XxWS5DxB1LwC"
      },
      "execution_count": 548,
      "outputs": []
    },
    {
      "cell_type": "code",
      "source": [
        "# model is a 3-layer MLP with ReLU and dropout after each layer\n",
        "model = Sequential()\n",
        "model.add(Dense(hidden_units, input_dim=input_size))\n",
        "model.add(Activation('relu'))\n",
        "model.add(Dropout(dropout))\n",
        "model.add(Dense(hidden_units))\n",
        "model.add(Activation('relu'))\n",
        "model.add(Dropout(dropout))\n",
        "model.add(Dense(num_labels))\n",
        "model.add(Activation('softmax'))"
      ],
      "metadata": {
        "id": "eqWH7FnR1Ly4"
      },
      "execution_count": 549,
      "outputs": []
    },
    {
      "cell_type": "code",
      "source": [
        "model.summary()"
      ],
      "metadata": {
        "colab": {
          "base_uri": "https://localhost:8080/"
        },
        "id": "92cx5kMF2Pyx",
        "outputId": "0a0f15f7-b7aa-49d9-c192-7774f88ee3cc"
      },
      "execution_count": 550,
      "outputs": [
        {
          "output_type": "stream",
          "name": "stdout",
          "text": [
            "Model: \"sequential_7\"\n",
            "_________________________________________________________________\n",
            " Layer (type)                Output Shape              Param #   \n",
            "=================================================================\n",
            " dense_19 (Dense)            (None, 256)               200960    \n",
            "                                                                 \n",
            " activation_18 (Activation)  (None, 256)               0         \n",
            "                                                                 \n",
            " dropout_12 (Dropout)        (None, 256)               0         \n",
            "                                                                 \n",
            " dense_20 (Dense)            (None, 256)               65792     \n",
            "                                                                 \n",
            " activation_19 (Activation)  (None, 256)               0         \n",
            "                                                                 \n",
            " dropout_13 (Dropout)        (None, 256)               0         \n",
            "                                                                 \n",
            " dense_21 (Dense)            (None, 10)                2570      \n",
            "                                                                 \n",
            " activation_20 (Activation)  (None, 10)                0         \n",
            "                                                                 \n",
            "=================================================================\n",
            "Total params: 269,322\n",
            "Trainable params: 269,322\n",
            "Non-trainable params: 0\n",
            "_________________________________________________________________\n"
          ]
        }
      ]
    },
    {
      "cell_type": "code",
      "source": [
        "from tensorflow.keras.utils import plot_model\n",
        "plot_model(model, to_file='mlp-mnist.png', show_shapes=True)"
      ],
      "metadata": {
        "colab": {
          "base_uri": "https://localhost:8080/",
          "height": 976
        },
        "id": "bd0T7iil2P2Z",
        "outputId": "9fe34628-3169-4862-9d80-8333dd6daffa"
      },
      "execution_count": 551,
      "outputs": [
        {
          "output_type": "execute_result",
          "data": {
            "text/plain": [
              "<IPython.core.display.Image object>"
            ],
            "image/png": "[encoded data removed]"
          },
          "metadata": {},
          "execution_count": 551
        }
      ]
    },
    {
      "cell_type": "code",
      "source": [
        "model.compile(loss='categorical_crossentropy', \n",
        "              optimizer='adam',\n",
        "              metrics=['accuracy'])"
      ],
      "metadata": {
        "id": "L9BQt9cG2P5P"
      },
      "execution_count": 552,
      "outputs": []
    },
    {
      "cell_type": "code",
      "source": [
        "model.fit(x_train, y_train, epochs = 20, batch_size=batch_size)"
      ],
      "metadata": {
        "id": "hw5MJKtT2P-c",
        "colab": {
          "base_uri": "https://localhost:8080/"
        },
        "outputId": "479ca620-2513-4dd8-969f-ec98f1eb8388"
      },
      "execution_count": 608,
      "outputs": [
        {
          "output_type": "stream",
          "name": "stdout",
          "text": [
            "Epoch 1/20\n",
            "8/8 [==============================] - 0s 8ms/step - loss: 0.2196 - accuracy: 0.9290\n",
            "Epoch 2/20\n",
            "8/8 [==============================] - 0s 8ms/step - loss: 0.2300 - accuracy: 0.9330\n",
            "Epoch 3/20\n",
            "8/8 [==============================] - 0s 8ms/step - loss: 0.2354 - accuracy: 0.9360\n",
            "Epoch 4/20\n",
            "8/8 [==============================] - 0s 9ms/step - loss: 0.2174 - accuracy: 0.9450\n",
            "Epoch 5/20\n",
            "8/8 [==============================] - 0s 9ms/step - loss: 0.2203 - accuracy: 0.9300\n",
            "Epoch 6/20\n",
            "8/8 [==============================] - 0s 9ms/step - loss: 0.2202 - accuracy: 0.9260\n",
            "Epoch 7/20\n",
            "8/8 [==============================] - 0s 9ms/step - loss: 0.2288 - accuracy: 0.9300\n",
            "Epoch 8/20\n",
            "8/8 [==============================] - 0s 10ms/step - loss: 0.2180 - accuracy: 0.9280\n",
            "Epoch 9/20\n",
            "8/8 [==============================] - 0s 10ms/step - loss: 0.2181 - accuracy: 0.9270\n",
            "Epoch 10/20\n",
            "8/8 [==============================] - 0s 10ms/step - loss: 0.2097 - accuracy: 0.9350\n",
            "Epoch 11/20\n",
            "8/8 [==============================] - 0s 9ms/step - loss: 0.1992 - accuracy: 0.9490\n",
            "Epoch 12/20\n",
            "8/8 [==============================] - 0s 12ms/step - loss: 0.2171 - accuracy: 0.9290\n",
            "Epoch 13/20\n",
            "8/8 [==============================] - 0s 9ms/step - loss: 0.2206 - accuracy: 0.9290\n",
            "Epoch 14/20\n",
            "8/8 [==============================] - 0s 9ms/step - loss: 0.1957 - accuracy: 0.9470\n",
            "Epoch 15/20\n",
            "8/8 [==============================] - 0s 11ms/step - loss: 0.2128 - accuracy: 0.9320\n",
            "Epoch 16/20\n",
            "8/8 [==============================] - 0s 10ms/step - loss: 0.1940 - accuracy: 0.9450\n",
            "Epoch 17/20\n",
            "8/8 [==============================] - 0s 10ms/step - loss: 0.1894 - accuracy: 0.9490\n",
            "Epoch 18/20\n",
            "8/8 [==============================] - 0s 9ms/step - loss: 0.1956 - accuracy: 0.9550\n",
            "Epoch 19/20\n",
            "8/8 [==============================] - 0s 9ms/step - loss: 0.1956 - accuracy: 0.9330\n",
            "Epoch 20/20\n",
            "8/8 [==============================] - 0s 9ms/step - loss: 0.1975 - accuracy: 0.9390\n"
          ]
        },
        {
          "output_type": "execute_result",
          "data": {
            "text/plain": [
              "<keras.callbacks.History at 0x7fcf71db3f10>"
            ]
          },
          "metadata": {},
          "execution_count": 608
        }
      ]
    },
    {
      "cell_type": "code",
      "source": [
        "y_predicted = model.predict(x_test)"
      ],
      "metadata": {
        "id": "2uiB83Ku2QBO"
      },
      "execution_count": 609,
      "outputs": []
    },
    {
      "cell_type": "code",
      "source": [
        "y_predicted[0]"
      ],
      "metadata": {
        "colab": {
          "base_uri": "https://localhost:8080/"
        },
        "id": "Wfl-_JlIlFA0",
        "outputId": "ff4a3969-6308-4a2d-b45f-da847e0199a4"
      },
      "execution_count": 610,
      "outputs": [
        {
          "output_type": "execute_result",
          "data": {
            "text/plain": [
              "array([0.00072843, 0.00000064, 0.00000075, 0.00005636, 0.00056322,\n",
              "       0.9973054 , 0.00012977, 0.00000088, 0.00047798, 0.00073671],\n",
              "      dtype=float32)"
            ]
          },
          "metadata": {},
          "execution_count": 610
        }
      ]
    },
    {
      "cell_type": "code",
      "source": [
        "y_predicted[0]\n",
        "y_predicted[0].argmax()"
      ],
      "metadata": {
        "id": "PTHPtJLY2QGk",
        "colab": {
          "base_uri": "https://localhost:8080/"
        },
        "outputId": "997adeff-49f3-4fce-c260-e08e2392974d"
      },
      "execution_count": 611,
      "outputs": [
        {
          "output_type": "execute_result",
          "data": {
            "text/plain": [
              "5"
            ]
          },
          "metadata": {},
          "execution_count": 611
        }
      ]
    },
    {
      "cell_type": "markdown",
      "source": [
        "8,  4,  5,  7,  2,  9,  2,  1, 10,  9,  1,  4,  2,  3,  8,  1,  3,\n",
        "       10,  7,  1,  2,  7,  8,  2, 10,  8,  7,  6,  6,  9,  9,  4,  5,  5,"
      ],
      "metadata": {
        "id": "ntv9rEPhlzqj"
      }
    },
    {
      "cell_type": "markdown",
      "source": [
        "https://www.kaggle.com/code/prashant111/mnist-deep-neural-network-with-keras/notebook\n",
        "https://www.milindsoorya.com/blog/handwritten-digits-classification\n"
      ],
      "metadata": {
        "id": "-Cv3JY95XhoJ"
      }
    },
    {
      "cell_type": "code",
      "source": [
        "y_predicted_labels = [np.argmax(i) + 1 for i in y_predicted]\n",
        "y_predicted_labels[:10]\n",
        "\n"
      ],
      "metadata": {
        "id": "2c59aiJs6xcQ",
        "colab": {
          "base_uri": "https://localhost:8080/"
        },
        "outputId": "ac062286-e1e7-4f3b-8d93-28556cc1978c"
      },
      "execution_count": 612,
      "outputs": [
        {
          "output_type": "execute_result",
          "data": {
            "text/plain": [
              "[6, 2, 2, 4, 7, 3, 7, 4, 4, 2]"
            ]
          },
          "metadata": {},
          "execution_count": 612
        }
      ]
    },
    {
      "cell_type": "code",
      "source": [
        "y_train[:5]"
      ],
      "metadata": {
        "colab": {
          "base_uri": "https://localhost:8080/"
        },
        "id": "YGfMgUf8kKBY",
        "outputId": "6373433e-f553-4110-cb46-9c8927bfced9"
      },
      "execution_count": 613,
      "outputs": [
        {
          "output_type": "execute_result",
          "data": {
            "text/plain": [
              "array([[0., 0., 0., 0., 0., 0., 0., 1., 0., 0.],\n",
              "       [0., 0., 0., 1., 0., 0., 0., 0., 0., 0.],\n",
              "       [0., 0., 0., 0., 1., 0., 0., 0., 0., 0.],\n",
              "       [0., 0., 0., 0., 0., 0., 1., 0., 0., 0.],\n",
              "       [0., 1., 0., 0., 0., 0., 0., 0., 0., 0.]])"
            ]
          },
          "metadata": {},
          "execution_count": 613
        }
      ]
    },
    {
      "cell_type": "code",
      "source": [
        "y_predicted_labels"
      ],
      "metadata": {
        "id": "zsgMz6efBkOV",
        "colab": {
          "base_uri": "https://localhost:8080/"
        },
        "outputId": "f78ab084-8f99-4766-e62d-02fbfbb20aa7"
      },
      "execution_count": 614,
      "outputs": [
        {
          "output_type": "execute_result",
          "data": {
            "text/plain": [
              "[6,\n",
              " 2,\n",
              " 2,\n",
              " 4,\n",
              " 7,\n",
              " 3,\n",
              " 7,\n",
              " 4,\n",
              " 4,\n",
              " 2,\n",
              " 8,\n",
              " 5,\n",
              " 6,\n",
              " 3,\n",
              " 4,\n",
              " 1,\n",
              " 3,\n",
              " 1,\n",
              " 10,\n",
              " 8,\n",
              " 2,\n",
              " 9,\n",
              " 4,\n",
              " 5,\n",
              " 6,\n",
              " 7,\n",
              " 2,\n",
              " 5,\n",
              " 1,\n",
              " 10,\n",
              " 3,\n",
              " 4,\n",
              " 7,\n",
              " 9,\n",
              " 2,\n",
              " 5,\n",
              " 7,\n",
              " 8,\n",
              " 5,\n",
              " 3,\n",
              " 9,\n",
              " 6,\n",
              " 1,\n",
              " 7,\n",
              " 2,\n",
              " 4,\n",
              " 1,\n",
              " 7,\n",
              " 2,\n",
              " 10,\n",
              " 9,\n",
              " 7,\n",
              " 4,\n",
              " 4,\n",
              " 6,\n",
              " 3,\n",
              " 2,\n",
              " 3,\n",
              " 7,\n",
              " 5,\n",
              " 1,\n",
              " 7,\n",
              " 8,\n",
              " 10,\n",
              " 1,\n",
              " 1,\n",
              " 1,\n",
              " 3,\n",
              " 6,\n",
              " 7,\n",
              " 6,\n",
              " 6,\n",
              " 5,\n",
              " 2,\n",
              " 8,\n",
              " 4,\n",
              " 4,\n",
              " 4,\n",
              " 5,\n",
              " 10,\n",
              " 4,\n",
              " 8,\n",
              " 2,\n",
              " 3,\n",
              " 7,\n",
              " 6,\n",
              " 8,\n",
              " 8,\n",
              " 7,\n",
              " 10,\n",
              " 4,\n",
              " 9,\n",
              " 5,\n",
              " 3,\n",
              " 3,\n",
              " 2,\n",
              " 9,\n",
              " 4,\n",
              " 8,\n",
              " 2,\n",
              " 5,\n",
              " 4,\n",
              " 9,\n",
              " 1,\n",
              " 9,\n",
              " 2,\n",
              " 5,\n",
              " 3,\n",
              " 1,\n",
              " 4,\n",
              " 6,\n",
              " 5,\n",
              " 10,\n",
              " 8,\n",
              " 4,\n",
              " 9,\n",
              " 9,\n",
              " 10,\n",
              " 6,\n",
              " 1,\n",
              " 1,\n",
              " 2,\n",
              " 8,\n",
              " 3,\n",
              " 10,\n",
              " 4,\n",
              " 6,\n",
              " 8,\n",
              " 5,\n",
              " 9,\n",
              " 1,\n",
              " 10,\n",
              " 3,\n",
              " 1,\n",
              " 10,\n",
              " 2,\n",
              " 6,\n",
              " 3,\n",
              " 2,\n",
              " 4,\n",
              " 6,\n",
              " 2,\n",
              " 1,\n",
              " 6,\n",
              " 6,\n",
              " 7,\n",
              " 10,\n",
              " 8,\n",
              " 2,\n",
              " 9,\n",
              " 1,\n",
              " 10,\n",
              " 2,\n",
              " 3,\n",
              " 2,\n",
              " 6,\n",
              " 1,\n",
              " 2,\n",
              " 9,\n",
              " 7,\n",
              " 1,\n",
              " 5,\n",
              " 10,\n",
              " 4,\n",
              " 7,\n",
              " 10,\n",
              " 7,\n",
              " 10,\n",
              " 8,\n",
              " 1,\n",
              " 10,\n",
              " 10,\n",
              " 8,\n",
              " 8,\n",
              " 4,\n",
              " 2,\n",
              " 4,\n",
              " 7,\n",
              " 6,\n",
              " 5,\n",
              " 5,\n",
              " 4,\n",
              " 2,\n",
              " 7,\n",
              " 5,\n",
              " 3,\n",
              " 4,\n",
              " 3,\n",
              " 7,\n",
              " 1,\n",
              " 7,\n",
              " 1,\n",
              " 8,\n",
              " 6,\n",
              " 10,\n",
              " 10,\n",
              " 7,\n",
              " 6,\n",
              " 1,\n",
              " 8,\n",
              " 8,\n",
              " 4,\n",
              " 8,\n",
              " 3,\n",
              " 8,\n",
              " 3,\n",
              " 6,\n",
              " 5,\n",
              " 1,\n",
              " 8,\n",
              " 4,\n",
              " 7,\n",
              " 10,\n",
              " 8,\n",
              " 5,\n",
              " 8,\n",
              " 4,\n",
              " 3,\n",
              " 5,\n",
              " 9,\n",
              " 7,\n",
              " 9,\n",
              " 10,\n",
              " 3,\n",
              " 2,\n",
              " 9,\n",
              " 4,\n",
              " 4,\n",
              " 3,\n",
              " 8,\n",
              " 8,\n",
              " 2,\n",
              " 6,\n",
              " 4,\n",
              " 7,\n",
              " 10,\n",
              " 9,\n",
              " 1,\n",
              " 6,\n",
              " 10,\n",
              " 2,\n",
              " 2,\n",
              " 1,\n",
              " 8,\n",
              " 8,\n",
              " 4,\n",
              " 4,\n",
              " 9,\n",
              " 9,\n",
              " 1,\n",
              " 4,\n",
              " 4,\n",
              " 7,\n",
              " 10,\n",
              " 8,\n",
              " 2,\n",
              " 8,\n",
              " 3,\n",
              " 9,\n",
              " 5,\n",
              " 8,\n",
              " 10,\n",
              " 3,\n",
              " 3,\n",
              " 2,\n",
              " 2,\n",
              " 2,\n",
              " 9,\n",
              " 8,\n",
              " 7,\n",
              " 3,\n",
              " 2,\n",
              " 3,\n",
              " 6,\n",
              " 5,\n",
              " 1,\n",
              " 2,\n",
              " 2,\n",
              " 3,\n",
              " 3,\n",
              " 7,\n",
              " 4,\n",
              " 9,\n",
              " 5,\n",
              " 6,\n",
              " 6,\n",
              " 9,\n",
              " 7,\n",
              " 1,\n",
              " 9,\n",
              " 2,\n",
              " 1,\n",
              " 4,\n",
              " 2,\n",
              " 5,\n",
              " 3,\n",
              " 3,\n",
              " 4,\n",
              " 5,\n",
              " 5,\n",
              " 2,\n",
              " 6,\n",
              " 8,\n",
              " 7,\n",
              " 6,\n",
              " 8,\n",
              " 6,\n",
              " 9,\n",
              " 2,\n",
              " 10,\n",
              " 5,\n",
              " 1,\n",
              " 10,\n",
              " 5,\n",
              " 7,\n",
              " 6,\n",
              " 2,\n",
              " 7,\n",
              " 1,\n",
              " 8,\n",
              " 7,\n",
              " 9,\n",
              " 4,\n",
              " 10,\n",
              " 9,\n",
              " 1,\n",
              " 10,\n",
              " 8,\n",
              " 3,\n",
              " 1,\n",
              " 1,\n",
              " 8,\n",
              " 4,\n",
              " 9,\n",
              " 7,\n",
              " 4,\n",
              " 4,\n",
              " 6,\n",
              " 7,\n",
              " 4,\n",
              " 8,\n",
              " 9,\n",
              " 4,\n",
              " 9,\n",
              " 1,\n",
              " 2,\n",
              " 4,\n",
              " 5,\n",
              " 7,\n",
              " 10,\n",
              " 3,\n",
              " 7,\n",
              " 7,\n",
              " 2,\n",
              " 10,\n",
              " 9,\n",
              " 2,\n",
              " 10,\n",
              " 6,\n",
              " 5,\n",
              " 10,\n",
              " 2,\n",
              " 1,\n",
              " 3,\n",
              " 9,\n",
              " 6,\n",
              " 9,\n",
              " 10,\n",
              " 3,\n",
              " 10,\n",
              " 7,\n",
              " 6,\n",
              " 6,\n",
              " 5,\n",
              " 6,\n",
              " 4,\n",
              " 5,\n",
              " 4,\n",
              " 6,\n",
              " 4,\n",
              " 2,\n",
              " 10,\n",
              " 1,\n",
              " 1,\n",
              " 7,\n",
              " 2,\n",
              " 1,\n",
              " 10,\n",
              " 4,\n",
              " 2,\n",
              " 6,\n",
              " 3,\n",
              " 2,\n",
              " 8,\n",
              " 5,\n",
              " 10,\n",
              " 2,\n",
              " 2,\n",
              " 6,\n",
              " 1,\n",
              " 5,\n",
              " 7,\n",
              " 6,\n",
              " 3,\n",
              " 7,\n",
              " 5,\n",
              " 9,\n",
              " 1,\n",
              " 9,\n",
              " 4,\n",
              " 8,\n",
              " 9,\n",
              " 9,\n",
              " 10,\n",
              " 10,\n",
              " 6,\n",
              " 5,\n",
              " 7,\n",
              " 3,\n",
              " 7,\n",
              " 10,\n",
              " 6,\n",
              " 8,\n",
              " 2,\n",
              " 9,\n",
              " 8,\n",
              " 5,\n",
              " 2,\n",
              " 2,\n",
              " 5,\n",
              " 9,\n",
              " 7,\n",
              " 5,\n",
              " 10,\n",
              " 5,\n",
              " 2,\n",
              " 9,\n",
              " 4,\n",
              " 2,\n",
              " 2,\n",
              " 3,\n",
              " 7,\n",
              " 1,\n",
              " 4,\n",
              " 6,\n",
              " 1,\n",
              " 10,\n",
              " 7,\n",
              " 7,\n",
              " 8,\n",
              " 9,\n",
              " 2,\n",
              " 8,\n",
              " 4,\n",
              " 1,\n",
              " 9,\n",
              " 5,\n",
              " 3,\n",
              " 9,\n",
              " 7,\n",
              " 8,\n",
              " 3,\n",
              " 6,\n",
              " 7,\n",
              " 6,\n",
              " 8,\n",
              " 3,\n",
              " 9,\n",
              " 8,\n",
              " 8,\n",
              " 3,\n",
              " 1,\n",
              " 8,\n",
              " 2,\n",
              " 4,\n",
              " 3,\n",
              " 3,\n",
              " 4,\n",
              " 7,\n",
              " 5,\n",
              " 1,\n",
              " 6,\n",
              " 4,\n",
              " 7,\n",
              " 7,\n",
              " 8,\n",
              " 4,\n",
              " 9,\n",
              " 6,\n",
              " 10,\n",
              " 8,\n",
              " 1,\n",
              " 1,\n",
              " 2,\n",
              " 10,\n",
              " 3,\n",
              " 4,\n",
              " 4,\n",
              " 10,\n",
              " 8,\n",
              " 7,\n",
              " 9,\n",
              " 9,\n",
              " 10,\n",
              " 1,\n",
              " 1,\n",
              " 3,\n",
              " 2,\n",
              " 1,\n",
              " 3,\n",
              " 3,\n",
              " 4,\n",
              " 10,\n",
              " 8,\n",
              " 5,\n",
              " 9,\n",
              " 1,\n",
              " 10,\n",
              " 5,\n",
              " 4,\n",
              " 1,\n",
              " 5,\n",
              " 9,\n",
              " 2,\n",
              " 1,\n",
              " 5,\n",
              " 7,\n",
              " 7,\n",
              " 6,\n",
              " 7,\n",
              " 1,\n",
              " 8,\n",
              " 4,\n",
              " 4,\n",
              " 4,\n",
              " 4,\n",
              " 2,\n",
              " 3,\n",
              " 6,\n",
              " 2,\n",
              " 4,\n",
              " 10,\n",
              " 1,\n",
              " 5,\n",
              " 4,\n",
              " 8,\n",
              " 9,\n",
              " 4,\n",
              " 2,\n",
              " 6,\n",
              " 2,\n",
              " 5,\n",
              " 6,\n",
              " 10,\n",
              " 10,\n",
              " 2,\n",
              " 5,\n",
              " 2,\n",
              " 6,\n",
              " 1,\n",
              " 8,\n",
              " 2,\n",
              " 10,\n",
              " 5,\n",
              " 1,\n",
              " 7,\n",
              " 1,\n",
              " 1,\n",
              " 5,\n",
              " 3,\n",
              " 8,\n",
              " 6,\n",
              " 4,\n",
              " 3,\n",
              " 2,\n",
              " 2,\n",
              " 5,\n",
              " 8,\n",
              " 2,\n",
              " 6,\n",
              " 1,\n",
              " 1,\n",
              " 1,\n",
              " 1,\n",
              " 10,\n",
              " 3,\n",
              " 8,\n",
              " 4,\n",
              " 3,\n",
              " 8,\n",
              " 1,\n",
              " 7,\n",
              " 1,\n",
              " 10,\n",
              " 6,\n",
              " 9,\n",
              " 3,\n",
              " 8,\n",
              " 9,\n",
              " 9,\n",
              " 1,\n",
              " 10,\n",
              " 10,\n",
              " 3,\n",
              " 5,\n",
              " 3,\n",
              " 4,\n",
              " 10,\n",
              " 2,\n",
              " 8,\n",
              " 6,\n",
              " 6,\n",
              " 2,\n",
              " 5,\n",
              " 3,\n",
              " 5,\n",
              " 9,\n",
              " 5,\n",
              " 3,\n",
              " 1,\n",
              " 7,\n",
              " 1,\n",
              " 5,\n",
              " 10,\n",
              " 9,\n",
              " 7,\n",
              " 9,\n",
              " 7,\n",
              " 1,\n",
              " 10,\n",
              " 3,\n",
              " 6,\n",
              " 2,\n",
              " 2,\n",
              " 7,\n",
              " 8,\n",
              " 9,\n",
              " 1,\n",
              " 7,\n",
              " 4,\n",
              " 9,\n",
              " 7,\n",
              " 3,\n",
              " 8,\n",
              " 10,\n",
              " 9,\n",
              " 8,\n",
              " 4,\n",
              " 1,\n",
              " 2,\n",
              " 3,\n",
              " 4,\n",
              " 7,\n",
              " 10,\n",
              " 10,\n",
              " 6,\n",
              " 4,\n",
              " 10,\n",
              " 10,\n",
              " 10,\n",
              " 3,\n",
              " 6,\n",
              " 1,\n",
              " 1,\n",
              " 9,\n",
              " 5,\n",
              " 10,\n",
              " 4,\n",
              " 5,\n",
              " 2,\n",
              " 10,\n",
              " 8,\n",
              " 7,\n",
              " 7,\n",
              " 7,\n",
              " 1,\n",
              " 6,\n",
              " 2,\n",
              " 4,\n",
              " 1,\n",
              " 3,\n",
              " 4,\n",
              " 5,\n",
              " 5,\n",
              " 2,\n",
              " 6,\n",
              " 5,\n",
              " 7,\n",
              " 3,\n",
              " 8,\n",
              " 8,\n",
              " 9,\n",
              " 1,\n",
              " 10,\n",
              " 1,\n",
              " 1,\n",
              " 2,\n",
              " 2,\n",
              " 6,\n",
              " 3,\n",
              " 1,\n",
              " 9,\n",
              " 6,\n",
              " 5,\n",
              " 1,\n",
              " 8,\n",
              " 7,\n",
              " 9,\n",
              " 7,\n",
              " 8,\n",
              " 2,\n",
              " 1,\n",
              " 7,\n",
              " 2,\n",
              " 7,\n",
              " 7,\n",
              " 2,\n",
              " 6,\n",
              " 8,\n",
              " 5,\n",
              " 6,\n",
              " 8,\n",
              " 2,\n",
              " 9,\n",
              " 10,\n",
              " 8,\n",
              " 6,\n",
              " 7,\n",
              " 2,\n",
              " 5,\n",
              " 9,\n",
              " 3,\n",
              " 6,\n",
              " 7,\n",
              " 1,\n",
              " 5,\n",
              " 3,\n",
              " 10,\n",
              " 9,\n",
              " 9,\n",
              " 8,\n",
              " 10,\n",
              " 6,\n",
              " 10,\n",
              " 7,\n",
              " 10,\n",
              " 10,\n",
              " 9,\n",
              " 3,\n",
              " 9,\n",
              " 8,\n",
              " 7,\n",
              " 10,\n",
              " 1,\n",
              " 8,\n",
              " 10,\n",
              " 7,\n",
              " 9,\n",
              " 2,\n",
              " 1,\n",
              " 4,\n",
              " 1,\n",
              " 4,\n",
              " 2,\n",
              " 4,\n",
              " 1,\n",
              " 6,\n",
              " 6,\n",
              " 6,\n",
              " 7,\n",
              " 1,\n",
              " 6,\n",
              " 9,\n",
              " 4,\n",
              " 2,\n",
              " 9,\n",
              " 2,\n",
              " 1,\n",
              " 6,\n",
              " 7,\n",
              " 7,\n",
              " 1,\n",
              " 9,\n",
              " 5,\n",
              " 5,\n",
              " 4,\n",
              " 2,\n",
              " 5,\n",
              " 7,\n",
              " 2,\n",
              " 2,\n",
              " 6,\n",
              " 8,\n",
              " 4,\n",
              " 6,\n",
              " 1,\n",
              " 3,\n",
              " 7,\n",
              " 1,\n",
              " 3,\n",
              " 6,\n",
              " 8,\n",
              " 3,\n",
              " 2,\n",
              " 6,\n",
              " 2,\n",
              " 7,\n",
              " 9,\n",
              " 8,\n",
              " 2,\n",
              " 6,\n",
              " 8,\n",
              " 6,\n",
              " 2,\n",
              " 1,\n",
              " 4,\n",
              " 4,\n",
              " 9,\n",
              " 8,\n",
              " 6,\n",
              " 9,\n",
              " 5,\n",
              " 5,\n",
              " 3,\n",
              " 8,\n",
              " 1,\n",
              " 7,\n",
              " 10,\n",
              " 1,\n",
              " 3,\n",
              " 6,\n",
              " 7,\n",
              " 8,\n",
              " 8,\n",
              " 6,\n",
              " 2,\n",
              " 3,\n",
              " 10,\n",
              " 2,\n",
              " 7,\n",
              " 10,\n",
              " 5,\n",
              " 10,\n",
              " 7,\n",
              " 10,\n",
              " 3,\n",
              " 3,\n",
              " 4,\n",
              " 3,\n",
              " 8,\n",
              " 4,\n",
              " 2,\n",
              " 5,\n",
              " 1,\n",
              " 1,\n",
              " 1,\n",
              " 8,\n",
              " 4,\n",
              " 10,\n",
              " 8,\n",
              " 8,\n",
              " 9,\n",
              " 3,\n",
              " 1,\n",
              " 1,\n",
              " 2,\n",
              " 5,\n",
              " 3,\n",
              " 1,\n",
              " 4,\n",
              " 7,\n",
              " 5,\n",
              " 4,\n",
              " 6,\n",
              " 1,\n",
              " 7,\n",
              " 5,\n",
              " 8,\n",
              " 7,\n",
              " 9,\n",
              " 6,\n",
              " 10,\n",
              " 1,\n",
              " 1,\n",
              " 6,\n",
              " 2,\n",
              " 6,\n",
              " 3,\n",
              " 2,\n",
              " 4,\n",
              " 1,\n",
              " 5,\n",
              " 6,\n",
              " 3,\n",
              " 10,\n",
              " 8,\n",
              " 7,\n",
              " 9,\n",
              " 2,\n",
              " 10,\n",
              " 8,\n",
              " 1,\n",
              " 3,\n",
              " 2,\n",
              " 1,\n",
              " 3,\n",
              " 8,\n",
              " 4,\n",
              " 7,\n",
              " 8,\n",
              " 1,\n",
              " 9,\n",
              " 10,\n",
              " 10,\n",
              " 7,\n",
              " 6,\n",
              " 5,\n",
              " 3,\n",
              " 6,\n",
              " 9,\n",
              " 2,\n",
              " 2,\n",
              " 8,\n",
              " 8,\n",
              " 7,\n",
              " 3,\n",
              " 1,\n",
              " 5,\n",
              " 8,\n",
              " 2,\n",
              " 4,\n",
              " 5,\n",
              " 8,\n",
              " 2,\n",
              " 1,\n",
              " 9,\n",
              " 4,\n",
              " 4,\n",
              " 4,\n",
              " 8,\n",
              " 2,\n",
              " 9,\n",
              " 7,\n",
              " 5,\n",
              " 10,\n",
              " 4,\n",
              " 1,\n",
              " 4,\n",
              " 3,\n",
              " 6,\n",
              " 9,\n",
              " 7,\n",
              " 8,\n",
              " 8,\n",
              " 8,\n",
              " 1,\n",
              " 9,\n",
              " 7,\n",
              " 3,\n",
              " 2,\n",
              " 7,\n",
              " 7,\n",
              " 2,\n",
              " 9,\n",
              " 2,\n",
              " 1,\n",
              " 3,\n",
              " 2,\n",
              " 4,\n",
              " 7,\n",
              " 8,\n",
              " 1,\n",
              " 10,\n",
              " 9,\n",
              " 2,\n",
              " 6,\n",
              " 8,\n",
              " 2,\n",
              " 7,\n",
              " 5,\n",
              " 4,\n",
              " 5,\n",
              " 3,\n",
              " 8,\n",
              " 6,\n",
              " 7,\n",
              " 4,\n",
              " 10,\n",
              " 9,\n",
              " 2,\n",
              " 4,\n",
              " 8,\n",
              " 1,\n",
              " 1,\n",
              " 3,\n",
              " 7,\n",
              " 6,\n",
              " 8,\n",
              " 8,\n",
              " 2,\n",
              " ...]"
            ]
          },
          "metadata": {},
          "execution_count": 614
        }
      ]
    },
    {
      "cell_type": "code",
      "source": [
        "df = pd.DataFrame(y_predicted_labels)"
      ],
      "metadata": {
        "id": "LcSFbBoJHd2j"
      },
      "execution_count": 615,
      "outputs": []
    },
    {
      "cell_type": "code",
      "source": [
        "df"
      ],
      "metadata": {
        "colab": {
          "base_uri": "https://localhost:8080/",
          "height": 423
        },
        "id": "acU90wt-IZve",
        "outputId": "b4f24f28-5a2e-44ac-cbc7-7ceb761e9e59"
      },
      "execution_count": 616,
      "outputs": [
        {
          "output_type": "execute_result",
          "data": {
            "text/plain": [
              "       0\n",
              "0      6\n",
              "1      2\n",
              "2      2\n",
              "3      4\n",
              "4      7\n",
              "...   ..\n",
              "4995  10\n",
              "4996   9\n",
              "4997   2\n",
              "4998   5\n",
              "4999   3\n",
              "\n",
              "[5000 rows x 1 columns]"
            ],
            "text/html": [
              "\n",
              "  <div id=\"df-67b98675-0345-49df-8e06-c8dd1ee78865\">\n",
              "    <div class=\"colab-df-container\">\n",
              "      <div>\n",
              "<style scoped>\n",
              "    .dataframe tbody tr th:only-of-type {\n",
              "        vertical-align: middle;\n",
              "    }\n",
              "\n",
              "    .dataframe tbody tr th {\n",
              "        vertical-align: top;\n",
              "    }\n",
              "\n",
              "    .dataframe thead th {\n",
              "        text-align: right;\n",
              "    }\n",
              "</style>\n",
              "<table border=\"1\" class=\"dataframe\">\n",
              "  <thead>\n",
              "    <tr style=\"text-align: right;\">\n",
              "      <th></th>\n",
              "      <th>0</th>\n",
              "    </tr>\n",
              "  </thead>\n",
              "  <tbody>\n",
              "    <tr>\n",
              "      <th>0</th>\n",
              "      <td>6</td>\n",
              "    </tr>\n",
              "    <tr>\n",
              "      <th>1</th>\n",
              "      <td>2</td>\n",
              "    </tr>\n",
              "    <tr>\n",
              "      <th>2</th>\n",
              "      <td>2</td>\n",
              "    </tr>\n",
              "    <tr>\n",
              "      <th>3</th>\n",
              "      <td>4</td>\n",
              "    </tr>\n",
              "    <tr>\n",
              "      <th>4</th>\n",
              "      <td>7</td>\n",
              "    </tr>\n",
              "    <tr>\n",
              "      <th>...</th>\n",
              "      <td>...</td>\n",
              "    </tr>\n",
              "    <tr>\n",
              "      <th>4995</th>\n",
              "      <td>10</td>\n",
              "    </tr>\n",
              "    <tr>\n",
              "      <th>4996</th>\n",
              "      <td>9</td>\n",
              "    </tr>\n",
              "    <tr>\n",
              "      <th>4997</th>\n",
              "      <td>2</td>\n",
              "    </tr>\n",
              "    <tr>\n",
              "      <th>4998</th>\n",
              "      <td>5</td>\n",
              "    </tr>\n",
              "    <tr>\n",
              "      <th>4999</th>\n",
              "      <td>3</td>\n",
              "    </tr>\n",
              "  </tbody>\n",
              "</table>\n",
              "<p>5000 rows × 1 columns</p>\n",
              "</div>\n",
              "      <button class=\"colab-df-convert\" onclick=\"convertToInteractive('df-67b98675-0345-49df-8e06-c8dd1ee78865')\"\n",
              "              title=\"Convert this dataframe to an interactive table.\"\n",
              "              style=\"display:none;\">\n",
              "        \n",
              "  <svg xmlns=\"http://www.w3.org/2000/svg\" height=\"24px\"viewBox=\"0 0 24 24\"\n",
              "       width=\"24px\">\n",
              "    <path d=\"M0 0h24v24H0V0z\" fill=\"none\"/>\n",
              "    <path d=\"M18.56 5.44l.94 2.06.94-2.06 2.06-.94-2.06-.94-.94-2.06-.94 2.06-2.06.94zm-11 1L8.5 8.5l.94-2.06 2.06-.94-2.06-.94L8.5 2.5l-.94 2.06-2.06.94zm10 10l.94 2.06.94-2.06 2.06-.94-2.06-.94-.94-2.06-.94 2.06-2.06.94z\"/><path d=\"M17.41 7.96l-1.37-1.37c-.4-.4-.92-.59-1.43-.59-.52 0-1.04.2-1.43.59L10.3 9.45l-7.72 7.72c-.78.78-.78 2.05 0 2.83L4 21.41c.39.39.9.59 1.41.59.51 0 1.02-.2 1.41-.59l7.78-7.78 2.81-2.81c.8-.78.8-2.07 0-2.86zM5.41 20L4 18.59l7.72-7.72 1.47 1.35L5.41 20z\"/>\n",
              "  </svg>\n",
              "      </button>\n",
              "      \n",
              "  <style>\n",
              "    .colab-df-container {\n",
              "      display:flex;\n",
              "      flex-wrap:wrap;\n",
              "      gap: 12px;\n",
              "    }\n",
              "\n",
              "    .colab-df-convert {\n",
              "      background-color: #E8F0FE;\n",
              "      border: none;\n",
              "      border-radius: 50%;\n",
              "      cursor: pointer;\n",
              "      display: none;\n",
              "      fill: #1967D2;\n",
              "      height: 32px;\n",
              "      padding: 0 0 0 0;\n",
              "      width: 32px;\n",
              "    }\n",
              "\n",
              "    .colab-df-convert:hover {\n",
              "      background-color: #E2EBFA;\n",
              "      box-shadow: 0px 1px 2px rgba(60, 64, 67, 0.3), 0px 1px 3px 1px rgba(60, 64, 67, 0.15);\n",
              "      fill: #174EA6;\n",
              "    }\n",
              "\n",
              "    [theme=dark] .colab-df-convert {\n",
              "      background-color: #3B4455;\n",
              "      fill: #D2E3FC;\n",
              "    }\n",
              "\n",
              "    [theme=dark] .colab-df-convert:hover {\n",
              "      background-color: #434B5C;\n",
              "      box-shadow: 0px 1px 3px 1px rgba(0, 0, 0, 0.15);\n",
              "      filter: drop-shadow(0px 1px 2px rgba(0, 0, 0, 0.3));\n",
              "      fill: #FFFFFF;\n",
              "    }\n",
              "  </style>\n",
              "\n",
              "      <script>\n",
              "        const buttonEl =\n",
              "          document.querySelector('#df-67b98675-0345-49df-8e06-c8dd1ee78865 button.colab-df-convert');\n",
              "        buttonEl.style.display =\n",
              "          google.colab.kernel.accessAllowed ? 'block' : 'none';\n",
              "\n",
              "        async function convertToInteractive(key) {\n",
              "          const element = document.querySelector('#df-67b98675-0345-49df-8e06-c8dd1ee78865');\n",
              "          const dataTable =\n",
              "            await google.colab.kernel.invokeFunction('convertToInteractive',\n",
              "                                                     [key], {});\n",
              "          if (!dataTable) return;\n",
              "\n",
              "          const docLinkHtml = 'Like what you see? Visit the ' +\n",
              "            '<a target=\"_blank\" href=https://colab.research.google.com/notebooks/data_table.ipynb>data table notebook</a>'\n",
              "            + ' to learn more about interactive tables.';\n",
              "          element.innerHTML = '';\n",
              "          dataTable['output_type'] = 'display_data';\n",
              "          await google.colab.output.renderOutput(dataTable, element);\n",
              "          const docLink = document.createElement('div');\n",
              "          docLink.innerHTML = docLinkHtml;\n",
              "          element.appendChild(docLink);\n",
              "        }\n",
              "      </script>\n",
              "    </div>\n",
              "  </div>\n",
              "  "
            ]
          },
          "metadata": {},
          "execution_count": 616
        }
      ]
    },
    {
      "cell_type": "code",
      "source": [
        "df.index+=1"
      ],
      "metadata": {
        "id": "PFc3pRUEIauc"
      },
      "execution_count": 617,
      "outputs": []
    },
    {
      "cell_type": "code",
      "source": [
        "df"
      ],
      "metadata": {
        "colab": {
          "base_uri": "https://localhost:8080/",
          "height": 423
        },
        "id": "N1WHDWkiJe0O",
        "outputId": "8747965b-5cbc-4ef8-d174-d40a95d39c9b"
      },
      "execution_count": 618,
      "outputs": [
        {
          "output_type": "execute_result",
          "data": {
            "text/plain": [
              "       0\n",
              "1      6\n",
              "2      2\n",
              "3      2\n",
              "4      4\n",
              "5      7\n",
              "...   ..\n",
              "4996  10\n",
              "4997   9\n",
              "4998   2\n",
              "4999   5\n",
              "5000   3\n",
              "\n",
              "[5000 rows x 1 columns]"
            ],
            "text/html": [
              "\n",
              "  <div id=\"df-4d1e9b3e-d11b-45bf-b978-3ef5def6ae01\">\n",
              "    <div class=\"colab-df-container\">\n",
              "      <div>\n",
              "<style scoped>\n",
              "    .dataframe tbody tr th:only-of-type {\n",
              "        vertical-align: middle;\n",
              "    }\n",
              "\n",
              "    .dataframe tbody tr th {\n",
              "        vertical-align: top;\n",
              "    }\n",
              "\n",
              "    .dataframe thead th {\n",
              "        text-align: right;\n",
              "    }\n",
              "</style>\n",
              "<table border=\"1\" class=\"dataframe\">\n",
              "  <thead>\n",
              "    <tr style=\"text-align: right;\">\n",
              "      <th></th>\n",
              "      <th>0</th>\n",
              "    </tr>\n",
              "  </thead>\n",
              "  <tbody>\n",
              "    <tr>\n",
              "      <th>1</th>\n",
              "      <td>6</td>\n",
              "    </tr>\n",
              "    <tr>\n",
              "      <th>2</th>\n",
              "      <td>2</td>\n",
              "    </tr>\n",
              "    <tr>\n",
              "      <th>3</th>\n",
              "      <td>2</td>\n",
              "    </tr>\n",
              "    <tr>\n",
              "      <th>4</th>\n",
              "      <td>4</td>\n",
              "    </tr>\n",
              "    <tr>\n",
              "      <th>5</th>\n",
              "      <td>7</td>\n",
              "    </tr>\n",
              "    <tr>\n",
              "      <th>...</th>\n",
              "      <td>...</td>\n",
              "    </tr>\n",
              "    <tr>\n",
              "      <th>4996</th>\n",
              "      <td>10</td>\n",
              "    </tr>\n",
              "    <tr>\n",
              "      <th>4997</th>\n",
              "      <td>9</td>\n",
              "    </tr>\n",
              "    <tr>\n",
              "      <th>4998</th>\n",
              "      <td>2</td>\n",
              "    </tr>\n",
              "    <tr>\n",
              "      <th>4999</th>\n",
              "      <td>5</td>\n",
              "    </tr>\n",
              "    <tr>\n",
              "      <th>5000</th>\n",
              "      <td>3</td>\n",
              "    </tr>\n",
              "  </tbody>\n",
              "</table>\n",
              "<p>5000 rows × 1 columns</p>\n",
              "</div>\n",
              "      <button class=\"colab-df-convert\" onclick=\"convertToInteractive('df-4d1e9b3e-d11b-45bf-b978-3ef5def6ae01')\"\n",
              "              title=\"Convert this dataframe to an interactive table.\"\n",
              "              style=\"display:none;\">\n",
              "        \n",
              "  <svg xmlns=\"http://www.w3.org/2000/svg\" height=\"24px\"viewBox=\"0 0 24 24\"\n",
              "       width=\"24px\">\n",
              "    <path d=\"M0 0h24v24H0V0z\" fill=\"none\"/>\n",
              "    <path d=\"M18.56 5.44l.94 2.06.94-2.06 2.06-.94-2.06-.94-.94-2.06-.94 2.06-2.06.94zm-11 1L8.5 8.5l.94-2.06 2.06-.94-2.06-.94L8.5 2.5l-.94 2.06-2.06.94zm10 10l.94 2.06.94-2.06 2.06-.94-2.06-.94-.94-2.06-.94 2.06-2.06.94z\"/><path d=\"M17.41 7.96l-1.37-1.37c-.4-.4-.92-.59-1.43-.59-.52 0-1.04.2-1.43.59L10.3 9.45l-7.72 7.72c-.78.78-.78 2.05 0 2.83L4 21.41c.39.39.9.59 1.41.59.51 0 1.02-.2 1.41-.59l7.78-7.78 2.81-2.81c.8-.78.8-2.07 0-2.86zM5.41 20L4 18.59l7.72-7.72 1.47 1.35L5.41 20z\"/>\n",
              "  </svg>\n",
              "      </button>\n",
              "      \n",
              "  <style>\n",
              "    .colab-df-container {\n",
              "      display:flex;\n",
              "      flex-wrap:wrap;\n",
              "      gap: 12px;\n",
              "    }\n",
              "\n",
              "    .colab-df-convert {\n",
              "      background-color: #E8F0FE;\n",
              "      border: none;\n",
              "      border-radius: 50%;\n",
              "      cursor: pointer;\n",
              "      display: none;\n",
              "      fill: #1967D2;\n",
              "      height: 32px;\n",
              "      padding: 0 0 0 0;\n",
              "      width: 32px;\n",
              "    }\n",
              "\n",
              "    .colab-df-convert:hover {\n",
              "      background-color: #E2EBFA;\n",
              "      box-shadow: 0px 1px 2px rgba(60, 64, 67, 0.3), 0px 1px 3px 1px rgba(60, 64, 67, 0.15);\n",
              "      fill: #174EA6;\n",
              "    }\n",
              "\n",
              "    [theme=dark] .colab-df-convert {\n",
              "      background-color: #3B4455;\n",
              "      fill: #D2E3FC;\n",
              "    }\n",
              "\n",
              "    [theme=dark] .colab-df-convert:hover {\n",
              "      background-color: #434B5C;\n",
              "      box-shadow: 0px 1px 3px 1px rgba(0, 0, 0, 0.15);\n",
              "      filter: drop-shadow(0px 1px 2px rgba(0, 0, 0, 0.3));\n",
              "      fill: #FFFFFF;\n",
              "    }\n",
              "  </style>\n",
              "\n",
              "      <script>\n",
              "        const buttonEl =\n",
              "          document.querySelector('#df-4d1e9b3e-d11b-45bf-b978-3ef5def6ae01 button.colab-df-convert');\n",
              "        buttonEl.style.display =\n",
              "          google.colab.kernel.accessAllowed ? 'block' : 'none';\n",
              "\n",
              "        async function convertToInteractive(key) {\n",
              "          const element = document.querySelector('#df-4d1e9b3e-d11b-45bf-b978-3ef5def6ae01');\n",
              "          const dataTable =\n",
              "            await google.colab.kernel.invokeFunction('convertToInteractive',\n",
              "                                                     [key], {});\n",
              "          if (!dataTable) return;\n",
              "\n",
              "          const docLinkHtml = 'Like what you see? Visit the ' +\n",
              "            '<a target=\"_blank\" href=https://colab.research.google.com/notebooks/data_table.ipynb>data table notebook</a>'\n",
              "            + ' to learn more about interactive tables.';\n",
              "          element.innerHTML = '';\n",
              "          dataTable['output_type'] = 'display_data';\n",
              "          await google.colab.output.renderOutput(dataTable, element);\n",
              "          const docLink = document.createElement('div');\n",
              "          docLink.innerHTML = docLinkHtml;\n",
              "          element.appendChild(docLink);\n",
              "        }\n",
              "      </script>\n",
              "    </div>\n",
              "  </div>\n",
              "  "
            ]
          },
          "metadata": {},
          "execution_count": 618
        }
      ]
    },
    {
      "cell_type": "code",
      "source": [
        "df.to_csv(\"Sarpe_Daiana.csv\")"
      ],
      "metadata": {
        "id": "8GsJ4bs7Jj6D"
      },
      "execution_count": 619,
      "outputs": []
    },
    {
      "cell_type": "code",
      "source": [
        "from google.colab import files\n",
        "\n",
        "files.download('Sarpe_Daiana.csv')"
      ],
      "metadata": {
        "colab": {
          "base_uri": "https://localhost:8080/",
          "height": 17
        },
        "id": "a2lJ2zABK6wX",
        "outputId": "9648adff-c305-4342-9503-8c756fa9184d"
      },
      "execution_count": 620,
      "outputs": [
        {
          "output_type": "display_data",
          "data": {
            "text/plain": [
              "<IPython.core.display.Javascript object>"
            ],
            "application/javascript": [
              "\n",
              "    async function download(id, filename, size) {\n",
              "      if (!google.colab.kernel.accessAllowed) {\n",
              "        return;\n",
              "      }\n",
              "      const div = document.createElement('div');\n",
              "      const label = document.createElement('label');\n",
              "      label.textContent = `Downloading \"${filename}\": `;\n",
              "      div.appendChild(label);\n",
              "      const progress = document.createElement('progress');\n",
              "      progress.max = size;\n",
              "      div.appendChild(progress);\n",
              "      document.body.appendChild(div);\n",
              "\n",
              "      const buffers = [];\n",
              "      let downloaded = 0;\n",
              "\n",
              "      const channel = await google.colab.kernel.comms.open(id);\n",
              "      // Send a message to notify the kernel that we're ready.\n",
              "      channel.send({})\n",
              "\n",
              "      for await (const message of channel.messages) {\n",
              "        // Send a message to notify the kernel that we're ready.\n",
              "        channel.send({})\n",
              "        if (message.buffers) {\n",
              "          for (const buffer of message.buffers) {\n",
              "            buffers.push(buffer);\n",
              "            downloaded += buffer.byteLength;\n",
              "            progress.value = downloaded;\n",
              "          }\n",
              "        }\n",
              "      }\n",
              "      const blob = new Blob(buffers, {type: 'application/binary'});\n",
              "      const a = document.createElement('a');\n",
              "      a.href = window.URL.createObjectURL(blob);\n",
              "      a.download = filename;\n",
              "      div.appendChild(a);\n",
              "      a.click();\n",
              "      div.remove();\n",
              "    }\n",
              "  "
            ]
          },
          "metadata": {}
        },
        {
          "output_type": "display_data",
          "data": {
            "text/plain": [
              "<IPython.core.display.Javascript object>"
            ],
            "application/javascript": [
              "download(\"download_f20a92a2-db3d-4a6c-9484-1b6c942fa1f3\", \"Sarpe_Daiana.csv\", 34421)"
            ]
          },
          "metadata": {}
        }
      ]
    },
    {
      "cell_type": "code",
      "source": [
        "df"
      ],
      "metadata": {
        "colab": {
          "base_uri": "https://localhost:8080/",
          "height": 423
        },
        "id": "233bB-_PLWwB",
        "outputId": "9307cfde-644d-4811-d3eb-6e7c435edfb2"
      },
      "execution_count": 565,
      "outputs": [
        {
          "output_type": "execute_result",
          "data": {
            "text/plain": [
              "      0\n",
              "1     5\n",
              "2     1\n",
              "3     1\n",
              "4     3\n",
              "5     6\n",
              "...  ..\n",
              "4996  9\n",
              "4997  3\n",
              "4998  1\n",
              "4999  4\n",
              "5000  2\n",
              "\n",
              "[5000 rows x 1 columns]"
            ],
            "text/html": [
              "\n",
              "  <div id=\"df-161c9380-f967-4e7d-8e8c-7e07bbc9cb00\">\n",
              "    <div class=\"colab-df-container\">\n",
              "      <div>\n",
              "<style scoped>\n",
              "    .dataframe tbody tr th:only-of-type {\n",
              "        vertical-align: middle;\n",
              "    }\n",
              "\n",
              "    .dataframe tbody tr th {\n",
              "        vertical-align: top;\n",
              "    }\n",
              "\n",
              "    .dataframe thead th {\n",
              "        text-align: right;\n",
              "    }\n",
              "</style>\n",
              "<table border=\"1\" class=\"dataframe\">\n",
              "  <thead>\n",
              "    <tr style=\"text-align: right;\">\n",
              "      <th></th>\n",
              "      <th>0</th>\n",
              "    </tr>\n",
              "  </thead>\n",
              "  <tbody>\n",
              "    <tr>\n",
              "      <th>1</th>\n",
              "      <td>5</td>\n",
              "    </tr>\n",
              "    <tr>\n",
              "      <th>2</th>\n",
              "      <td>1</td>\n",
              "    </tr>\n",
              "    <tr>\n",
              "      <th>3</th>\n",
              "      <td>1</td>\n",
              "    </tr>\n",
              "    <tr>\n",
              "      <th>4</th>\n",
              "      <td>3</td>\n",
              "    </tr>\n",
              "    <tr>\n",
              "      <th>5</th>\n",
              "      <td>6</td>\n",
              "    </tr>\n",
              "    <tr>\n",
              "      <th>...</th>\n",
              "      <td>...</td>\n",
              "    </tr>\n",
              "    <tr>\n",
              "      <th>4996</th>\n",
              "      <td>9</td>\n",
              "    </tr>\n",
              "    <tr>\n",
              "      <th>4997</th>\n",
              "      <td>3</td>\n",
              "    </tr>\n",
              "    <tr>\n",
              "      <th>4998</th>\n",
              "      <td>1</td>\n",
              "    </tr>\n",
              "    <tr>\n",
              "      <th>4999</th>\n",
              "      <td>4</td>\n",
              "    </tr>\n",
              "    <tr>\n",
              "      <th>5000</th>\n",
              "      <td>2</td>\n",
              "    </tr>\n",
              "  </tbody>\n",
              "</table>\n",
              "<p>5000 rows × 1 columns</p>\n",
              "</div>\n",
              "      <button class=\"colab-df-convert\" onclick=\"convertToInteractive('df-161c9380-f967-4e7d-8e8c-7e07bbc9cb00')\"\n",
              "              title=\"Convert this dataframe to an interactive table.\"\n",
              "              style=\"display:none;\">\n",
              "        \n",
              "  <svg xmlns=\"http://www.w3.org/2000/svg\" height=\"24px\"viewBox=\"0 0 24 24\"\n",
              "       width=\"24px\">\n",
              "    <path d=\"M0 0h24v24H0V0z\" fill=\"none\"/>\n",
              "    <path d=\"M18.56 5.44l.94 2.06.94-2.06 2.06-.94-2.06-.94-.94-2.06-.94 2.06-2.06.94zm-11 1L8.5 8.5l.94-2.06 2.06-.94-2.06-.94L8.5 2.5l-.94 2.06-2.06.94zm10 10l.94 2.06.94-2.06 2.06-.94-2.06-.94-.94-2.06-.94 2.06-2.06.94z\"/><path d=\"M17.41 7.96l-1.37-1.37c-.4-.4-.92-.59-1.43-.59-.52 0-1.04.2-1.43.59L10.3 9.45l-7.72 7.72c-.78.78-.78 2.05 0 2.83L4 21.41c.39.39.9.59 1.41.59.51 0 1.02-.2 1.41-.59l7.78-7.78 2.81-2.81c.8-.78.8-2.07 0-2.86zM5.41 20L4 18.59l7.72-7.72 1.47 1.35L5.41 20z\"/>\n",
              "  </svg>\n",
              "      </button>\n",
              "      \n",
              "  <style>\n",
              "    .colab-df-container {\n",
              "      display:flex;\n",
              "      flex-wrap:wrap;\n",
              "      gap: 12px;\n",
              "    }\n",
              "\n",
              "    .colab-df-convert {\n",
              "      background-color: #E8F0FE;\n",
              "      border: none;\n",
              "      border-radius: 50%;\n",
              "      cursor: pointer;\n",
              "      display: none;\n",
              "      fill: #1967D2;\n",
              "      height: 32px;\n",
              "      padding: 0 0 0 0;\n",
              "      width: 32px;\n",
              "    }\n",
              "\n",
              "    .colab-df-convert:hover {\n",
              "      background-color: #E2EBFA;\n",
              "      box-shadow: 0px 1px 2px rgba(60, 64, 67, 0.3), 0px 1px 3px 1px rgba(60, 64, 67, 0.15);\n",
              "      fill: #174EA6;\n",
              "    }\n",
              "\n",
              "    [theme=dark] .colab-df-convert {\n",
              "      background-color: #3B4455;\n",
              "      fill: #D2E3FC;\n",
              "    }\n",
              "\n",
              "    [theme=dark] .colab-df-convert:hover {\n",
              "      background-color: #434B5C;\n",
              "      box-shadow: 0px 1px 3px 1px rgba(0, 0, 0, 0.15);\n",
              "      filter: drop-shadow(0px 1px 2px rgba(0, 0, 0, 0.3));\n",
              "      fill: #FFFFFF;\n",
              "    }\n",
              "  </style>\n",
              "\n",
              "      <script>\n",
              "        const buttonEl =\n",
              "          document.querySelector('#df-161c9380-f967-4e7d-8e8c-7e07bbc9cb00 button.colab-df-convert');\n",
              "        buttonEl.style.display =\n",
              "          google.colab.kernel.accessAllowed ? 'block' : 'none';\n",
              "\n",
              "        async function convertToInteractive(key) {\n",
              "          const element = document.querySelector('#df-161c9380-f967-4e7d-8e8c-7e07bbc9cb00');\n",
              "          const dataTable =\n",
              "            await google.colab.kernel.invokeFunction('convertToInteractive',\n",
              "                                                     [key], {});\n",
              "          if (!dataTable) return;\n",
              "\n",
              "          const docLinkHtml = 'Like what you see? Visit the ' +\n",
              "            '<a target=\"_blank\" href=https://colab.research.google.com/notebooks/data_table.ipynb>data table notebook</a>'\n",
              "            + ' to learn more about interactive tables.';\n",
              "          element.innerHTML = '';\n",
              "          dataTable['output_type'] = 'display_data';\n",
              "          await google.colab.output.renderOutput(dataTable, element);\n",
              "          const docLink = document.createElement('div');\n",
              "          docLink.innerHTML = docLinkHtml;\n",
              "          element.appendChild(docLink);\n",
              "        }\n",
              "      </script>\n",
              "    </div>\n",
              "  </div>\n",
              "  "
            ]
          },
          "metadata": {},
          "execution_count": 565
        }
      ]
    },
    {
      "cell_type": "code",
      "source": [
        "df = df.reset_index(drop=True)"
      ],
      "metadata": {
        "id": "YVfsnAVBPN0y"
      },
      "execution_count": 566,
      "outputs": []
    },
    {
      "cell_type": "code",
      "source": [
        "df"
      ],
      "metadata": {
        "colab": {
          "base_uri": "https://localhost:8080/",
          "height": 423
        },
        "id": "q20dWmoxPcL8",
        "outputId": "39db677c-b5e5-444d-f946-cce4af0c8b59"
      },
      "execution_count": 567,
      "outputs": [
        {
          "output_type": "execute_result",
          "data": {
            "text/plain": [
              "      0\n",
              "0     5\n",
              "1     1\n",
              "2     1\n",
              "3     3\n",
              "4     6\n",
              "...  ..\n",
              "4995  9\n",
              "4996  3\n",
              "4997  1\n",
              "4998  4\n",
              "4999  2\n",
              "\n",
              "[5000 rows x 1 columns]"
            ],
            "text/html": [
              "\n",
              "  <div id=\"df-4425364e-3014-4bbd-8ab4-1ae07c4c6ff9\">\n",
              "    <div class=\"colab-df-container\">\n",
              "      <div>\n",
              "<style scoped>\n",
              "    .dataframe tbody tr th:only-of-type {\n",
              "        vertical-align: middle;\n",
              "    }\n",
              "\n",
              "    .dataframe tbody tr th {\n",
              "        vertical-align: top;\n",
              "    }\n",
              "\n",
              "    .dataframe thead th {\n",
              "        text-align: right;\n",
              "    }\n",
              "</style>\n",
              "<table border=\"1\" class=\"dataframe\">\n",
              "  <thead>\n",
              "    <tr style=\"text-align: right;\">\n",
              "      <th></th>\n",
              "      <th>0</th>\n",
              "    </tr>\n",
              "  </thead>\n",
              "  <tbody>\n",
              "    <tr>\n",
              "      <th>0</th>\n",
              "      <td>5</td>\n",
              "    </tr>\n",
              "    <tr>\n",
              "      <th>1</th>\n",
              "      <td>1</td>\n",
              "    </tr>\n",
              "    <tr>\n",
              "      <th>2</th>\n",
              "      <td>1</td>\n",
              "    </tr>\n",
              "    <tr>\n",
              "      <th>3</th>\n",
              "      <td>3</td>\n",
              "    </tr>\n",
              "    <tr>\n",
              "      <th>4</th>\n",
              "      <td>6</td>\n",
              "    </tr>\n",
              "    <tr>\n",
              "      <th>...</th>\n",
              "      <td>...</td>\n",
              "    </tr>\n",
              "    <tr>\n",
              "      <th>4995</th>\n",
              "      <td>9</td>\n",
              "    </tr>\n",
              "    <tr>\n",
              "      <th>4996</th>\n",
              "      <td>3</td>\n",
              "    </tr>\n",
              "    <tr>\n",
              "      <th>4997</th>\n",
              "      <td>1</td>\n",
              "    </tr>\n",
              "    <tr>\n",
              "      <th>4998</th>\n",
              "      <td>4</td>\n",
              "    </tr>\n",
              "    <tr>\n",
              "      <th>4999</th>\n",
              "      <td>2</td>\n",
              "    </tr>\n",
              "  </tbody>\n",
              "</table>\n",
              "<p>5000 rows × 1 columns</p>\n",
              "</div>\n",
              "      <button class=\"colab-df-convert\" onclick=\"convertToInteractive('df-4425364e-3014-4bbd-8ab4-1ae07c4c6ff9')\"\n",
              "              title=\"Convert this dataframe to an interactive table.\"\n",
              "              style=\"display:none;\">\n",
              "        \n",
              "  <svg xmlns=\"http://www.w3.org/2000/svg\" height=\"24px\"viewBox=\"0 0 24 24\"\n",
              "       width=\"24px\">\n",
              "    <path d=\"M0 0h24v24H0V0z\" fill=\"none\"/>\n",
              "    <path d=\"M18.56 5.44l.94 2.06.94-2.06 2.06-.94-2.06-.94-.94-2.06-.94 2.06-2.06.94zm-11 1L8.5 8.5l.94-2.06 2.06-.94-2.06-.94L8.5 2.5l-.94 2.06-2.06.94zm10 10l.94 2.06.94-2.06 2.06-.94-2.06-.94-.94-2.06-.94 2.06-2.06.94z\"/><path d=\"M17.41 7.96l-1.37-1.37c-.4-.4-.92-.59-1.43-.59-.52 0-1.04.2-1.43.59L10.3 9.45l-7.72 7.72c-.78.78-.78 2.05 0 2.83L4 21.41c.39.39.9.59 1.41.59.51 0 1.02-.2 1.41-.59l7.78-7.78 2.81-2.81c.8-.78.8-2.07 0-2.86zM5.41 20L4 18.59l7.72-7.72 1.47 1.35L5.41 20z\"/>\n",
              "  </svg>\n",
              "      </button>\n",
              "      \n",
              "  <style>\n",
              "    .colab-df-container {\n",
              "      display:flex;\n",
              "      flex-wrap:wrap;\n",
              "      gap: 12px;\n",
              "    }\n",
              "\n",
              "    .colab-df-convert {\n",
              "      background-color: #E8F0FE;\n",
              "      border: none;\n",
              "      border-radius: 50%;\n",
              "      cursor: pointer;\n",
              "      display: none;\n",
              "      fill: #1967D2;\n",
              "      height: 32px;\n",
              "      padding: 0 0 0 0;\n",
              "      width: 32px;\n",
              "    }\n",
              "\n",
              "    .colab-df-convert:hover {\n",
              "      background-color: #E2EBFA;\n",
              "      box-shadow: 0px 1px 2px rgba(60, 64, 67, 0.3), 0px 1px 3px 1px rgba(60, 64, 67, 0.15);\n",
              "      fill: #174EA6;\n",
              "    }\n",
              "\n",
              "    [theme=dark] .colab-df-convert {\n",
              "      background-color: #3B4455;\n",
              "      fill: #D2E3FC;\n",
              "    }\n",
              "\n",
              "    [theme=dark] .colab-df-convert:hover {\n",
              "      background-color: #434B5C;\n",
              "      box-shadow: 0px 1px 3px 1px rgba(0, 0, 0, 0.15);\n",
              "      filter: drop-shadow(0px 1px 2px rgba(0, 0, 0, 0.3));\n",
              "      fill: #FFFFFF;\n",
              "    }\n",
              "  </style>\n",
              "\n",
              "      <script>\n",
              "        const buttonEl =\n",
              "          document.querySelector('#df-4425364e-3014-4bbd-8ab4-1ae07c4c6ff9 button.colab-df-convert');\n",
              "        buttonEl.style.display =\n",
              "          google.colab.kernel.accessAllowed ? 'block' : 'none';\n",
              "\n",
              "        async function convertToInteractive(key) {\n",
              "          const element = document.querySelector('#df-4425364e-3014-4bbd-8ab4-1ae07c4c6ff9');\n",
              "          const dataTable =\n",
              "            await google.colab.kernel.invokeFunction('convertToInteractive',\n",
              "                                                     [key], {});\n",
              "          if (!dataTable) return;\n",
              "\n",
              "          const docLinkHtml = 'Like what you see? Visit the ' +\n",
              "            '<a target=\"_blank\" href=https://colab.research.google.com/notebooks/data_table.ipynb>data table notebook</a>'\n",
              "            + ' to learn more about interactive tables.';\n",
              "          element.innerHTML = '';\n",
              "          dataTable['output_type'] = 'display_data';\n",
              "          await google.colab.output.renderOutput(dataTable, element);\n",
              "          const docLink = document.createElement('div');\n",
              "          docLink.innerHTML = docLinkHtml;\n",
              "          element.appendChild(docLink);\n",
              "        }\n",
              "      </script>\n",
              "    </div>\n",
              "  </div>\n",
              "  "
            ]
          },
          "metadata": {},
          "execution_count": 567
        }
      ]
    },
    {
      "cell_type": "code",
      "source": [
        ""
      ],
      "metadata": {
        "id": "xGO0KFdJTbLX"
      },
      "execution_count": 567,
      "outputs": []
    }
  ]
}