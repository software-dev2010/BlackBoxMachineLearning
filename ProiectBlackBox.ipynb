{
  "nbformat": 4,
  "nbformat_minor": 0,
  "metadata": {
    "colab": {
      "name": "ProiectBlackBox.ipynb",
      "provenance": [],
      "mount_file_id": "1zqZsD_8-Kt2FJlmPznnK_vWm170Vt_Tz",
      "authorship_tag": "ABX9TyPKgzElAyoKnxmvUUKGmU4a",
      "include_colab_link": true
    },
    "kernelspec": {
      "name": "python3",
      "display_name": "Python 3"
    },
    "language_info": {
      "name": "python"
    }
  },
  "cells": [
    {
      "cell_type": "markdown",
      "metadata": {
        "id": "view-in-github",
        "colab_type": "text"
      },
      "source": [
        "<a href=\"https://colab.research.google.com/github/software-dev2010/BlackBoxMachineLearning/blob/main/ProiectBlackBox.ipynb\" target=\"_parent\"><img src=\"https://colab.research.google.com/assets/colab-badge.svg\" alt=\"Open In Colab\"/></a>"
      ]
    },
    {
      "cell_type": "code",
      "execution_count": 231,
      "metadata": {
        "colab": {
          "base_uri": "https://localhost:8080/"
        },
        "id": "CP3Tv1iCly-V",
        "outputId": "d81e09a0-ede3-4028-b2f3-244984ad9573"
      },
      "outputs": [
        {
          "output_type": "stream",
          "name": "stdout",
          "text": [
            "TF version:  2.8.0\n",
            "HUB version:  0.12.0\n"
          ]
        }
      ],
      "source": [
        "import numpy as np\n",
        "import pandas as pd\n",
        "%matplotlib inline\n",
        "import matplotlib.pyplot as plt\n",
        "\n",
        "# Import TensorFlow\n",
        "import tensorflow as tf\n",
        "print(\"TF version: \", tf.__version__)\n",
        "\n",
        "# import TensorFlow Hub \n",
        "import tensorflow_hub as hub\n",
        "print(\"HUB version: \", hub.__version__)\n",
        "\n",
        "#!unzip \"drive/MyDrive/Facultate/ia-id-22\" -d \"drive/My Drive/Facultate\""
      ]
    },
    {
      "cell_type": "code",
      "source": [
        "train_samples = np.load(\"drive/MyDrive/Facultate/train_samples.npy\")\n",
        "np.set_printoptions(suppress=True)"
      ],
      "metadata": {
        "id": "bf9YBgQGn1vm"
      },
      "execution_count": 232,
      "outputs": []
    },
    {
      "cell_type": "code",
      "source": [
        "train_samples = train_samples.T\n",
        "x_train = np.reshape(train_samples, (1000, 28, 28))"
      ],
      "metadata": {
        "id": "pB3jWWkyngFp"
      },
      "execution_count": 233,
      "outputs": []
    },
    {
      "cell_type": "code",
      "source": [
        "#x_train = x_train * 255"
      ],
      "metadata": {
        "id": "8xj8f3eoupKq"
      },
      "execution_count": 234,
      "outputs": []
    },
    {
      "cell_type": "code",
      "source": [
        "x_train"
      ],
      "metadata": {
        "id": "7ou_psvpwlvq",
        "colab": {
          "base_uri": "https://localhost:8080/"
        },
        "outputId": "111da1e6-a261-4c26-ebf4-b6c1eb48dd91"
      },
      "execution_count": 235,
      "outputs": [
        {
          "output_type": "execute_result",
          "data": {
            "text/plain": [
              "array([[[0.12039034, 0.        , 0.        , ..., 0.        ,\n",
              "         0.25186906, 0.        ],\n",
              "        [0.00002647, 0.        , 0.00023887, ..., 0.        ,\n",
              "         0.        , 0.        ],\n",
              "        [0.        , 0.        , 0.        , ..., 0.        ,\n",
              "         0.6889491 , 0.        ],\n",
              "        ...,\n",
              "        [0.00018945, 0.92377214, 0.        , ..., 0.        ,\n",
              "         0.        , 0.18755319],\n",
              "        [0.        , 0.00000971, 0.00064975, ..., 0.        ,\n",
              "         0.        , 0.        ],\n",
              "        [0.        , 0.        , 0.13388185, ..., 0.39041834,\n",
              "         0.19844221, 0.07407835]],\n",
              "\n",
              "       [[0.32371807, 0.        , 0.17420925, ..., 0.        ,\n",
              "         0.72341737, 0.64603305],\n",
              "        [0.00033012, 0.        , 0.65124033, ..., 0.        ,\n",
              "         0.44704811, 0.        ],\n",
              "        [0.        , 0.        , 0.00000003, ..., 0.        ,\n",
              "         0.00000014, 0.        ],\n",
              "        ...,\n",
              "        [0.        , 0.00170334, 0.        , ..., 0.        ,\n",
              "         0.        , 0.69331541],\n",
              "        [0.00000002, 0.        , 0.6733384 , ..., 0.        ,\n",
              "         0.00357594, 0.        ],\n",
              "        [0.        , 0.        , 0.79977207, ..., 0.02838762,\n",
              "         0.6368005 , 0.80362829]],\n",
              "\n",
              "       [[0.00003412, 0.        , 0.43546548, ..., 0.        ,\n",
              "         0.        , 0.22219133],\n",
              "        [0.08575297, 0.        , 0.00031466, ..., 0.        ,\n",
              "         0.00004009, 0.2984971 ],\n",
              "        [0.        , 0.        , 0.        , ..., 0.        ,\n",
              "         0.00000738, 0.        ],\n",
              "        ...,\n",
              "        [0.        , 0.00004043, 0.        , ..., 0.        ,\n",
              "         0.        , 0.00005051],\n",
              "        [0.        , 0.        , 0.        , ..., 0.        ,\n",
              "         0.86376117, 0.        ],\n",
              "        [0.        , 0.        , 0.        , ..., 0.47922554,\n",
              "         0.00054628, 0.16388128]],\n",
              "\n",
              "       ...,\n",
              "\n",
              "       [[0.93611993, 0.        , 0.87331465, ..., 0.        ,\n",
              "         0.00425904, 0.99202611],\n",
              "        [0.00092185, 0.        , 0.23712859, ..., 0.        ,\n",
              "         0.29562264, 0.00002778],\n",
              "        [0.        , 0.        , 0.        , ..., 0.        ,\n",
              "         0.        , 0.        ],\n",
              "        ...,\n",
              "        [0.        , 0.01462507, 0.        , ..., 0.        ,\n",
              "         0.        , 0.99204405],\n",
              "        [0.00000504, 0.        , 0.00210471, ..., 0.        ,\n",
              "         0.47894251, 0.        ],\n",
              "        [0.        , 0.        , 0.55296301, ..., 0.34638465,\n",
              "         0.97359936, 0.60289615]],\n",
              "\n",
              "       [[0.35164163, 0.        , 0.54771126, ..., 0.        ,\n",
              "         0.02127218, 0.89433182],\n",
              "        [0.        , 0.        , 0.00009291, ..., 0.        ,\n",
              "         0.00000005, 0.00004957],\n",
              "        [0.        , 0.        , 0.        , ..., 0.        ,\n",
              "         0.6940096 , 0.        ],\n",
              "        ...,\n",
              "        [0.        , 0.        , 0.        , ..., 0.        ,\n",
              "         0.        , 0.00013054],\n",
              "        [0.        , 0.        , 0.00623839, ..., 0.        ,\n",
              "         0.14933951, 0.        ],\n",
              "        [0.        , 0.        , 0.3987171 , ..., 0.00001508,\n",
              "         0.00052537, 0.00030329]],\n",
              "\n",
              "       [[0.12688439, 0.        , 0.53463516, ..., 0.        ,\n",
              "         0.        , 0.00124224],\n",
              "        [0.00023016, 0.        , 0.28739134, ..., 0.        ,\n",
              "         0.00004436, 0.77520643],\n",
              "        [0.        , 0.        , 0.        , ..., 0.        ,\n",
              "         0.00071109, 0.        ],\n",
              "        ...,\n",
              "        [0.        , 0.00072223, 0.        , ..., 0.        ,\n",
              "         0.        , 0.21652178],\n",
              "        [0.        , 0.        , 0.        , ..., 0.        ,\n",
              "         0.88330352, 0.        ],\n",
              "        [0.        , 0.        , 0.00014298, ..., 0.91937682,\n",
              "         0.08079851, 0.77784287]]])"
            ]
          },
          "metadata": {},
          "execution_count": 235
        }
      ]
    },
    {
      "cell_type": "code",
      "source": [
        "type(x_train)"
      ],
      "metadata": {
        "colab": {
          "base_uri": "https://localhost:8080/"
        },
        "id": "nSSya5GopwT5",
        "outputId": "e2ca3b6d-53a2-4e53-f3a1-d8e57486c26c"
      },
      "execution_count": 236,
      "outputs": [
        {
          "output_type": "execute_result",
          "data": {
            "text/plain": [
              "numpy.ndarray"
            ]
          },
          "metadata": {},
          "execution_count": 236
        }
      ]
    },
    {
      "cell_type": "code",
      "source": [
        "#x_train = x_train.astype('uint8')"
      ],
      "metadata": {
        "id": "blr-WiP3wq_A"
      },
      "execution_count": 237,
      "outputs": []
    },
    {
      "cell_type": "code",
      "source": [
        "x_train.dtype"
      ],
      "metadata": {
        "colab": {
          "base_uri": "https://localhost:8080/"
        },
        "id": "fSDVfuYJp02Y",
        "outputId": "8c7abb62-3f2e-4219-84f8-20218b7e70fc"
      },
      "execution_count": 238,
      "outputs": [
        {
          "output_type": "execute_result",
          "data": {
            "text/plain": [
              "dtype('float64')"
            ]
          },
          "metadata": {},
          "execution_count": 238
        }
      ]
    },
    {
      "cell_type": "code",
      "source": [
        "x_train.size"
      ],
      "metadata": {
        "colab": {
          "base_uri": "https://localhost:8080/"
        },
        "id": "GTgTGWQV4YQ5",
        "outputId": "be3ec01f-457a-4c60-9291-2e252f7254d5"
      },
      "execution_count": 239,
      "outputs": [
        {
          "output_type": "execute_result",
          "data": {
            "text/plain": [
              "784000"
            ]
          },
          "metadata": {},
          "execution_count": 239
        }
      ]
    },
    {
      "cell_type": "code",
      "source": [
        "x_train.shape"
      ],
      "metadata": {
        "colab": {
          "base_uri": "https://localhost:8080/"
        },
        "id": "_jsyny5G4cCh",
        "outputId": "a56d4328-33ca-434a-e662-a59c3359ee96"
      },
      "execution_count": 240,
      "outputs": [
        {
          "output_type": "execute_result",
          "data": {
            "text/plain": [
              "(1000, 28, 28)"
            ]
          },
          "metadata": {},
          "execution_count": 240
        }
      ]
    },
    {
      "cell_type": "code",
      "source": [
        "x_train[0]"
      ],
      "metadata": {
        "id": "LNLWLnYyrE9n",
        "colab": {
          "base_uri": "https://localhost:8080/"
        },
        "outputId": "48dda626-ac2d-439e-b3fb-bd489583b028"
      },
      "execution_count": 241,
      "outputs": [
        {
          "output_type": "execute_result",
          "data": {
            "text/plain": [
              "array([[0.12039034, 0.        , 0.        , 0.67684946, 0.762416  ,\n",
              "        0.86248539, 0.        , 0.        , 0.        , 0.00000214,\n",
              "        0.        , 0.        , 0.        , 0.00030336, 0.00005833,\n",
              "        0.        , 0.        , 0.        , 0.00001704, 0.        ,\n",
              "        0.02893439, 0.43329571, 0.        , 0.97344309, 0.00065164,\n",
              "        0.        , 0.25186906, 0.        ],\n",
              "       [0.00002647, 0.        , 0.00023887, 0.05107286, 0.1197222 ,\n",
              "        0.26131522, 0.        , 0.05044949, 0.02961606, 0.00005426,\n",
              "        0.        , 0.00178306, 0.        , 0.        , 0.        ,\n",
              "        0.        , 0.18713329, 0.        , 0.13431652, 0.00001007,\n",
              "        0.00016623, 0.        , 0.00007904, 0.        , 0.        ,\n",
              "        0.        , 0.        , 0.        ],\n",
              "       [0.        , 0.        , 0.        , 0.        , 0.00000011,\n",
              "        0.0052616 , 0.20294112, 0.        , 0.14663555, 0.12491417,\n",
              "        0.        , 0.        , 0.        , 0.46085609, 0.        ,\n",
              "        0.00023056, 0.95253799, 0.        , 0.14574752, 0.        ,\n",
              "        0.98000859, 0.        , 0.        , 0.        , 0.        ,\n",
              "        0.        , 0.6889491 , 0.        ],\n",
              "       [0.        , 0.00009576, 0.        , 0.        , 0.        ,\n",
              "        0.        , 0.        , 0.        , 0.66155705, 0.        ,\n",
              "        0.41701133, 0.79121314, 0.00031796, 0.0303544 , 0.        ,\n",
              "        0.94958939, 0.        , 0.        , 0.        , 0.00000463,\n",
              "        0.80707853, 0.        , 0.17663646, 0.        , 0.        ,\n",
              "        0.        , 0.00002295, 0.00530278],\n",
              "       [0.        , 0.57142681, 0.54323406, 0.96741941, 0.99587159,\n",
              "        0.        , 0.63148819, 0.        , 0.84727155, 0.        ,\n",
              "        0.        , 0.00033915, 0.0003917 , 0.        , 0.15805558,\n",
              "        0.00075172, 0.00000003, 0.00088781, 0.        , 0.        ,\n",
              "        0.        , 0.        , 0.        , 0.        , 0.        ,\n",
              "        0.        , 0.01402307, 0.24785626],\n",
              "       [0.00088769, 0.        , 0.97514917, 0.        , 0.        ,\n",
              "        0.        , 0.        , 0.00003765, 0.        , 0.        ,\n",
              "        0.        , 0.        , 0.00000038, 0.0009357 , 0.0093918 ,\n",
              "        0.00000013, 0.        , 0.00107215, 0.14988479, 0.        ,\n",
              "        0.        , 0.62682336, 0.10173434, 0.        , 0.00000288,\n",
              "        0.        , 0.        , 0.        ],\n",
              "       [0.        , 0.        , 0.        , 0.15764565, 0.27975673,\n",
              "        0.        , 0.93697407, 0.98322382, 0.        , 0.00040862,\n",
              "        0.9778336 , 0.        , 0.        , 0.0001431 , 0.00036733,\n",
              "        0.        , 0.        , 0.        , 0.        , 0.        ,\n",
              "        0.36676736, 0.47203078, 0.00000933, 0.        , 0.        ,\n",
              "        0.        , 0.00029919, 0.        ],\n",
              "       [0.04502005, 0.11755955, 0.        , 0.        , 0.        ,\n",
              "        0.00011049, 0.00000009, 0.00000989, 0.08649755, 0.47010647,\n",
              "        0.        , 0.        , 0.        , 0.        , 0.00000002,\n",
              "        0.28772945, 0.        , 0.69925193, 0.        , 0.        ,\n",
              "        0.        , 0.97730616, 0.        , 0.        , 0.5051799 ,\n",
              "        0.09838879, 0.00086114, 0.        ],\n",
              "       [0.00000004, 0.        , 0.        , 0.89611098, 0.48937003,\n",
              "        0.        , 0.        , 0.44703931, 0.        , 0.        ,\n",
              "        0.56015901, 0.78071599, 0.        , 0.        , 0.        ,\n",
              "        0.05334368, 0.00000288, 0.12037133, 0.02689388, 0.88412654,\n",
              "        0.00007984, 0.45611465, 0.        , 0.        , 0.46079182,\n",
              "        0.0000263 , 0.0001658 , 0.79942885],\n",
              "       [0.        , 0.        , 0.20880885, 0.        , 0.00000232,\n",
              "        0.79239794, 0.19824195, 0.        , 0.        , 0.        ,\n",
              "        0.40133064, 0.00000044, 0.        , 0.95750441, 0.58140209,\n",
              "        0.00052229, 0.89282522, 0.01406584, 0.1232739 , 0.00000477,\n",
              "        0.        , 0.45731408, 0.        , 0.98787514, 0.        ,\n",
              "        0.0000001 , 0.        , 0.        ],\n",
              "       [0.12386087, 0.62999526, 0.65011278, 0.00000489, 0.00011659,\n",
              "        0.46571939, 0.        , 0.99582086, 0.        , 0.00023798,\n",
              "        0.65098991, 0.        , 0.00000017, 0.00082313, 0.09885761,\n",
              "        0.        , 0.        , 0.00005065, 0.        , 0.28088559,\n",
              "        0.18526736, 0.        , 0.05775123, 0.39035608, 0.        ,\n",
              "        0.        , 0.00000003, 0.        ],\n",
              "       [0.        , 0.00007493, 0.61745494, 0.        , 0.00033774,\n",
              "        0.7244572 , 0.81289997, 0.00000007, 0.        , 0.        ,\n",
              "        0.96256206, 0.59767557, 0.        , 0.        , 0.72165745,\n",
              "        0.49628379, 0.00005825, 0.00000027, 0.        , 0.00036024,\n",
              "        0.        , 0.        , 0.4609235 , 0.        , 0.        ,\n",
              "        0.72500503, 0.        , 0.4796955 ],\n",
              "       [0.        , 0.00550628, 0.        , 0.        , 0.        ,\n",
              "        0.        , 0.15373684, 0.        , 0.30339918, 0.83039089,\n",
              "        0.61744938, 0.28804105, 0.        , 0.77162698, 0.95767981,\n",
              "        0.006672  , 0.        , 0.0198042 , 0.        , 0.16454917,\n",
              "        0.8873638 , 0.        , 0.67055774, 0.00000001, 0.        ,\n",
              "        0.780569  , 0.        , 0.        ],\n",
              "       [0.        , 0.        , 0.        , 0.        , 0.        ,\n",
              "        0.3980181 , 0.        , 0.        , 0.        , 0.        ,\n",
              "        0.58123999, 0.        , 0.        , 0.00029819, 0.        ,\n",
              "        0.00010242, 0.        , 0.        , 0.        , 0.        ,\n",
              "        0.        , 0.        , 0.        , 0.94390485, 0.02275265,\n",
              "        0.05797954, 0.        , 0.        ],\n",
              "       [0.0003626 , 0.        , 0.54964757, 0.        , 0.81611065,\n",
              "        0.        , 0.00000001, 0.00088781, 0.        , 0.11979505,\n",
              "        0.        , 0.        , 0.00000007, 0.0001492 , 0.00023056,\n",
              "        0.        , 0.        , 0.        , 0.        , 0.04380173,\n",
              "        0.00046512, 0.        , 0.        , 0.45839185, 0.79325114,\n",
              "        0.        , 0.02443189, 0.        ],\n",
              "       [0.92422053, 0.        , 0.        , 0.90888765, 0.00521838,\n",
              "        0.        , 0.        , 0.        , 0.33441384, 0.9428728 ,\n",
              "        0.00000021, 0.75020625, 0.00000002, 0.        , 0.06633106,\n",
              "        0.        , 0.91061853, 0.01215235, 0.        , 0.        ,\n",
              "        0.        , 0.37713036, 0.87404021, 0.        , 0.92784387,\n",
              "        0.00025784, 0.61160965, 0.        ],\n",
              "       [0.        , 0.00060749, 0.00000019, 0.        , 0.35403516,\n",
              "        0.074223  , 0.        , 0.0012044 , 0.        , 0.        ,\n",
              "        0.        , 0.00000021, 0.        , 0.00035442, 0.        ,\n",
              "        0.76211668, 0.79735404, 0.        , 0.        , 0.98720669,\n",
              "        0.00013974, 0.        , 0.00008549, 0.        , 0.15420507,\n",
              "        0.        , 0.98003031, 0.12042192],\n",
              "       [0.00008529, 0.        , 0.13180459, 0.        , 0.00000005,\n",
              "        0.0002157 , 0.        , 0.        , 0.        , 0.00000008,\n",
              "        0.        , 0.00030329, 0.        , 0.03375252, 0.        ,\n",
              "        0.        , 0.27461915, 0.        , 0.00070369, 0.01833717,\n",
              "        0.        , 0.0000099 , 0.        , 0.        , 0.        ,\n",
              "        0.        , 0.02206136, 0.        ],\n",
              "       [0.        , 0.98379943, 0.        , 0.        , 0.70604633,\n",
              "        0.        , 0.        , 0.17688673, 0.00000011, 0.        ,\n",
              "        0.        , 0.        , 0.        , 0.        , 0.        ,\n",
              "        0.54604372, 0.        , 0.        , 0.53390868, 0.00000002,\n",
              "        0.        , 0.        , 0.00040521, 0.12033698, 0.00006912,\n",
              "        0.        , 0.        , 0.        ],\n",
              "       [0.        , 0.        , 0.        , 0.00019686, 0.35952076,\n",
              "        0.00001421, 0.00253546, 0.85686549, 0.        , 0.42734867,\n",
              "        0.84851048, 0.50636719, 0.        , 0.00012645, 0.0000099 ,\n",
              "        0.        , 0.        , 0.        , 0.        , 0.        ,\n",
              "        0.00000002, 0.26574955, 0.        , 0.        , 0.89227538,\n",
              "        0.17589939, 0.        , 0.        ],\n",
              "       [0.        , 0.6173946 , 0.03632102, 0.02587552, 0.62612002,\n",
              "        0.64524325, 0.        , 0.48521237, 0.2223834 , 0.        ,\n",
              "        0.        , 0.75530967, 0.        , 0.25858885, 0.72559252,\n",
              "        0.        , 0.        , 0.        , 0.12175201, 0.        ,\n",
              "        0.0000482 , 0.0000001 , 0.81644693, 0.88735683, 0.        ,\n",
              "        0.89621263, 0.        , 0.        ],\n",
              "       [0.46085609, 0.        , 0.06504399, 0.00000032, 0.60607651,\n",
              "        0.        , 0.00000002, 0.        , 0.6660863 , 0.        ,\n",
              "        0.        , 0.62754225, 0.40134528, 0.00004139, 0.        ,\n",
              "        0.        , 0.06115975, 0.00011086, 0.28029502, 0.99456758,\n",
              "        0.        , 0.        , 0.        , 0.        , 0.        ,\n",
              "        0.        , 0.92316204, 0.00027959],\n",
              "       [0.00000676, 0.74963188, 0.31602365, 0.00037391, 0.        ,\n",
              "        0.        , 0.        , 0.00323203, 0.00090224, 0.00012004,\n",
              "        0.00001141, 0.00188935, 0.        , 0.11256759, 0.62194865,\n",
              "        0.        , 0.        , 0.        , 0.00023046, 0.30190838,\n",
              "        0.        , 0.        , 0.        , 0.        , 0.        ,\n",
              "        0.        , 0.00000001, 0.8231142 ],\n",
              "       [0.        , 0.49598865, 0.38717367, 0.4603827 , 0.        ,\n",
              "        0.        , 0.        , 0.        , 0.22712479, 0.83003864,\n",
              "        0.97427707, 0.        , 0.9302629 , 0.00031263, 0.        ,\n",
              "        0.        , 0.00006421, 0.30324685, 0.81623451, 0.00018822,\n",
              "        0.        , 0.9154422 , 0.00031581, 0.18453461, 0.        ,\n",
              "        0.        , 0.42819176, 0.        ],\n",
              "       [0.00003497, 0.03110574, 0.00058344, 0.08669326, 0.00740177,\n",
              "        0.890905  , 0.        , 0.5389089 , 0.95766357, 0.        ,\n",
              "        0.92331678, 0.        , 0.01551803, 0.        , 0.        ,\n",
              "        0.        , 0.1482288 , 0.5181971 , 0.00072618, 0.        ,\n",
              "        0.        , 0.        , 0.00002667, 0.07819454, 0.89661842,\n",
              "        0.00373265, 0.        , 0.        ],\n",
              "       [0.00018945, 0.92377214, 0.        , 0.07327343, 0.0005719 ,\n",
              "        0.10260189, 0.        , 0.        , 0.36547755, 0.        ,\n",
              "        0.        , 0.00052829, 0.        , 0.        , 0.000014  ,\n",
              "        0.65651574, 0.        , 0.98696409, 0.00023062, 0.04410828,\n",
              "        0.        , 0.        , 0.        , 0.        , 0.        ,\n",
              "        0.        , 0.        , 0.18755319],\n",
              "       [0.        , 0.00000971, 0.00064975, 0.        , 0.5237958 ,\n",
              "        0.        , 0.        , 0.        , 0.        , 0.95731158,\n",
              "        0.93007577, 0.        , 0.        , 0.        , 0.88347083,\n",
              "        0.34467891, 0.74690023, 0.00003498, 0.        , 0.        ,\n",
              "        0.        , 0.0007565 , 0.00005943, 0.        , 0.        ,\n",
              "        0.        , 0.        , 0.        ],\n",
              "       [0.        , 0.        , 0.13388185, 0.44442109, 0.        ,\n",
              "        0.36869507, 0.        , 0.        , 0.        , 0.59781996,\n",
              "        0.21084273, 0.        , 0.        , 0.33339972, 0.        ,\n",
              "        0.99289276, 0.67384913, 0.20733107, 0.00000005, 0.00028021,\n",
              "        0.00062541, 0.00060822, 0.        , 0.        , 0.96083748,\n",
              "        0.39041834, 0.19844221, 0.07407835]])"
            ]
          },
          "metadata": {},
          "execution_count": 241
        }
      ]
    },
    {
      "cell_type": "code",
      "source": [
        "import matplotlib.pyplot as plt\n",
        "#plt.figure(dpi=1200)\n",
        "plt.imshow(x_train[6],cmap=plt.cm.binary)\n",
        "plt.show()"
      ],
      "metadata": {
        "colab": {
          "base_uri": "https://localhost:8080/",
          "height": 265
        },
        "id": "M9rN-JUFoRj7",
        "outputId": "ddc016ad-9862-442b-d3c9-cc53abe76071"
      },
      "execution_count": 242,
      "outputs": [
        {
          "output_type": "display_data",
          "data": {
            "text/plain": [
              "<Figure size 432x288 with 1 Axes>"
            ],
            "image/png": "[encoded data removed]"
          },
          "metadata": {
            "needs_background": "light"
          }
        }
      ]
    },
    {
      "cell_type": "code",
      "source": [
        "x_train.size"
      ],
      "metadata": {
        "colab": {
          "base_uri": "https://localhost:8080/"
        },
        "id": "BXR6Egi8t5TH",
        "outputId": "dbb3f1cb-f415-4c45-e8c6-3d6d47e9070e"
      },
      "execution_count": 243,
      "outputs": [
        {
          "output_type": "execute_result",
          "data": {
            "text/plain": [
              "784000"
            ]
          },
          "metadata": {},
          "execution_count": 243
        }
      ]
    },
    {
      "cell_type": "code",
      "source": [
        "\n",
        "x_train.dtype"
      ],
      "metadata": {
        "colab": {
          "base_uri": "https://localhost:8080/"
        },
        "id": "s6xtw_8Et_27",
        "outputId": "c6f6d91f-bd7a-452c-e7d0-e65318b34291"
      },
      "execution_count": 244,
      "outputs": [
        {
          "output_type": "execute_result",
          "data": {
            "text/plain": [
              "dtype('float64')"
            ]
          },
          "metadata": {},
          "execution_count": 244
        }
      ]
    },
    {
      "cell_type": "code",
      "source": [
        "test_samples = np.load(\"drive/MyDrive/Facultate/test_samples.npy\")\n",
        "np.set_printoptions(suppress=True)"
      ],
      "metadata": {
        "id": "kl54z3cFuEOP"
      },
      "execution_count": 245,
      "outputs": []
    },
    {
      "cell_type": "code",
      "source": [
        "test_samples"
      ],
      "metadata": {
        "colab": {
          "base_uri": "https://localhost:8080/"
        },
        "id": "YfljeRzVyQwN",
        "outputId": "5e18301c-436c-4b30-a474-8135deb7dbea"
      },
      "execution_count": 246,
      "outputs": [
        {
          "output_type": "execute_result",
          "data": {
            "text/plain": [
              "array([[0.00002352, 0.81171077, 0.99141869, ..., 0.96318398, 0.91632066,\n",
              "        0.03107871],\n",
              "       [0.        , 0.        , 0.        , ..., 0.        , 0.        ,\n",
              "        0.        ],\n",
              "       [0.50581123, 0.        , 0.00006633, ..., 0.0000471 , 0.53911149,\n",
              "        0.        ],\n",
              "       ...,\n",
              "       [0.22671873, 0.        , 0.        , ..., 0.        , 0.4831048 ,\n",
              "        0.        ],\n",
              "       [0.09692939, 0.1140587 , 0.66867977, ..., 0.29670893, 0.24744506,\n",
              "        0.44129307],\n",
              "       [0.84257603, 0.00005355, 0.05365002, ..., 0.00630429, 0.        ,\n",
              "        0.49411784]])"
            ]
          },
          "metadata": {},
          "execution_count": 246
        }
      ]
    },
    {
      "cell_type": "code",
      "source": [
        "train_labels = np.load(\"drive/MyDrive/Facultate/train_labels.npy\")\n",
        "np.set_printoptions(suppress=True)"
      ],
      "metadata": {
        "id": "bjPb3VMEySWA"
      },
      "execution_count": 247,
      "outputs": []
    },
    {
      "cell_type": "code",
      "source": [
        "train_labels"
      ],
      "metadata": {
        "colab": {
          "base_uri": "https://localhost:8080/"
        },
        "id": "bfRxFhCyyc3o",
        "outputId": "bc88c115-a0a0-4f34-870b-5f71fea6e5ea"
      },
      "execution_count": 248,
      "outputs": [
        {
          "output_type": "execute_result",
          "data": {
            "text/plain": [
              "array([ 8,  4,  5,  7,  2,  9,  2,  1, 10,  9,  1,  4,  2,  3,  8,  1,  3,\n",
              "       10,  7,  1,  2,  7,  8,  2, 10,  8,  7,  6,  6,  9,  9,  4,  5,  5,\n",
              "        9,  8,  4,  7,  5,  7,  7,  4,  9,  9, 10, 10,  5,  5,  1,  8,  9,\n",
              "        2,  1,  1,  2,  9,  6,  8,  2,  8,  6,  6, 10, 10,  5,  3,  6,  4,\n",
              "        8,  5,  7,  7,  1,  2,  1,  2,  3,  5,  9,  6,  4,  6,  1,  1,  7,\n",
              "        5,  4,  9,  4,  8,  2,  5,  4, 10,  3,  3,  1,  4,  7,  7,  8,  5,\n",
              "        4,  3,  3,  5, 10,  2,  1,  6,  3,  5,  9,  3,  2,  1,  9,  5,  5,\n",
              "        9,  1,  7,  5,  2,  5, 10,  7,  4,  2,  3, 10,  1,  2,  1,  5,  3,\n",
              "       10, 10,  5,  4,  9,  7, 10,  4,  1,  7,  8,  1,  4,  2,  5,  3,  4,\n",
              "        4,  1,  5,  3,  6,  6,  7,  4,  8,  3,  9,  6, 10,  3,  1,  2,  2,\n",
              "        9,  3, 10,  4,  2,  5,  2,  6,  8,  7,  5,  8,  8,  9,  4, 10,  4,\n",
              "        1,  6,  2,  4,  3,  1,  4,  1,  5,  1,  8,  5,  9,  9, 10,  1,  1,\n",
              "        2,  9,  8,  4, 10, 10,  6,  6, 10,  7,  8,  9,  3,  5,  7, 10,  9,\n",
              "        2,  7,  8, 10,  2,  7,  3,  1, 10,  7,  7,  3, 10,  2,  2,  3,  2,\n",
              "        4,  2,  6,  3,  8,  9,  1,  2,  1,  3,  9,  1,  3,  8,  4,  8,  6,\n",
              "        6,  2,  9,  3,  3,  7, 10,  2,  9,  8,  5,  1,  7,  1,  8,  4,  2,\n",
              "        1,  7,  7,  1, 10,  4,  5,  7,  8,  9, 10,  8,  4,  1,  1,  5,  1,\n",
              "        3,  7,  8,  6,  5,  7,  5,  9,  3,  1,  9,  8,  2,  8,  6,  2,  2,\n",
              "        3,  3,  8,  6,  7,  7,  8,  5,  3,  4, 10,  1,  3,  1, 10,  1,  5,\n",
              "        4,  5,  8,  8,  1,  4,  7,  1,  5,  4,  9,  7,  9,  2,  4,  9, 10,\n",
              "        1, 10,  1,  9,  1,  3,  9,  8,  9,  8, 10,  2,  8,  1,  4,  2,  5,\n",
              "        3,  4,  4,  9,  5, 10,  6,  7,  7,  5,  8,  1,  9,  4, 10,  9,  1,\n",
              "        7,  2,  9,  3,  6,  4,  3,  5,  6,  6,  7,  7, 10,  8,  4,  9, 10,\n",
              "       10,  4,  1,  9,  2,  4,  3,  1,  4,  3,  5, 10,  6, 10,  7,  5,  8,\n",
              "        4,  9,  5, 10,  4,  7,  6,  3,  8,  6,  9,  7,  3,  3,  8,  6,  6,\n",
              "        2, 10,  8,  2,  2,  9,  9,  4,  4,  4,  9,  3,  8,  3,  2,  6,  8,\n",
              "        4,  2,  5,  5,  8,  8,  8,  3,  5,  7,  6,  6, 10,  4,  6, 10,  4,\n",
              "       10,  9,  1,  1,  9,  1,  8,  7,  4,  1,  1,  1,  4,  8,  8,  9,  1,\n",
              "        9,  2, 10,  2,  3,  3,  5,  2,  2,  7,  7,  1,  1,  6,  5,  4, 10,\n",
              "        4,  2,  7,  8,  4,  1,  6,  2, 10,  1, 10,  8,  1,  6,  2,  3,  3,\n",
              "        4,  4,  1,  5,  1,  6,  2,  7, 10,  8,  2,  9, 10, 10,  7,  1,  6,\n",
              "        2,  3,  3,  2,  4, 10,  5,  9,  8,  9,  9, 10, 10,  8,  1,  4,  2,\n",
              "       10,  3,  8,  4,  9,  5,  6,  6,  2,  7,  7,  8,  7,  9, 10, 10,  1,\n",
              "        7,  4,  1,  8,  8,  7,  4,  8,  8,  2,  2, 10,  4,  9,  8,  7, 10,\n",
              "        4,  8,  5,  5,  2,  1,  8,  1,  7,  7,  4, 10,  5,  6, 10,  7,  9,\n",
              "       10,  8,  9,  6,  6,  7,  2,  3,  6,  1,  4,  6, 10,  1,  9,  2,  4,\n",
              "        1,  5, 10,  1,  4,  6,  3,  7,  6,  4,  1,  5,  3,  9,  8,  1,  9,\n",
              "        7,  2,  5,  7,  9,  7,  2,  5,  4,  3,  5,  4,  1,  4,  2,  2, 10,\n",
              "        1,  3,  2,  4,  8,  8,  8,  6,  7,  2,  3,  8, 10,  3,  4,  9,  1,\n",
              "        8, 10,  1,  6,  2,  6, 10,  9,  7, 10,  5,  1,  2,  8,  3,  6,  4,\n",
              "        9,  2,  7,  4,  7,  6,  7,  4,  6,  5,  1,  2,  1,  7,  1,  9,  9,\n",
              "        1,  1,  9,  3, 10,  4,  5, 10, 10,  3,  3,  2,  7,  4,  1,  6,  2,\n",
              "        2,  3,  8,  4, 10,  6,  5,  7,  3,  8,  3,  9, 10, 10,  4,  1,  1,\n",
              "        2,  2,  3,  5,  5,  4,  6,  4,  7, 10,  8,  6,  9,  3, 10, 10,  1,\n",
              "        4,  2,  7,  3,  6,  4,  8,  5,  2,  6,  3,  7,  2,  8,  3,  9,  5,\n",
              "       10,  7,  1,  8,  8,  4,  6,  7,  1,  7,  9,  6,  5,  8,  2,  7,  9,\n",
              "        7,  9,  8,  2,  8,  4,  4,  2,  3,  9,  5,  4, 10,  8,  5, 10,  4,\n",
              "        4,  9,  1,  7, 10,  7,  5, 10,  5,  1,  1,  7,  8,  4,  5,  2,  3,\n",
              "        3, 10,  8,  9,  4,  8,  5,  3,  2,  8,  7,  9,  6, 10,  1,  4,  7,\n",
              "        2,  2,  5, 10,  7,  4,  6,  2,  3,  2,  3,  1,  3,  7,  6,  7,  7,\n",
              "        2,  8,  4,  9,  5,  8,  6,  6,  4,  2, 10,  7,  2,  5,  2, 10,  6,\n",
              "        3, 10, 10,  4,  4,  6,  6, 10,  4,  2,  7, 10,  7,  5,  1,  2,  1,\n",
              "        1,  3,  1,  6,  1,  7,  3,  5, 10, 10,  9,  3,  9,  8, 10,  5,  3,\n",
              "       10,  3,  2,  6,  1,  8,  3,  3,  3,  7,  4,  8,  7,  3,  2,  9,  9,\n",
              "       10,  4,  7,  1,  4,  4, 10,  6,  4,  1,  3,  1,  2,  7,  1,  2,  6,\n",
              "        7,  5, 10,  1,  6, 10,  4,  4, 10,  5,  5,  8,  6,  7,  9,  2,  7,\n",
              "        3,  8,  5,  2,  7,  2,  4,  8,  5,  1,  7,  2, 10,  3,  2,  4,  8,\n",
              "        5,  4,  6,  9,  7,  4,  8,  8,  9,  1, 10,  4,  1,  5,  2,  6,  3,\n",
              "        8,  4,  3,  5,  7,  6, 10,  7,  2,  8,  7,  9,  7, 10],\n",
              "      dtype=uint8)"
            ]
          },
          "metadata": {},
          "execution_count": 248
        }
      ]
    },
    {
      "cell_type": "code",
      "source": [
        "train_labels.shape\n"
      ],
      "metadata": {
        "id": "Es5TT12SycBm",
        "colab": {
          "base_uri": "https://localhost:8080/"
        },
        "outputId": "f1bc8f31-80f3-474e-d4b2-39b8c9bf3636"
      },
      "execution_count": 249,
      "outputs": [
        {
          "output_type": "execute_result",
          "data": {
            "text/plain": [
              "(1000,)"
            ]
          },
          "metadata": {},
          "execution_count": 249
        }
      ]
    },
    {
      "cell_type": "code",
      "source": [
        "y_train = train_labels"
      ],
      "metadata": {
        "id": "1lVenoGb5xpw"
      },
      "execution_count": 250,
      "outputs": []
    },
    {
      "cell_type": "code",
      "source": [
        "y_train[0]"
      ],
      "metadata": {
        "colab": {
          "base_uri": "https://localhost:8080/"
        },
        "id": "ho8i-k-76OAN",
        "outputId": "30a11e9d-c225-4e9a-9d31-4788ac14f593"
      },
      "execution_count": 251,
      "outputs": [
        {
          "output_type": "execute_result",
          "data": {
            "text/plain": [
              "8"
            ]
          },
          "metadata": {},
          "execution_count": 251
        }
      ]
    },
    {
      "cell_type": "code",
      "source": [
        "test_samples.shape"
      ],
      "metadata": {
        "colab": {
          "base_uri": "https://localhost:8080/"
        },
        "id": "D3bZQdsi6Rmm",
        "outputId": "f331ac04-3849-4f6e-e1ab-207a2fe86778"
      },
      "execution_count": 252,
      "outputs": [
        {
          "output_type": "execute_result",
          "data": {
            "text/plain": [
              "(784, 5000)"
            ]
          },
          "metadata": {},
          "execution_count": 252
        }
      ]
    },
    {
      "cell_type": "code",
      "source": [
        "test_samples = test_samples.T\n",
        "x_test = np.reshape(test_samples, (5000, 28, 28))"
      ],
      "metadata": {
        "id": "VeshDuhY6aMt"
      },
      "execution_count": 253,
      "outputs": []
    },
    {
      "cell_type": "code",
      "source": [
        "x_test"
      ],
      "metadata": {
        "colab": {
          "base_uri": "https://localhost:8080/"
        },
        "id": "1gJT5W336qhT",
        "outputId": "aed6d3f5-5f4d-470b-a281-b8af7b0bd73e"
      },
      "execution_count": 254,
      "outputs": [
        {
          "output_type": "execute_result",
          "data": {
            "text/plain": [
              "array([[[0.00002352, 0.        , 0.50581123, ..., 0.        ,\n",
              "         0.        , 0.06640521],\n",
              "        [0.00000002, 0.        , 0.79021775, ..., 0.        ,\n",
              "         0.00000003, 0.58130774],\n",
              "        [0.        , 0.        , 0.        , ..., 0.        ,\n",
              "         0.02320033, 0.        ],\n",
              "        ...,\n",
              "        [0.        , 0.        , 0.        , ..., 0.        ,\n",
              "         0.        , 0.98351532],\n",
              "        [0.        , 0.        , 0.        , ..., 0.        ,\n",
              "         0.88396268, 0.        ],\n",
              "        [0.        , 0.        , 0.64499773, ..., 0.22671873,\n",
              "         0.09692939, 0.84257603]],\n",
              "\n",
              "       [[0.81171077, 0.        , 0.        , ..., 0.        ,\n",
              "         0.        , 0.04757896],\n",
              "        [0.        , 0.        , 0.        , ..., 0.        ,\n",
              "         0.        , 0.        ],\n",
              "        [0.        , 0.        , 0.        , ..., 0.        ,\n",
              "         0.        , 0.        ],\n",
              "        ...,\n",
              "        [0.        , 0.        , 0.        , ..., 0.        ,\n",
              "         0.        , 0.08582774],\n",
              "        [0.        , 0.        , 0.        , ..., 0.        ,\n",
              "         0.        , 0.        ],\n",
              "        [0.        , 0.        , 0.00006582, ..., 0.        ,\n",
              "         0.1140587 , 0.00005355]],\n",
              "\n",
              "       [[0.99141869, 0.        , 0.00006633, ..., 0.        ,\n",
              "         0.        , 0.45156152],\n",
              "        [0.0004926 , 0.        , 0.00010275, ..., 0.        ,\n",
              "         0.00005279, 0.        ],\n",
              "        [0.        , 0.        , 0.        , ..., 0.        ,\n",
              "         0.        , 0.        ],\n",
              "        ...,\n",
              "        [0.        , 0.        , 0.        , ..., 0.        ,\n",
              "         0.        , 0.2737398 ],\n",
              "        [0.        , 0.        , 0.        , ..., 0.        ,\n",
              "         0.        , 0.        ],\n",
              "        [0.        , 0.        , 0.02054801, ..., 0.        ,\n",
              "         0.66867977, 0.05365002]],\n",
              "\n",
              "       ...,\n",
              "\n",
              "       [[0.96318398, 0.        , 0.0000471 , ..., 0.        ,\n",
              "         0.        , 0.25742639],\n",
              "        [0.00018591, 0.        , 0.00001125, ..., 0.        ,\n",
              "         0.00000011, 0.        ],\n",
              "        [0.        , 0.        , 0.        , ..., 0.        ,\n",
              "         0.        , 0.        ],\n",
              "        ...,\n",
              "        [0.        , 0.        , 0.        , ..., 0.        ,\n",
              "         0.        , 0.06007477],\n",
              "        [0.        , 0.        , 0.        , ..., 0.        ,\n",
              "         0.        , 0.        ],\n",
              "        [0.        , 0.        , 0.00000001, ..., 0.        ,\n",
              "         0.29670893, 0.00630429]],\n",
              "\n",
              "       [[0.91632066, 0.        , 0.53911149, ..., 0.        ,\n",
              "         0.00019094, 0.00054684],\n",
              "        [0.00041595, 0.        , 0.        , ..., 0.        ,\n",
              "         0.        , 0.10448149],\n",
              "        [0.        , 0.        , 0.        , ..., 0.        ,\n",
              "         0.0001919 , 0.        ],\n",
              "        ...,\n",
              "        [0.        , 0.00015541, 0.        , ..., 0.        ,\n",
              "         0.        , 0.67448483],\n",
              "        [0.        , 0.        , 0.00001672, ..., 0.        ,\n",
              "         0.83421862, 0.        ],\n",
              "        [0.        , 0.        , 0.000338  , ..., 0.4831048 ,\n",
              "         0.24744506, 0.        ]],\n",
              "\n",
              "       [[0.03107871, 0.        , 0.        , ..., 0.00000004,\n",
              "         0.26654811, 0.00000002],\n",
              "        [0.        , 0.        , 0.49403156, ..., 0.        ,\n",
              "         0.80543689, 0.        ],\n",
              "        [0.        , 0.        , 0.00001452, ..., 0.        ,\n",
              "         0.00000003, 0.        ],\n",
              "        ...,\n",
              "        [0.        , 0.        , 0.        , ..., 0.        ,\n",
              "         0.        , 0.95481948],\n",
              "        [0.14248439, 0.        , 0.67300521, ..., 0.        ,\n",
              "         0.        , 0.        ],\n",
              "        [0.        , 0.        , 0.58703633, ..., 0.        ,\n",
              "         0.44129307, 0.49411784]]])"
            ]
          },
          "metadata": {},
          "execution_count": 254
        }
      ]
    },
    {
      "cell_type": "code",
      "source": [
        "import matplotlib.pyplot as plt\n",
        "\n",
        "plt.imshow(x_test[500\n",
        "                ],cmap=plt.cm.binary)\n",
        "plt.show()"
      ],
      "metadata": {
        "colab": {
          "base_uri": "https://localhost:8080/",
          "height": 265
        },
        "id": "whyRDitn6tkK",
        "outputId": "4435e11a-e0c3-436b-ec95-60e6c8979da8"
      },
      "execution_count": 255,
      "outputs": [
        {
          "output_type": "display_data",
          "data": {
            "text/plain": [
              "<Figure size 432x288 with 1 Axes>"
            ],
            "image/png": "[encoded data removed]"
          },
          "metadata": {
            "needs_background": "light"
          }
        }
      ]
    },
    {
      "cell_type": "code",
      "source": [
        "x_train.shape\n",
        "y_train.shape"
      ],
      "metadata": {
        "colab": {
          "base_uri": "https://localhost:8080/"
        },
        "id": "emXgcGnF0gGi",
        "outputId": "a0211691-abac-4d1c-e7d8-7895c7aa6546"
      },
      "execution_count": 256,
      "outputs": [
        {
          "output_type": "execute_result",
          "data": {
            "text/plain": [
              "(1000,)"
            ]
          },
          "metadata": {},
          "execution_count": 256
        }
      ]
    },
    {
      "cell_type": "code",
      "source": [
        "# sample 25 mnist digits from train dataset\n",
        "indexes = np.random.randint(0, x_train.shape[0], size=25)\n",
        "images = x_train[indexes]\n",
        "labels = y_train[indexes]\n",
        "\n",
        "\n",
        "# plot the 25 mnist digits\n",
        "plt.figure(figsize=(5,5))\n",
        "for i in range(len(indexes)):\n",
        "    plt.subplot(5, 5, i + 1)\n",
        "    image = images[i]\n",
        "    plt.imshow(image, cmap='gray')\n",
        "    plt.axis('off')\n",
        "    \n",
        "plt.show()\n",
        "plt.savefig(\"mnist-samples.png\")\n",
        "plt.close('all')"
      ],
      "metadata": {
        "colab": {
          "base_uri": "https://localhost:8080/",
          "height": 303
        },
        "id": "eyKZGVNq0_hk",
        "outputId": "7951bf2a-43b0-4832-d1f5-06f632103a50"
      },
      "execution_count": 257,
      "outputs": [
        {
          "output_type": "display_data",
          "data": {
            "text/plain": [
              "<Figure size 360x360 with 25 Axes>"
            ],
            "image/png": "[encoded data removed]"
          },
          "metadata": {
            "needs_background": "light"
          }
        }
      ]
    },
    {
      "cell_type": "code",
      "source": [
        "from keras.models import Sequential\n",
        "from keras.layers import Dense, Activation, Dropout\n",
        "from tensorflow.keras.utils import to_categorical"
      ],
      "metadata": {
        "id": "PNokYil-1KPi"
      },
      "execution_count": 258,
      "outputs": []
    },
    {
      "cell_type": "code",
      "source": [
        "# compute the number of labels\n",
        "num_labels = len(np.unique(y_train))\n",
        "num_labels"
      ],
      "metadata": {
        "colab": {
          "base_uri": "https://localhost:8080/"
        },
        "id": "G6W7IcCo1LXh",
        "outputId": "ff60a06b-6113-485f-e5a6-545c0f1f7dac"
      },
      "execution_count": 259,
      "outputs": [
        {
          "output_type": "execute_result",
          "data": {
            "text/plain": [
              "10"
            ]
          },
          "metadata": {},
          "execution_count": 259
        }
      ]
    },
    {
      "cell_type": "code",
      "source": [
        "# count the number of unique train labels\n",
        "unique, counts = np.unique(y_train, return_counts=True)\n",
        "print(\"Train labels: \", dict(zip(unique, counts)))\n"
      ],
      "metadata": {
        "colab": {
          "base_uri": "https://localhost:8080/"
        },
        "id": "FTCA-Qun1LhE",
        "outputId": "cac419cb-478b-41f0-e018-d73788bb135b"
      },
      "execution_count": 260,
      "outputs": [
        {
          "output_type": "stream",
          "name": "stdout",
          "text": [
            "Train labels:  {1: 113, 2: 108, 3: 93, 4: 115, 5: 88, 6: 80, 7: 107, 8: 101, 9: 89, 10: 106}\n"
          ]
        }
      ]
    },
    {
      "cell_type": "code",
      "source": [
        "y_train"
      ],
      "metadata": {
        "colab": {
          "base_uri": "https://localhost:8080/"
        },
        "id": "JD04b-Ml5RHT",
        "outputId": "4ed68f36-8581-462a-9cae-d13c22084990"
      },
      "execution_count": 261,
      "outputs": [
        {
          "output_type": "execute_result",
          "data": {
            "text/plain": [
              "array([ 8,  4,  5,  7,  2,  9,  2,  1, 10,  9,  1,  4,  2,  3,  8,  1,  3,\n",
              "       10,  7,  1,  2,  7,  8,  2, 10,  8,  7,  6,  6,  9,  9,  4,  5,  5,\n",
              "        9,  8,  4,  7,  5,  7,  7,  4,  9,  9, 10, 10,  5,  5,  1,  8,  9,\n",
              "        2,  1,  1,  2,  9,  6,  8,  2,  8,  6,  6, 10, 10,  5,  3,  6,  4,\n",
              "        8,  5,  7,  7,  1,  2,  1,  2,  3,  5,  9,  6,  4,  6,  1,  1,  7,\n",
              "        5,  4,  9,  4,  8,  2,  5,  4, 10,  3,  3,  1,  4,  7,  7,  8,  5,\n",
              "        4,  3,  3,  5, 10,  2,  1,  6,  3,  5,  9,  3,  2,  1,  9,  5,  5,\n",
              "        9,  1,  7,  5,  2,  5, 10,  7,  4,  2,  3, 10,  1,  2,  1,  5,  3,\n",
              "       10, 10,  5,  4,  9,  7, 10,  4,  1,  7,  8,  1,  4,  2,  5,  3,  4,\n",
              "        4,  1,  5,  3,  6,  6,  7,  4,  8,  3,  9,  6, 10,  3,  1,  2,  2,\n",
              "        9,  3, 10,  4,  2,  5,  2,  6,  8,  7,  5,  8,  8,  9,  4, 10,  4,\n",
              "        1,  6,  2,  4,  3,  1,  4,  1,  5,  1,  8,  5,  9,  9, 10,  1,  1,\n",
              "        2,  9,  8,  4, 10, 10,  6,  6, 10,  7,  8,  9,  3,  5,  7, 10,  9,\n",
              "        2,  7,  8, 10,  2,  7,  3,  1, 10,  7,  7,  3, 10,  2,  2,  3,  2,\n",
              "        4,  2,  6,  3,  8,  9,  1,  2,  1,  3,  9,  1,  3,  8,  4,  8,  6,\n",
              "        6,  2,  9,  3,  3,  7, 10,  2,  9,  8,  5,  1,  7,  1,  8,  4,  2,\n",
              "        1,  7,  7,  1, 10,  4,  5,  7,  8,  9, 10,  8,  4,  1,  1,  5,  1,\n",
              "        3,  7,  8,  6,  5,  7,  5,  9,  3,  1,  9,  8,  2,  8,  6,  2,  2,\n",
              "        3,  3,  8,  6,  7,  7,  8,  5,  3,  4, 10,  1,  3,  1, 10,  1,  5,\n",
              "        4,  5,  8,  8,  1,  4,  7,  1,  5,  4,  9,  7,  9,  2,  4,  9, 10,\n",
              "        1, 10,  1,  9,  1,  3,  9,  8,  9,  8, 10,  2,  8,  1,  4,  2,  5,\n",
              "        3,  4,  4,  9,  5, 10,  6,  7,  7,  5,  8,  1,  9,  4, 10,  9,  1,\n",
              "        7,  2,  9,  3,  6,  4,  3,  5,  6,  6,  7,  7, 10,  8,  4,  9, 10,\n",
              "       10,  4,  1,  9,  2,  4,  3,  1,  4,  3,  5, 10,  6, 10,  7,  5,  8,\n",
              "        4,  9,  5, 10,  4,  7,  6,  3,  8,  6,  9,  7,  3,  3,  8,  6,  6,\n",
              "        2, 10,  8,  2,  2,  9,  9,  4,  4,  4,  9,  3,  8,  3,  2,  6,  8,\n",
              "        4,  2,  5,  5,  8,  8,  8,  3,  5,  7,  6,  6, 10,  4,  6, 10,  4,\n",
              "       10,  9,  1,  1,  9,  1,  8,  7,  4,  1,  1,  1,  4,  8,  8,  9,  1,\n",
              "        9,  2, 10,  2,  3,  3,  5,  2,  2,  7,  7,  1,  1,  6,  5,  4, 10,\n",
              "        4,  2,  7,  8,  4,  1,  6,  2, 10,  1, 10,  8,  1,  6,  2,  3,  3,\n",
              "        4,  4,  1,  5,  1,  6,  2,  7, 10,  8,  2,  9, 10, 10,  7,  1,  6,\n",
              "        2,  3,  3,  2,  4, 10,  5,  9,  8,  9,  9, 10, 10,  8,  1,  4,  2,\n",
              "       10,  3,  8,  4,  9,  5,  6,  6,  2,  7,  7,  8,  7,  9, 10, 10,  1,\n",
              "        7,  4,  1,  8,  8,  7,  4,  8,  8,  2,  2, 10,  4,  9,  8,  7, 10,\n",
              "        4,  8,  5,  5,  2,  1,  8,  1,  7,  7,  4, 10,  5,  6, 10,  7,  9,\n",
              "       10,  8,  9,  6,  6,  7,  2,  3,  6,  1,  4,  6, 10,  1,  9,  2,  4,\n",
              "        1,  5, 10,  1,  4,  6,  3,  7,  6,  4,  1,  5,  3,  9,  8,  1,  9,\n",
              "        7,  2,  5,  7,  9,  7,  2,  5,  4,  3,  5,  4,  1,  4,  2,  2, 10,\n",
              "        1,  3,  2,  4,  8,  8,  8,  6,  7,  2,  3,  8, 10,  3,  4,  9,  1,\n",
              "        8, 10,  1,  6,  2,  6, 10,  9,  7, 10,  5,  1,  2,  8,  3,  6,  4,\n",
              "        9,  2,  7,  4,  7,  6,  7,  4,  6,  5,  1,  2,  1,  7,  1,  9,  9,\n",
              "        1,  1,  9,  3, 10,  4,  5, 10, 10,  3,  3,  2,  7,  4,  1,  6,  2,\n",
              "        2,  3,  8,  4, 10,  6,  5,  7,  3,  8,  3,  9, 10, 10,  4,  1,  1,\n",
              "        2,  2,  3,  5,  5,  4,  6,  4,  7, 10,  8,  6,  9,  3, 10, 10,  1,\n",
              "        4,  2,  7,  3,  6,  4,  8,  5,  2,  6,  3,  7,  2,  8,  3,  9,  5,\n",
              "       10,  7,  1,  8,  8,  4,  6,  7,  1,  7,  9,  6,  5,  8,  2,  7,  9,\n",
              "        7,  9,  8,  2,  8,  4,  4,  2,  3,  9,  5,  4, 10,  8,  5, 10,  4,\n",
              "        4,  9,  1,  7, 10,  7,  5, 10,  5,  1,  1,  7,  8,  4,  5,  2,  3,\n",
              "        3, 10,  8,  9,  4,  8,  5,  3,  2,  8,  7,  9,  6, 10,  1,  4,  7,\n",
              "        2,  2,  5, 10,  7,  4,  6,  2,  3,  2,  3,  1,  3,  7,  6,  7,  7,\n",
              "        2,  8,  4,  9,  5,  8,  6,  6,  4,  2, 10,  7,  2,  5,  2, 10,  6,\n",
              "        3, 10, 10,  4,  4,  6,  6, 10,  4,  2,  7, 10,  7,  5,  1,  2,  1,\n",
              "        1,  3,  1,  6,  1,  7,  3,  5, 10, 10,  9,  3,  9,  8, 10,  5,  3,\n",
              "       10,  3,  2,  6,  1,  8,  3,  3,  3,  7,  4,  8,  7,  3,  2,  9,  9,\n",
              "       10,  4,  7,  1,  4,  4, 10,  6,  4,  1,  3,  1,  2,  7,  1,  2,  6,\n",
              "        7,  5, 10,  1,  6, 10,  4,  4, 10,  5,  5,  8,  6,  7,  9,  2,  7,\n",
              "        3,  8,  5,  2,  7,  2,  4,  8,  5,  1,  7,  2, 10,  3,  2,  4,  8,\n",
              "        5,  4,  6,  9,  7,  4,  8,  8,  9,  1, 10,  4,  1,  5,  2,  6,  3,\n",
              "        8,  4,  3,  5,  7,  6, 10,  7,  2,  8,  7,  9,  7, 10],\n",
              "      dtype=uint8)"
            ]
          },
          "metadata": {},
          "execution_count": 261
        }
      ]
    },
    {
      "cell_type": "code",
      "source": [
        "# convert to one-hot vector\n",
        "y_train = to_categorical(y_train\n",
        "                         )"
      ],
      "metadata": {
        "id": "cvxbigTP1Lli"
      },
      "execution_count": 262,
      "outputs": []
    },
    {
      "cell_type": "code",
      "source": [
        "y_train[0]"
      ],
      "metadata": {
        "colab": {
          "base_uri": "https://localhost:8080/"
        },
        "id": "xxxI0VNG1LoX",
        "outputId": "42edbadc-c5c3-4015-cb05-cfee6c2da065"
      },
      "execution_count": 263,
      "outputs": [
        {
          "output_type": "execute_result",
          "data": {
            "text/plain": [
              "array([0., 0., 0., 0., 0., 0., 0., 0., 1., 0., 0.], dtype=float32)"
            ]
          },
          "metadata": {},
          "execution_count": 263
        }
      ]
    },
    {
      "cell_type": "code",
      "source": [
        "# image dimensions (assumed square)\n",
        "image_size = x_train.shape[1]\n",
        "input_size = image_size * image_size\n",
        "input_size"
      ],
      "metadata": {
        "colab": {
          "base_uri": "https://localhost:8080/"
        },
        "id": "rzJWlV581Lq8",
        "outputId": "257c47d5-1247-477d-c089-a455e694ef90"
      },
      "execution_count": 264,
      "outputs": [
        {
          "output_type": "execute_result",
          "data": {
            "text/plain": [
              "784"
            ]
          },
          "metadata": {},
          "execution_count": 264
        }
      ]
    },
    {
      "cell_type": "code",
      "source": [
        "# resize and normalize\n",
        "x_train = np.reshape(x_train, [-1, input_size])\n",
        "x_train = x_train.astype('float32') / 255\n",
        "x_test = np.reshape(x_test, [-1, input_size])\n",
        "x_test = x_test.astype('float32') / 255"
      ],
      "metadata": {
        "id": "2YDDSuvA1Ltr"
      },
      "execution_count": 265,
      "outputs": []
    },
    {
      "cell_type": "code",
      "source": [
        "# network parameters\n",
        "batch_size = 128\n",
        "hidden_units = 256\n",
        "dropout = 0.45"
      ],
      "metadata": {
        "id": "XxWS5DxB1LwC"
      },
      "execution_count": 266,
      "outputs": []
    },
    {
      "cell_type": "code",
      "source": [
        "# model is a 3-layer MLP with ReLU and dropout after each layer\n",
        "model = Sequential()\n",
        "model.add(Dense(hidden_units, input_dim=input_size))\n",
        "model.add(Activation('relu'))\n",
        "model.add(Dropout(dropout))\n",
        "model.add(Dense(hidden_units))\n",
        "model.add(Activation('relu'))\n",
        "model.add(Dropout(dropout))\n",
        "model.add(Dense(num_labels))\n",
        "model.add(Activation('softmax'))"
      ],
      "metadata": {
        "id": "eqWH7FnR1Ly4"
      },
      "execution_count": 267,
      "outputs": []
    },
    {
      "cell_type": "code",
      "source": [
        "model.summary()"
      ],
      "metadata": {
        "colab": {
          "base_uri": "https://localhost:8080/"
        },
        "id": "92cx5kMF2Pyx",
        "outputId": "4d5b312c-353a-4b8b-a011-5078f9292387"
      },
      "execution_count": 268,
      "outputs": [
        {
          "output_type": "stream",
          "name": "stdout",
          "text": [
            "Model: \"sequential_6\"\n",
            "_________________________________________________________________\n",
            " Layer (type)                Output Shape              Param #   \n",
            "=================================================================\n",
            " dense_18 (Dense)            (None, 256)               200960    \n",
            "                                                                 \n",
            " activation_15 (Activation)  (None, 256)               0         \n",
            "                                                                 \n",
            " dropout_10 (Dropout)        (None, 256)               0         \n",
            "                                                                 \n",
            " dense_19 (Dense)            (None, 256)               65792     \n",
            "                                                                 \n",
            " activation_16 (Activation)  (None, 256)               0         \n",
            "                                                                 \n",
            " dropout_11 (Dropout)        (None, 256)               0         \n",
            "                                                                 \n",
            " dense_20 (Dense)            (None, 10)                2570      \n",
            "                                                                 \n",
            " activation_17 (Activation)  (None, 10)                0         \n",
            "                                                                 \n",
            "=================================================================\n",
            "Total params: 269,322\n",
            "Trainable params: 269,322\n",
            "Non-trainable params: 0\n",
            "_________________________________________________________________\n"
          ]
        }
      ]
    },
    {
      "cell_type": "code",
      "source": [
        "from tensorflow.keras.utils import plot_model\n",
        "plot_model(model, to_file='mlp-mnist.png', show_shapes=True)"
      ],
      "metadata": {
        "colab": {
          "base_uri": "https://localhost:8080/",
          "height": 976
        },
        "id": "bd0T7iil2P2Z",
        "outputId": "80bc6e8c-c2ab-45d5-c562-d3f9eccca3f6"
      },
      "execution_count": 269,
      "outputs": [
        {
          "output_type": "execute_result",
          "data": {
            "text/plain": [
              "<IPython.core.display.Image object>"
            ],
            "image/png": "[encoded data removed]"
          },
          "metadata": {},
          "execution_count": 269
        }
      ]
    },
    {
      "cell_type": "code",
      "source": [
        "model.compile(loss='categorical_crossentropy', \n",
        "              optimizer='adam',\n",
        "              metrics=['accuracy'])"
      ],
      "metadata": {
        "id": "L9BQt9cG2P5P"
      },
      "execution_count": 270,
      "outputs": []
    },
    {
      "cell_type": "code",
      "source": [
        "y_train.shape"
      ],
      "metadata": {
        "colab": {
          "base_uri": "https://localhost:8080/"
        },
        "id": "_E3iOra12P8B",
        "outputId": "cb61343c-9d17-498e-b8d5-12beeb5b3344"
      },
      "execution_count": 271,
      "outputs": [
        {
          "output_type": "execute_result",
          "data": {
            "text/plain": [
              "(1000, 11)"
            ]
          },
          "metadata": {},
          "execution_count": 271
        }
      ]
    },
    {
      "cell_type": "code",
      "source": [
        "a = tf.keras.utils.to_categorical([1, 2, 3])"
      ],
      "metadata": {
        "id": "hw5MJKtT2P-c"
      },
      "execution_count": 273,
      "outputs": []
    },
    {
      "cell_type": "code",
      "source": [
        "a"
      ],
      "metadata": {
        "colab": {
          "base_uri": "https://localhost:8080/"
        },
        "id": "2uiB83Ku2QBO",
        "outputId": "817287b2-f61f-48d5-c647-b7dab3b54731"
      },
      "execution_count": 274,
      "outputs": [
        {
          "output_type": "execute_result",
          "data": {
            "text/plain": [
              "array([[0., 1., 0., 0.],\n",
              "       [0., 0., 1., 0.],\n",
              "       [0., 0., 0., 1.]], dtype=float32)"
            ]
          },
          "metadata": {},
          "execution_count": 274
        }
      ]
    },
    {
      "cell_type": "code",
      "source": [
        ""
      ],
      "metadata": {
        "id": "PTHPtJLY2QGk"
      },
      "execution_count": 271,
      "outputs": []
    },
    {
      "cell_type": "markdown",
      "source": [
        "https://www.kaggle.com/code/prashant111/mnist-deep-neural-network-with-keras/notebook\n",
        "https://www.milindsoorya.com/blog/handwritten-digits-classification\n"
      ],
      "metadata": {
        "id": "-Cv3JY95XhoJ"
      }
    },
    {
      "cell_type": "code",
      "source": [
        "\n",
        "\n"
      ],
      "metadata": {
        "id": "2c59aiJs6xcQ"
      },
      "execution_count": 271,
      "outputs": []
    },
    {
      "cell_type": "code",
      "source": [
        ""
      ],
      "metadata": {
        "id": "na8AX7s53NgY"
      },
      "execution_count": 271,
      "outputs": []
    },
    {
      "cell_type": "code",
      "source": [
        ""
      ],
      "metadata": {
        "id": "zsgMz6efBkOV"
      },
      "execution_count": 271,
      "outputs": []
    }
  ]
}